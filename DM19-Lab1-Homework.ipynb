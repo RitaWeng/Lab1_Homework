{
 "cells": [
  {
   "cell_type": "markdown",
   "metadata": {},
   "source": [
    "### Student Information\n",
    "Name: 翁瑞晴\n",
    "\n",
    "Student ID: 108065513\n",
    "\n",
    "GitHub ID: ritaweng"
   ]
  },
  {
   "cell_type": "markdown",
   "metadata": {},
   "source": [
    "---"
   ]
  },
  {
   "cell_type": "markdown",
   "metadata": {},
   "source": [
    "### Instructions"
   ]
  },
  {
   "cell_type": "markdown",
   "metadata": {},
   "source": [
    "1. First: do the **take home** exercises in the [DM19-Lab1-Master Repo](https://github.com/EvaArevalo/DM19-Lab1-Master). You may need to copy some cells from the Lab notebook to this notebook. __This part is worth 20% of your grade.__\n",
    "\n",
    "\n",
    "2. Second: follow the same process from the [DM19-Lab1-Master Repo](https://github.com/EvaArevalo/DM19-Lab1-Master) on **the new dataset**. You don't need to explain all details as we did (some **minimal comments** explaining your code are useful though).  __This part is worth 30% of your grade.__\n",
    "    - Download the [the new dataset](https://archive.ics.uci.edu/ml/datasets/Sentiment+Labelled+Sentences#). The dataset contains a `sentence` and `score` label. Read the specificiations of the dataset for details. \n",
    "    - You are allowed to use and modify the `helper` functions in the folder of the first lab session (notice they may need modification) or create your own.\n",
    "\n",
    "\n",
    "3. Third: please attempt the following tasks on **the new dataset**. __This part is worth 30% of your grade.__\n",
    "    - Generate meaningful **new data visualizations**. Refer to online resources and the Data Mining textbook for inspiration and ideas. \n",
    "    - Generate **TF-IDF features** from the tokens of each text. This will generating a document matrix, however, the weights will be computed differently (using the TF-IDF value of each word per document as opposed to the word frequency). Refer to this Sciki-learn [guide](http://scikit-learn.org/stable/modules/generated/sklearn.feature_extraction.text.TfidfVectorizer.html) .\n",
    "    - Implement a simple **Naive Bayes classifier** that automatically classifies the records into their categories. Use both the TF-IDF features and word frequency features to build two seperate classifiers. Comment on the differences.  Refer to this [article](https://hub.packtpub.com/implementing-3-naive-bayes-classifiers-in-scikit-learn/).\n",
    "\n",
    "\n",
    "4. Fourth: In the lab, we applied each step really quickly just to illustrate how to work with your dataset. There are somethings that are not ideal or the most efficient/meaningful. Each dataset can be habdled differently as well. What are those inefficent parts you noticed? How can you improve the Data preprocessing for these specific datasets? __This part is worth 10% of your grade.__\n",
    "\n",
    "\n",
    "5. Fifth: It's hard for us to follow if your code is messy :'(, so please **tidy up your notebook** and **add minimal comments where needed**. __This part is worth 10% of your grade.__\n",
    "\n",
    "\n",
    "You can submit your homework following these guidelines: [Git Intro & How to hand your homework](https://github.com/EvaArevalo/DM19-Lab1-Master/blob/master/Git%20Intro%20%26%20How%20to%20hand%20your%20homework.ipynb). Make sure to commit and save your changes to your repository __BEFORE the deadline (Oct. 29th 11:59 pm, Tuesday)__. "
   ]
  },
  {
   "cell_type": "code",
   "execution_count": 1,
   "metadata": {},
   "outputs": [],
   "source": [
    "### Begin Assignment Here\n",
    "import pandas as pd"
   ]
  },
  {
   "cell_type": "markdown",
   "metadata": {},
   "source": [
    "# First Part"
   ]
  },
  {
   "cell_type": "code",
   "execution_count": 2,
   "metadata": {},
   "outputs": [],
   "source": [
    "# necessary for when working with external scripts\n",
    "%load_ext autoreload\n",
    "%autoreload 2\n",
    "\n",
    "# categories\n",
    "categories = ['alt.atheism', 'soc.religion.christian', 'comp.graphics', 'sci.med']\n",
    "\n",
    "# obtain the documents containing the categories provided\n",
    "from sklearn.datasets import fetch_20newsgroups\n",
    "\n",
    "twenty_train = fetch_20newsgroups(subset='train', categories=categories, \\\n",
    "                                  shuffle=True, random_state=42)"
   ]
  },
  {
   "cell_type": "code",
   "execution_count": 3,
   "metadata": {},
   "outputs": [],
   "source": [
    "import pandas as pd\n",
    "\n",
    "# my functions\n",
    "import helpers.data_mining_helpers as dmh\n",
    "\n",
    "# construct dataframe from a list\n",
    "X = pd.DataFrame.from_records(dmh.format_rows(twenty_train), columns= ['text'])\n",
    "\n",
    "# add category to the dataframe\n",
    "X['category'] = twenty_train.target\n",
    "\n",
    "# add category label also\n",
    "X['category_name'] = X.category.apply(lambda t: dmh.format_labels(t, twenty_train))"
   ]
  },
  {
   "cell_type": "code",
   "execution_count": 4,
   "metadata": {},
   "outputs": [
    {
     "data": {
      "text/html": [
       "<div>\n",
       "<style scoped>\n",
       "    .dataframe tbody tr th:only-of-type {\n",
       "        vertical-align: middle;\n",
       "    }\n",
       "\n",
       "    .dataframe tbody tr th {\n",
       "        vertical-align: top;\n",
       "    }\n",
       "\n",
       "    .dataframe thead th {\n",
       "        text-align: right;\n",
       "    }\n",
       "</style>\n",
       "<table border=\"1\" class=\"dataframe\">\n",
       "  <thead>\n",
       "    <tr style=\"text-align: right;\">\n",
       "      <th></th>\n",
       "      <th>text</th>\n",
       "      <th>category</th>\n",
       "      <th>category_name</th>\n",
       "    </tr>\n",
       "  </thead>\n",
       "  <tbody>\n",
       "    <tr>\n",
       "      <td>0</td>\n",
       "      <td>From: sd345@city.ac.uk (Michael Collier) Subje...</td>\n",
       "      <td>1</td>\n",
       "      <td>comp.graphics</td>\n",
       "    </tr>\n",
       "    <tr>\n",
       "      <td>1</td>\n",
       "      <td>From: ani@ms.uky.edu (Aniruddha B. Deglurkar) ...</td>\n",
       "      <td>1</td>\n",
       "      <td>comp.graphics</td>\n",
       "    </tr>\n",
       "    <tr>\n",
       "      <td>2</td>\n",
       "      <td>From: djohnson@cs.ucsd.edu (Darin Johnson) Sub...</td>\n",
       "      <td>3</td>\n",
       "      <td>soc.religion.christian</td>\n",
       "    </tr>\n",
       "    <tr>\n",
       "      <td>3</td>\n",
       "      <td>From: s0612596@let.rug.nl (M.M. Zwart) Subject...</td>\n",
       "      <td>3</td>\n",
       "      <td>soc.religion.christian</td>\n",
       "    </tr>\n",
       "    <tr>\n",
       "      <td>4</td>\n",
       "      <td>From: stanly@grok11.columbiasc.ncr.com (stanly...</td>\n",
       "      <td>3</td>\n",
       "      <td>soc.religion.christian</td>\n",
       "    </tr>\n",
       "    <tr>\n",
       "      <td>...</td>\n",
       "      <td>...</td>\n",
       "      <td>...</td>\n",
       "      <td>...</td>\n",
       "    </tr>\n",
       "    <tr>\n",
       "      <td>2252</td>\n",
       "      <td>From: roos@Operoni.Helsinki.FI (Christophe Roo...</td>\n",
       "      <td>2</td>\n",
       "      <td>sci.med</td>\n",
       "    </tr>\n",
       "    <tr>\n",
       "      <td>2253</td>\n",
       "      <td>From: mhollowa@ic.sunysb.edu (Michael Holloway...</td>\n",
       "      <td>2</td>\n",
       "      <td>sci.med</td>\n",
       "    </tr>\n",
       "    <tr>\n",
       "      <td>2254</td>\n",
       "      <td>From: sasghm@theseus.unx.sas.com (Gary Merrill...</td>\n",
       "      <td>2</td>\n",
       "      <td>sci.med</td>\n",
       "    </tr>\n",
       "    <tr>\n",
       "      <td>2255</td>\n",
       "      <td>From: Dan Wallach &lt;dwallach@cs.berkeley.edu&gt; S...</td>\n",
       "      <td>2</td>\n",
       "      <td>sci.med</td>\n",
       "    </tr>\n",
       "    <tr>\n",
       "      <td>2256</td>\n",
       "      <td>From: dyer@spdcc.com (Steve Dyer) Subject: Re:...</td>\n",
       "      <td>2</td>\n",
       "      <td>sci.med</td>\n",
       "    </tr>\n",
       "  </tbody>\n",
       "</table>\n",
       "<p>2257 rows × 3 columns</p>\n",
       "</div>"
      ],
      "text/plain": [
       "                                                   text  category  \\\n",
       "0     From: sd345@city.ac.uk (Michael Collier) Subje...         1   \n",
       "1     From: ani@ms.uky.edu (Aniruddha B. Deglurkar) ...         1   \n",
       "2     From: djohnson@cs.ucsd.edu (Darin Johnson) Sub...         3   \n",
       "3     From: s0612596@let.rug.nl (M.M. Zwart) Subject...         3   \n",
       "4     From: stanly@grok11.columbiasc.ncr.com (stanly...         3   \n",
       "...                                                 ...       ...   \n",
       "2252  From: roos@Operoni.Helsinki.FI (Christophe Roo...         2   \n",
       "2253  From: mhollowa@ic.sunysb.edu (Michael Holloway...         2   \n",
       "2254  From: sasghm@theseus.unx.sas.com (Gary Merrill...         2   \n",
       "2255  From: Dan Wallach <dwallach@cs.berkeley.edu> S...         2   \n",
       "2256  From: dyer@spdcc.com (Steve Dyer) Subject: Re:...         2   \n",
       "\n",
       "               category_name  \n",
       "0              comp.graphics  \n",
       "1              comp.graphics  \n",
       "2     soc.religion.christian  \n",
       "3     soc.religion.christian  \n",
       "4     soc.religion.christian  \n",
       "...                      ...  \n",
       "2252                 sci.med  \n",
       "2253                 sci.med  \n",
       "2254                 sci.med  \n",
       "2255                 sci.med  \n",
       "2256                 sci.med  \n",
       "\n",
       "[2257 rows x 3 columns]"
      ]
     },
     "execution_count": 4,
     "metadata": {},
     "output_type": "execute_result"
    }
   ],
   "source": [
    "X"
   ]
  },
  {
   "cell_type": "markdown",
   "metadata": {},
   "source": [
    "# ** >>> Exercise 2 (take home):**\n",
    "Experiment with other querying techniques using pandas dataframes. Refer to their documentation for more information."
   ]
  },
  {
   "cell_type": "code",
   "execution_count": 5,
   "metadata": {},
   "outputs": [
    {
     "data": {
      "text/plain": [
       "10    From: anasaz!karl@anasazi.com (Karl Dussik) Su...\n",
       "12    From: I3150101@dbstu1.rz.tu-bs.de (Benedikt Ro...\n",
       "14    From: sloan@cis.uab.edu (Kenneth Sloan) Subjec...\n",
       "16    From: texx@ossi.com (Robert \"Texx\" Woodworth) ...\n",
       "18    From: tom_milligan@rainbow.mentorg.com Subject...\n",
       "20    From: dotsonm@dmapub.dma.org (Mark Dotson) Sub...\n",
       "Name: text, dtype: object"
      ]
     },
     "execution_count": 5,
     "metadata": {},
     "output_type": "execute_result"
    }
   ],
   "source": [
    "X.loc[10:20:2,'text']"
   ]
  },
  {
   "cell_type": "markdown",
   "metadata": {},
   "source": [
    "# >>> Exercise 5 (take home)\n",
    "There is an old saying that goes, \"The devil is in the details.\" When we are working with extremely large data, it's difficult to check records one by one (as we have been doing so far). And also, we don't even know what kind of missing values we are facing. Thus, \"debugging\" skills get sharper as we spend more time solving bugs. Let's focus on a different method to check for missing values and the kinds of missing values you may encounter. It's not easy to check for missing values as you will find out in a minute.\n",
    "\n",
    "Please check the data and the process below, describe what you observe and why it happened.\n",
    "𝐻𝑖𝑛𝑡  : why .isnull() didn't work?"
   ]
  },
  {
   "cell_type": "code",
   "execution_count": 6,
   "metadata": {},
   "outputs": [
    {
     "data": {
      "text/html": [
       "<div>\n",
       "<style scoped>\n",
       "    .dataframe tbody tr th:only-of-type {\n",
       "        vertical-align: middle;\n",
       "    }\n",
       "\n",
       "    .dataframe tbody tr th {\n",
       "        vertical-align: top;\n",
       "    }\n",
       "\n",
       "    .dataframe thead th {\n",
       "        text-align: right;\n",
       "    }\n",
       "</style>\n",
       "<table border=\"1\" class=\"dataframe\">\n",
       "  <thead>\n",
       "    <tr style=\"text-align: right;\">\n",
       "      <th></th>\n",
       "      <th>id</th>\n",
       "      <th>missing_example</th>\n",
       "    </tr>\n",
       "  </thead>\n",
       "  <tbody>\n",
       "    <tr>\n",
       "      <td>0</td>\n",
       "      <td>A</td>\n",
       "      <td>NaN</td>\n",
       "    </tr>\n",
       "    <tr>\n",
       "      <td>1</td>\n",
       "      <td>B</td>\n",
       "      <td>NaN</td>\n",
       "    </tr>\n",
       "    <tr>\n",
       "      <td>2</td>\n",
       "      <td>C</td>\n",
       "      <td>NaN</td>\n",
       "    </tr>\n",
       "    <tr>\n",
       "      <td>3</td>\n",
       "      <td>D</td>\n",
       "      <td>None</td>\n",
       "    </tr>\n",
       "    <tr>\n",
       "      <td>4</td>\n",
       "      <td>E</td>\n",
       "      <td>None</td>\n",
       "    </tr>\n",
       "    <tr>\n",
       "      <td>5</td>\n",
       "      <td>F</td>\n",
       "      <td></td>\n",
       "    </tr>\n",
       "  </tbody>\n",
       "</table>\n",
       "</div>"
      ],
      "text/plain": [
       "  id missing_example\n",
       "0  A             NaN\n",
       "1  B             NaN\n",
       "2  C             NaN\n",
       "3  D            None\n",
       "4  E            None\n",
       "5  F                "
      ]
     },
     "execution_count": 6,
     "metadata": {},
     "output_type": "execute_result"
    }
   ],
   "source": [
    "import numpy as np\n",
    "\n",
    "NA_dict = [{ 'id': 'A', 'missing_example': np.nan },\n",
    "           { 'id': 'B'                    },\n",
    "           { 'id': 'C', 'missing_example': 'NaN'  },\n",
    "           { 'id': 'D', 'missing_example': 'None' },\n",
    "           { 'id': 'E', 'missing_example':  None  },\n",
    "           { 'id': 'F', 'missing_example': ''     }]\n",
    "\n",
    "NA_df = pd.DataFrame(NA_dict, columns = ['id','missing_example'])\n",
    "NA_df"
   ]
  },
  {
   "cell_type": "code",
   "execution_count": 7,
   "metadata": {},
   "outputs": [
    {
     "data": {
      "text/plain": [
       "0     True\n",
       "1     True\n",
       "2    False\n",
       "3    False\n",
       "4     True\n",
       "5    False\n",
       "Name: missing_example, dtype: bool"
      ]
     },
     "execution_count": 7,
     "metadata": {},
     "output_type": "execute_result"
    }
   ],
   "source": [
    "NA_df['missing_example'].isnull()"
   ]
  },
  {
   "cell_type": "markdown",
   "metadata": {},
   "source": [
    "# Answer here\n",
    "因為在id 5中 儲存的是空字串，但空字串也是字串，因此isnull function回報為True，仍然認為格子中有東西。\n",
    "B 和 C cell中顯示出來的都是NaN，但儲存方式不一樣，B中是真的沒有東西，Ｃ是存了一個叫做'NaN'的字串"
   ]
  },
  {
   "cell_type": "markdown",
   "metadata": {},
   "source": [
    "# >>> Exercise 6 (take home):\n",
    "Notice any changes to the X dataframe? What are they? Report every change you noticed as compared to the previous state of X. Feel free to query and look more closely at the dataframe for these changes.\n",
    "\n"
   ]
  },
  {
   "cell_type": "markdown",
   "metadata": {},
   "source": [
    "#Answer here\n",
    "隨機取樣1000個data之後，data數量變少了(只有1000個)"
   ]
  },
  {
   "cell_type": "markdown",
   "metadata": {},
   "source": [
    "# >>> **Exercise 8 (take home):** \n",
    "We can also do a side-by-side comparison of the distribution between the two datasets, but maybe you can try that as an excerise. Below we show you an snapshot of the type of chart we are looking for. "
   ]
  },
  {
   "cell_type": "markdown",
   "metadata": {},
   "source": [
    "![alt txt](https://i.imgur.com/9eO431H.png)"
   ]
  },
  {
   "cell_type": "code",
   "execution_count": 8,
   "metadata": {},
   "outputs": [],
   "source": [
    "import matplotlib.pyplot as plt\n",
    "%matplotlib inline"
   ]
  },
  {
   "cell_type": "markdown",
   "metadata": {},
   "source": [
    "### Sampling"
   ]
  },
  {
   "cell_type": "code",
   "execution_count": 9,
   "metadata": {},
   "outputs": [],
   "source": [
    "X_sample = X.sample(n=1000)"
   ]
  },
  {
   "cell_type": "code",
   "execution_count": 10,
   "metadata": {},
   "outputs": [
    {
     "data": {
      "text/html": [
       "<div>\n",
       "<style scoped>\n",
       "    .dataframe tbody tr th:only-of-type {\n",
       "        vertical-align: middle;\n",
       "    }\n",
       "\n",
       "    .dataframe tbody tr th {\n",
       "        vertical-align: top;\n",
       "    }\n",
       "\n",
       "    .dataframe thead th {\n",
       "        text-align: right;\n",
       "    }\n",
       "</style>\n",
       "<table border=\"1\" class=\"dataframe\">\n",
       "  <thead>\n",
       "    <tr style=\"text-align: right;\">\n",
       "      <th></th>\n",
       "      <th>text</th>\n",
       "      <th>category</th>\n",
       "      <th>category_name</th>\n",
       "    </tr>\n",
       "  </thead>\n",
       "  <tbody>\n",
       "    <tr>\n",
       "      <td>1890</td>\n",
       "      <td>From: nfotis@ntua.gr (Nick C. Fotis) Subject: ...</td>\n",
       "      <td>1</td>\n",
       "      <td>comp.graphics</td>\n",
       "    </tr>\n",
       "    <tr>\n",
       "      <td>1189</td>\n",
       "      <td>From: sun075!Gerry.Palo@uunet.uu.net (Gerry Pa...</td>\n",
       "      <td>3</td>\n",
       "      <td>soc.religion.christian</td>\n",
       "    </tr>\n",
       "    <tr>\n",
       "      <td>2168</td>\n",
       "      <td>From: aa888@freenet.carleton.ca (Mark Baker) S...</td>\n",
       "      <td>3</td>\n",
       "      <td>soc.religion.christian</td>\n",
       "    </tr>\n",
       "    <tr>\n",
       "      <td>1889</td>\n",
       "      <td>From: bil@okcforum.osrhe.edu (Bill Conner) Sub...</td>\n",
       "      <td>0</td>\n",
       "      <td>alt.atheism</td>\n",
       "    </tr>\n",
       "  </tbody>\n",
       "</table>\n",
       "</div>"
      ],
      "text/plain": [
       "                                                   text  category  \\\n",
       "1890  From: nfotis@ntua.gr (Nick C. Fotis) Subject: ...         1   \n",
       "1189  From: sun075!Gerry.Palo@uunet.uu.net (Gerry Pa...         3   \n",
       "2168  From: aa888@freenet.carleton.ca (Mark Baker) S...         3   \n",
       "1889  From: bil@okcforum.osrhe.edu (Bill Conner) Sub...         0   \n",
       "\n",
       "               category_name  \n",
       "1890           comp.graphics  \n",
       "1189  soc.religion.christian  \n",
       "2168  soc.religion.christian  \n",
       "1889             alt.atheism  "
      ]
     },
     "execution_count": 10,
     "metadata": {},
     "output_type": "execute_result"
    }
   ],
   "source": [
    "X_sample[0:4]"
   ]
  },
  {
   "cell_type": "code",
   "execution_count": 11,
   "metadata": {},
   "outputs": [
    {
     "name": "stdout",
     "output_type": "stream",
     "text": [
      "soc.religion.christian    287\n",
      "comp.graphics             258\n",
      "sci.med                   238\n",
      "alt.atheism               217\n",
      "Name: category_name, dtype: int64\n"
     ]
    }
   ],
   "source": [
    "print(X_sample.category_name.value_counts())"
   ]
  },
  {
   "cell_type": "code",
   "execution_count": 12,
   "metadata": {},
   "outputs": [
    {
     "name": "stdout",
     "output_type": "stream",
     "text": [
      "soc.religion.christian    599\n",
      "sci.med                   594\n",
      "comp.graphics             584\n",
      "alt.atheism               480\n",
      "Name: category_name, dtype: int64\n"
     ]
    }
   ],
   "source": [
    "print(X.category_name.value_counts())"
   ]
  },
  {
   "cell_type": "code",
   "execution_count": 13,
   "metadata": {},
   "outputs": [
    {
     "data": {
      "text/plain": [
       "<matplotlib.axes._subplots.AxesSubplot at 0x1214765f8>"
      ]
     },
     "execution_count": 13,
     "metadata": {},
     "output_type": "execute_result"
    },
    {
     "data": {
      "image/png": "[encoded data removed]",
      "text/plain": [
       "<Figure size 576x432 with 1 Axes>"
      ]
     },
     "metadata": {
      "needs_background": "light"
     },
     "output_type": "display_data"
    }
   ],
   "source": [
    "#Answer here\n",
    "pd_ori = pd.DataFrame({'category':X.category_name.value_counts().index, 'X_original':X.category_name.value_counts().values})\n",
    "pd_ori = pd_ori.set_index('category')\n",
    "pd_sampling = pd.DataFrame({'category':X_sample.category_name.value_counts().index, 'X_sample':X_sample.category_name.value_counts().values})\n",
    "pd_sampling = pd_sampling.set_index('category')\n",
    "pd_all = pd.merge(pd_ori, pd_sampling, on = 'category')\n",
    "\n",
    "#plot pd_all\n",
    "upper_bound = max(X.category.value_counts())+100\n",
    "pd_all.plot(kind = 'bar', title = 'Category distribution', ylim = [0, upper_bound], rot = 0, fontsize = 12, figsize = (8,6))"
   ]
  },
  {
   "cell_type": "markdown",
   "metadata": {},
   "source": [
    "# **>>> Exercise 10 (take home):**\n",
    "We said that the `1` at the beginning of the fifth record represents the `00` term. Notice that there is another 1 in the same record. Can you provide code that can verify what word this 1 represents from the vocabulary. Try to do this as efficient as possible."
   ]
  },
  {
   "cell_type": "code",
   "execution_count": 17,
   "metadata": {
    "scrolled": true
   },
   "outputs": [],
   "source": [
    "from sklearn.feature_extraction.text import CountVectorizer\n",
    "\n",
    "count_vect = CountVectorizer()\n",
    "X_counts = count_vect.fit_transform(X.text)\n",
    "analyze = count_vect.build_analyzer()\n",
    "count_vect.get_feature_names()[0:38]\n",
    "#X_counts[0:5, 0:100].toarray()\n",
    "X_array = X_counts[4:5, 0:50].toarray()\n",
    "#X_array"
   ]
  },
  {
   "cell_type": "markdown",
   "metadata": {},
   "source": [
    "### Example"
   ]
  },
  {
   "cell_type": "code",
   "execution_count": 18,
   "metadata": {
    "scrolled": false
   },
   "outputs": [
    {
     "name": "stdout",
     "output_type": "stream",
     "text": [
      "['dog cat fish', 'dog cat cat', 'fish bird', 'bird']\n",
      "['bird', 'cat', 'dog', 'fish']\n",
      "{'dog': 2, 'cat': 1, 'fish': 3, 'bird': 0}\n",
      "  (0, 2)\t1\n",
      "  (0, 1)\t1\n",
      "  (0, 3)\t1\n",
      "  (1, 2)\t1\n",
      "  (1, 1)\t2\n",
      "  (2, 3)\t1\n",
      "  (2, 0)\t1\n",
      "  (3, 0)\t1\n",
      "[[0 1 1 1]\n",
      " [0 2 1 0]\n",
      " [1 0 0 1]\n",
      " [1 0 0 0]]\n",
      "[2 3 2 2]\n"
     ]
    }
   ],
   "source": [
    "#from sklearn.feature_extraction.text import CountVectorizer\n",
    "texts=[\"dog cat fish\",\"dog cat cat\",\"fish bird\", 'bird'] # “dog cat fish” 為輸入列表元素,即代表一個文章的字串\n",
    "cv = CountVectorizer()#建立詞袋資料結構\n",
    "cv_fit=cv.fit_transform(texts)\n",
    "print(texts)\n",
    "print(cv.get_feature_names())    #['bird', 'cat', 'dog', 'fish'] 列表形式呈現文章生成的詞典\n",
    "\n",
    "print(cv.vocabulary_)      # {‘dog’:2,'cat':1,'fish':3,'bird':0} 字典形式呈現，key：詞，value:詞在字典中的位置\n",
    "\n",
    "print(cv_fit)\n",
    "#（0,3）1   第0個列表元素，**詞典中索引為3的元素**， 詞頻\n",
    "\n",
    "print(cv_fit.toarray()) #.toarray() 是將結果轉化為稀疏矩陣矩陣的表示方式；\n",
    "#[[0 1 1 1]\n",
    "# [0 2 1 0]\n",
    "# [1 0 0 1]\n",
    "# [1 0 0 0]]\n",
    "print(cv_fit.toarray().sum(axis=0))  #每個詞在所有文件中的詞頻\n",
    "#[2 3 2 2]\n"
   ]
  },
  {
   "cell_type": "markdown",
   "metadata": {},
   "source": [
    "### MY ANSWER"
   ]
  },
  {
   "cell_type": "code",
   "execution_count": 19,
   "metadata": {},
   "outputs": [
    {
     "name": "stdout",
     "output_type": "stream",
     "text": [
      "00\n",
      "01\n"
     ]
    }
   ],
   "source": [
    "#Answer here\n",
    "for i in X_array:\n",
    "    for j in range(len(i)):\n",
    "        if i[j]==1:\n",
    "            print(count_vect.get_feature_names()[j])"
   ]
  },
  {
   "cell_type": "markdown",
   "metadata": {},
   "source": [
    "# **>>> Exercise 11 (take home):** \n",
    "From the chart above, we can see how sparse the term-document matrix is; i.e., there is only one terms with frequency of `1` in the subselection of the matrix. By the way, you may have noticed that we only selected 20 articles and 20 terms to plot the histrogram. As an excersise you can try to modify the code above to plot the entire term-document matrix or just a sample of it. How would you do this efficiently? Remember there is a lot of words in the vocab. Report below what methods you would use to get a nice and useful visualization"
   ]
  },
  {
   "cell_type": "code",
   "execution_count": 20,
   "metadata": {},
   "outputs": [],
   "source": [
    "size_ = 1000\n",
    "plot_x = [\"term_\"+str(i) for i in count_vect.get_feature_names()[0:size_]]\n",
    "plot_y = [\"doc_\"+ str(i) for i in list(X.index)[0:size_]]\n",
    "plot_z = X_counts[0:size_, 0:size_].toarray()"
   ]
  },
  {
   "cell_type": "code",
   "execution_count": 21,
   "metadata": {},
   "outputs": [
    {
     "data": {
      "image/png": "[encoded data removed]",
      "text/plain": [
       "<Figure size 648x504 with 2 Axes>"
      ]
     },
     "metadata": {
      "needs_background": "light"
     },
     "output_type": "display_data"
    }
   ],
   "source": [
    "#Answer here\n",
    "#透過排序集中有價值的資訊在相近的區塊，減少視覺搜尋的時間\n",
    "\n",
    "import seaborn as sns\n",
    "\n",
    "df_todraw = pd.DataFrame(plot_z, columns = plot_x, index = plot_y)\n",
    "masked = np.ones((size_, size_), dtype=bool)\n",
    "for i in range(size_):\n",
    "    for j in range(size_):\n",
    "        if plot_z[i][j] == 1:\n",
    "            masked[i][j] = False\n",
    "plt.subplots(figsize=(9, 7))\n",
    "ax = sns.heatmap(df_todraw,\n",
    "                 cmap=\"PuRd\",\n",
    "                 vmin=0, vmax=1, annot=True, mask=masked)"
   ]
  },
  {
   "cell_type": "markdown",
   "metadata": {},
   "source": [
    "### >>> Exercise 12 (take home):\n",
    "Please try to reduce the dimension to 3, and plot the result use 3-D plot. Use at least 3 different angle (camera position) to check your result and describe what you found.\n",
    "\n",
    "$Hint$: you can refer to Axes3D in the documentation."
   ]
  },
  {
   "cell_type": "code",
   "execution_count": 22,
   "metadata": {},
   "outputs": [],
   "source": [
    "#Answer here\n",
    "from sklearn.decomposition import PCA\n",
    "X_reduced = PCA(n_components = 3).fit_transform(X_counts.toarray())\n",
    "\n",
    "col = ['coral', 'blue', 'black', 'm']"
   ]
  },
  {
   "cell_type": "code",
   "execution_count": 23,
   "metadata": {},
   "outputs": [
    {
     "data": {
      "image/png": "[encoded data removed]",
      "text/plain": [
       "<Figure size 576x432 with 1 Axes>"
      ]
     },
     "metadata": {
      "needs_background": "light"
     },
     "output_type": "display_data"
    }
   ],
   "source": [
    "#plot\n",
    "from mpl_toolkits.mplot3d import Axes3D\n",
    "\n",
    "fig = plt.figure(figsize=(8,6))\n",
    "ax = Axes3D(fig)\n",
    "\n",
    "for c, category in zip(col, categories):\n",
    "    xs = X_reduced[X['category_name'] == category].T[0]\n",
    "    ys = X_reduced[X['category_name'] == category].T[1]\n",
    "    zs = X_reduced[X['category_name'] == category].T[2]\n",
    "    \n",
    "    ax.scatter(xs, ys, zs, c = c, marker='x')\n",
    "\n",
    "\n",
    "ax.grid(color='gray', linestyle=':', linewidth=2, alpha=0.2)\n",
    "ax.set_xlabel('\\nX Label')\n",
    "ax.set_ylabel('\\nY Label')\n",
    "ax.set_zlabel('\\nZ Label')\n",
    "ax.view_init(20, 30)\n",
    "plt.show()"
   ]
  },
  {
   "cell_type": "code",
   "execution_count": 24,
   "metadata": {
    "scrolled": false
   },
   "outputs": [
    {
     "data": {
      "image/png": "[encoded data removed]",
      "text/plain": [
       "<Figure size 576x432 with 1 Axes>"
      ]
     },
     "metadata": {
      "needs_background": "light"
     },
     "output_type": "display_data"
    }
   ],
   "source": [
    "fig = plt.figure(figsize=(8,6))\n",
    "ax = Axes3D(fig)\n",
    "\n",
    "for c, category in zip(col, categories):\n",
    "    xs = X_reduced[X['category_name'] == category].T[0]\n",
    "    ys = X_reduced[X['category_name'] == category].T[1]\n",
    "    zs = X_reduced[X['category_name'] == category].T[2]\n",
    "    \n",
    "    ax.scatter(xs, ys, zs, c = c, marker='x')\n",
    "\n",
    "\n",
    "ax.grid(color='gray', linestyle=':', linewidth=2, alpha=0.2)\n",
    "ax.set_xlabel('\\nX Label')\n",
    "ax.set_ylabel('\\nY Label')\n",
    "ax.set_zlabel('\\nZ Label')\n",
    "ax.view_init(30, 120)\n",
    "plt.show()"
   ]
  },
  {
   "cell_type": "code",
   "execution_count": 25,
   "metadata": {},
   "outputs": [
    {
     "data": {
      "image/png": "[encoded data removed]",
      "text/plain": [
       "<Figure size 576x432 with 1 Axes>"
      ]
     },
     "metadata": {
      "needs_background": "light"
     },
     "output_type": "display_data"
    }
   ],
   "source": [
    "fig = plt.figure(figsize=(8,6))\n",
    "ax = Axes3D(fig)\n",
    "\n",
    "for c, category in zip(col, categories):\n",
    "    xs = X_reduced[X['category_name'] == category].T[0]\n",
    "    ys = X_reduced[X['category_name'] == category].T[1]\n",
    "    zs = X_reduced[X['category_name'] == category].T[2]\n",
    "    \n",
    "    ax.scatter(xs, ys, zs, c = c, marker='x')\n",
    "\n",
    "\n",
    "ax.grid(color='gray', linestyle=':', linewidth=2, alpha=0.2)\n",
    "ax.set_xlabel('\\nX Label')\n",
    "ax.set_ylabel('\\nY Label')\n",
    "ax.set_zlabel('\\nZ Label')\n",
    "ax.view_init(-60, 120)\n",
    "plt.show()"
   ]
  },
  {
   "cell_type": "code",
   "execution_count": 26,
   "metadata": {},
   "outputs": [],
   "source": [
    "#描述"
   ]
  },
  {
   "cell_type": "markdown",
   "metadata": {},
   "source": [
    "### >>> **Exercise 13 (take home):**\n",
    "If you want a nicer interactive visualization here, I would encourage you try to install and use plotly to achieve this."
   ]
  },
  {
   "cell_type": "code",
   "execution_count": 158,
   "metadata": {},
   "outputs": [
    {
     "data": {
      "application/vnd.plotly.v1+json": {
       "config": {
        "plotlyServerURL": "https://plot.ly"
       },
       "data": [
        {
         "type": "bar",
         "x": [
          "00",
          "10",
          "100",
          "11",
          "12",
          "13",
          "15",
          "15g",
          "15pm",
          "17",
          "18",
          "18th",
          "1928",
          "1947",
          "1948",
          "1949",
          "1971",
          "1973",
          "1979",
          "1980",
          "1986",
          "1995",
          "1998",
          "20",
          "2000",
          "2005",
          "2006",
          "2007",
          "20th",
          "2160",
          "23",
          "24",
          "25",
          "2mp",
          "30",
          "30s",
          "325",
          "35",
          "350",
          "375"
         ],
         "y": [
          134,
          92,
          1,
          2,
          1,
          3,
          1,
          1,
          1,
          1,
          2,
          1,
          1,
          3,
          1,
          1,
          1,
          2,
          1,
          3,
          1,
          2,
          1,
          1,
          1,
          2,
          1,
          1,
          1,
          1,
          1,
          1,
          1,
          1,
          5,
          1,
          13,
          95,
          4,
          1
         ]
        }
       ],
       "layout": {
        "template": {
         "data": {
          "bar": [
           {
            "error_x": {
             "color": "#2a3f5f"
            },
            "error_y": {
             "color": "#2a3f5f"
            },
            "marker": {
             "line": {
              "color": "#E5ECF6",
              "width": 0.5
             }
            },
            "type": "bar"
           }
          ],
          "barpolar": [
           {
            "marker": {
             "line": {
              "color": "#E5ECF6",
              "width": 0.5
             }
            },
            "type": "barpolar"
           }
          ],
          "carpet": [
           {
            "aaxis": {
             "endlinecolor": "#2a3f5f",
             "gridcolor": "white",
             "linecolor": "white",
             "minorgridcolor": "white",
             "startlinecolor": "#2a3f5f"
            },
            "baxis": {
             "endlinecolor": "#2a3f5f",
             "gridcolor": "white",
             "linecolor": "white",
             "minorgridcolor": "white",
             "startlinecolor": "#2a3f5f"
            },
            "type": "carpet"
           }
          ],
          "choropleth": [
           {
            "colorbar": {
             "outlinewidth": 0,
             "ticks": ""
            },
            "type": "choropleth"
           }
          ],
          "contour": [
           {
            "colorbar": {
             "outlinewidth": 0,
             "ticks": ""
            },
            "colorscale": [
             [
              0,
              "#0d0887"
             ],
             [
              0.1111111111111111,
              "#46039f"
             ],
             [
              0.2222222222222222,
              "#7201a8"
             ],
             [
              0.3333333333333333,
              "#9c179e"
             ],
             [
              0.4444444444444444,
              "#bd3786"
             ],
             [
              0.5555555555555556,
              "#d8576b"
             ],
             [
              0.6666666666666666,
              "#ed7953"
             ],
             [
              0.7777777777777778,
              "#fb9f3a"
             ],
             [
              0.8888888888888888,
              "#fdca26"
             ],
             [
              1,
              "#f0f921"
             ]
            ],
            "type": "contour"
           }
          ],
          "contourcarpet": [
           {
            "colorbar": {
             "outlinewidth": 0,
             "ticks": ""
            },
            "type": "contourcarpet"
           }
          ],
          "heatmap": [
           {
            "colorbar": {
             "outlinewidth": 0,
             "ticks": ""
            },
            "colorscale": [
             [
              0,
              "#0d0887"
             ],
             [
              0.1111111111111111,
              "#46039f"
             ],
             [
              0.2222222222222222,
              "#7201a8"
             ],
             [
              0.3333333333333333,
              "#9c179e"
             ],
             [
              0.4444444444444444,
              "#bd3786"
             ],
             [
              0.5555555555555556,
              "#d8576b"
             ],
             [
              0.6666666666666666,
              "#ed7953"
             ],
             [
              0.7777777777777778,
              "#fb9f3a"
             ],
             [
              0.8888888888888888,
              "#fdca26"
             ],
             [
              1,
              "#f0f921"
             ]
            ],
            "type": "heatmap"
           }
          ],
          "heatmapgl": [
           {
            "colorbar": {
             "outlinewidth": 0,
             "ticks": ""
            },
            "colorscale": [
             [
              0,
              "#0d0887"
             ],
             [
              0.1111111111111111,
              "#46039f"
             ],
             [
              0.2222222222222222,
              "#7201a8"
             ],
             [
              0.3333333333333333,
              "#9c179e"
             ],
             [
              0.4444444444444444,
              "#bd3786"
             ],
             [
              0.5555555555555556,
              "#d8576b"
             ],
             [
              0.6666666666666666,
              "#ed7953"
             ],
             [
              0.7777777777777778,
              "#fb9f3a"
             ],
             [
              0.8888888888888888,
              "#fdca26"
             ],
             [
              1,
              "#f0f921"
             ]
            ],
            "type": "heatmapgl"
           }
          ],
          "histogram": [
           {
            "marker": {
             "colorbar": {
              "outlinewidth": 0,
              "ticks": ""
             }
            },
            "type": "histogram"
           }
          ],
          "histogram2d": [
           {
            "colorbar": {
             "outlinewidth": 0,
             "ticks": ""
            },
            "colorscale": [
             [
              0,
              "#0d0887"
             ],
             [
              0.1111111111111111,
              "#46039f"
             ],
             [
              0.2222222222222222,
              "#7201a8"
             ],
             [
              0.3333333333333333,
              "#9c179e"
             ],
             [
              0.4444444444444444,
              "#bd3786"
             ],
             [
              0.5555555555555556,
              "#d8576b"
             ],
             [
              0.6666666666666666,
              "#ed7953"
             ],
             [
              0.7777777777777778,
              "#fb9f3a"
             ],
             [
              0.8888888888888888,
              "#fdca26"
             ],
             [
              1,
              "#f0f921"
             ]
            ],
            "type": "histogram2d"
           }
          ],
          "histogram2dcontour": [
           {
            "colorbar": {
             "outlinewidth": 0,
             "ticks": ""
            },
            "colorscale": [
             [
              0,
              "#0d0887"
             ],
             [
              0.1111111111111111,
              "#46039f"
             ],
             [
              0.2222222222222222,
              "#7201a8"
             ],
             [
              0.3333333333333333,
              "#9c179e"
             ],
             [
              0.4444444444444444,
              "#bd3786"
             ],
             [
              0.5555555555555556,
              "#d8576b"
             ],
             [
              0.6666666666666666,
              "#ed7953"
             ],
             [
              0.7777777777777778,
              "#fb9f3a"
             ],
             [
              0.8888888888888888,
              "#fdca26"
             ],
             [
              1,
              "#f0f921"
             ]
            ],
            "type": "histogram2dcontour"
           }
          ],
          "mesh3d": [
           {
            "colorbar": {
             "outlinewidth": 0,
             "ticks": ""
            },
            "type": "mesh3d"
           }
          ],
          "parcoords": [
           {
            "line": {
             "colorbar": {
              "outlinewidth": 0,
              "ticks": ""
             }
            },
            "type": "parcoords"
           }
          ],
          "scatter": [
           {
            "marker": {
             "colorbar": {
              "outlinewidth": 0,
              "ticks": ""
             }
            },
            "type": "scatter"
           }
          ],
          "scatter3d": [
           {
            "line": {
             "colorbar": {
              "outlinewidth": 0,
              "ticks": ""
             }
            },
            "marker": {
             "colorbar": {
              "outlinewidth": 0,
              "ticks": ""
             }
            },
            "type": "scatter3d"
           }
          ],
          "scattercarpet": [
           {
            "marker": {
             "colorbar": {
              "outlinewidth": 0,
              "ticks": ""
             }
            },
            "type": "scattercarpet"
           }
          ],
          "scattergeo": [
           {
            "marker": {
             "colorbar": {
              "outlinewidth": 0,
              "ticks": ""
             }
            },
            "type": "scattergeo"
           }
          ],
          "scattergl": [
           {
            "marker": {
             "colorbar": {
              "outlinewidth": 0,
              "ticks": ""
             }
            },
            "type": "scattergl"
           }
          ],
          "scattermapbox": [
           {
            "marker": {
             "colorbar": {
              "outlinewidth": 0,
              "ticks": ""
             }
            },
            "type": "scattermapbox"
           }
          ],
          "scatterpolar": [
           {
            "marker": {
             "colorbar": {
              "outlinewidth": 0,
              "ticks": ""
             }
            },
            "type": "scatterpolar"
           }
          ],
          "scatterpolargl": [
           {
            "marker": {
             "colorbar": {
              "outlinewidth": 0,
              "ticks": ""
             }
            },
            "type": "scatterpolargl"
           }
          ],
          "scatterternary": [
           {
            "marker": {
             "colorbar": {
              "outlinewidth": 0,
              "ticks": ""
             }
            },
            "type": "scatterternary"
           }
          ],
          "surface": [
           {
            "colorbar": {
             "outlinewidth": 0,
             "ticks": ""
            },
            "colorscale": [
             [
              0,
              "#0d0887"
             ],
             [
              0.1111111111111111,
              "#46039f"
             ],
             [
              0.2222222222222222,
              "#7201a8"
             ],
             [
              0.3333333333333333,
              "#9c179e"
             ],
             [
              0.4444444444444444,
              "#bd3786"
             ],
             [
              0.5555555555555556,
              "#d8576b"
             ],
             [
              0.6666666666666666,
              "#ed7953"
             ],
             [
              0.7777777777777778,
              "#fb9f3a"
             ],
             [
              0.8888888888888888,
              "#fdca26"
             ],
             [
              1,
              "#f0f921"
             ]
            ],
            "type": "surface"
           }
          ],
          "table": [
           {
            "cells": {
             "fill": {
              "color": "#EBF0F8"
             },
             "line": {
              "color": "white"
             }
            },
            "header": {
             "fill": {
              "color": "#C8D4E3"
             },
             "line": {
              "color": "white"
             }
            },
            "type": "table"
           }
          ]
         },
         "layout": {
          "annotationdefaults": {
           "arrowcolor": "#2a3f5f",
           "arrowhead": 0,
           "arrowwidth": 1
          },
          "colorscale": {
           "diverging": [
            [
             0,
             "#8e0152"
            ],
            [
             0.1,
             "#c51b7d"
            ],
            [
             0.2,
             "#de77ae"
            ],
            [
             0.3,
             "#f1b6da"
            ],
            [
             0.4,
             "#fde0ef"
            ],
            [
             0.5,
             "#f7f7f7"
            ],
            [
             0.6,
             "#e6f5d0"
            ],
            [
             0.7,
             "#b8e186"
            ],
            [
             0.8,
             "#7fbc41"
            ],
            [
             0.9,
             "#4d9221"
            ],
            [
             1,
             "#276419"
            ]
           ],
           "sequential": [
            [
             0,
             "#0d0887"
            ],
            [
             0.1111111111111111,
             "#46039f"
            ],
            [
             0.2222222222222222,
             "#7201a8"
            ],
            [
             0.3333333333333333,
             "#9c179e"
            ],
            [
             0.4444444444444444,
             "#bd3786"
            ],
            [
             0.5555555555555556,
             "#d8576b"
            ],
            [
             0.6666666666666666,
             "#ed7953"
            ],
            [
             0.7777777777777778,
             "#fb9f3a"
            ],
            [
             0.8888888888888888,
             "#fdca26"
            ],
            [
             1,
             "#f0f921"
            ]
           ],
           "sequentialminus": [
            [
             0,
             "#0d0887"
            ],
            [
             0.1111111111111111,
             "#46039f"
            ],
            [
             0.2222222222222222,
             "#7201a8"
            ],
            [
             0.3333333333333333,
             "#9c179e"
            ],
            [
             0.4444444444444444,
             "#bd3786"
            ],
            [
             0.5555555555555556,
             "#d8576b"
            ],
            [
             0.6666666666666666,
             "#ed7953"
            ],
            [
             0.7777777777777778,
             "#fb9f3a"
            ],
            [
             0.8888888888888888,
             "#fdca26"
            ],
            [
             1,
             "#f0f921"
            ]
           ]
          },
          "colorway": [
           "#636efa",
           "#EF553B",
           "#00cc96",
           "#ab63fa",
           "#FFA15A",
           "#19d3f3",
           "#FF6692",
           "#B6E880",
           "#FF97FF",
           "#FECB52"
          ],
          "font": {
           "color": "#2a3f5f"
          },
          "geo": {
           "bgcolor": "white",
           "lakecolor": "white",
           "landcolor": "#E5ECF6",
           "showlakes": true,
           "showland": true,
           "subunitcolor": "white"
          },
          "hoverlabel": {
           "align": "left"
          },
          "hovermode": "closest",
          "mapbox": {
           "style": "light"
          },
          "paper_bgcolor": "white",
          "plot_bgcolor": "#E5ECF6",
          "polar": {
           "angularaxis": {
            "gridcolor": "white",
            "linecolor": "white",
            "ticks": ""
           },
           "bgcolor": "#E5ECF6",
           "radialaxis": {
            "gridcolor": "white",
            "linecolor": "white",
            "ticks": ""
           }
          },
          "scene": {
           "xaxis": {
            "backgroundcolor": "#E5ECF6",
            "gridcolor": "white",
            "gridwidth": 2,
            "linecolor": "white",
            "showbackground": true,
            "ticks": "",
            "zerolinecolor": "white"
           },
           "yaxis": {
            "backgroundcolor": "#E5ECF6",
            "gridcolor": "white",
            "gridwidth": 2,
            "linecolor": "white",
            "showbackground": true,
            "ticks": "",
            "zerolinecolor": "white"
           },
           "zaxis": {
            "backgroundcolor": "#E5ECF6",
            "gridcolor": "white",
            "gridwidth": 2,
            "linecolor": "white",
            "showbackground": true,
            "ticks": "",
            "zerolinecolor": "white"
           }
          },
          "shapedefaults": {
           "line": {
            "color": "#2a3f5f"
           }
          },
          "ternary": {
           "aaxis": {
            "gridcolor": "white",
            "linecolor": "white",
            "ticks": ""
           },
           "baxis": {
            "gridcolor": "white",
            "linecolor": "white",
            "ticks": ""
           },
           "bgcolor": "#E5ECF6",
           "caxis": {
            "gridcolor": "white",
            "linecolor": "white",
            "ticks": ""
           }
          },
          "title": {
           "x": 0.05
          },
          "xaxis": {
           "automargin": true,
           "gridcolor": "white",
           "linecolor": "white",
           "ticks": "",
           "zerolinecolor": "white",
           "zerolinewidth": 2
          },
          "yaxis": {
           "automargin": true,
           "gridcolor": "white",
           "linecolor": "white",
           "ticks": "",
           "zerolinecolor": "white",
           "zerolinewidth": 2
          }
         }
        },
        "xaxis": {
         "type": "category"
        }
       }
      },
      "text/html": [
       "<div>\n",
       "        \n",
       "        \n",
       "            <div id=\"ca75de95-cad8-4e7f-958f-7c1797d09d2e\" class=\"plotly-graph-div\" style=\"height:525px; width:100%;\"></div>\n",
       "            <script type=\"text/javascript\">\n",
       "                require([\"plotly\"], function(Plotly) {\n",
       "                    window.PLOTLYENV=window.PLOTLYENV || {};\n",
       "                    \n",
       "                if (document.getElementById(\"ca75de95-cad8-4e7f-958f-7c1797d09d2e\")) {\n",
       "                    Plotly.newPlot(\n",
       "                        'ca75de95-cad8-4e7f-958f-7c1797d09d2e',\n",
       "                        [{\"type\": \"bar\", \"x\": [\"00\", \"10\", \"100\", \"11\", \"12\", \"13\", \"15\", \"15g\", \"15pm\", \"17\", \"18\", \"18th\", \"1928\", \"1947\", \"1948\", \"1949\", \"1971\", \"1973\", \"1979\", \"1980\", \"1986\", \"1995\", \"1998\", \"20\", \"2000\", \"2005\", \"2006\", \"2007\", \"20th\", \"2160\", \"23\", \"24\", \"25\", \"2mp\", \"30\", \"30s\", \"325\", \"35\", \"350\", \"375\"], \"y\": [134, 92, 1, 2, 1, 3, 1, 1, 1, 1, 2, 1, 1, 3, 1, 1, 1, 2, 1, 3, 1, 2, 1, 1, 1, 2, 1, 1, 1, 1, 1, 1, 1, 1, 5, 1, 13, 95, 4, 1]}],\n",
       "                        {\"template\": {\"data\": {\"bar\": [{\"error_x\": {\"color\": \"#2a3f5f\"}, \"error_y\": {\"color\": \"#2a3f5f\"}, \"marker\": {\"line\": {\"color\": \"#E5ECF6\", \"width\": 0.5}}, \"type\": \"bar\"}], \"barpolar\": [{\"marker\": {\"line\": {\"color\": \"#E5ECF6\", \"width\": 0.5}}, \"type\": \"barpolar\"}], \"carpet\": [{\"aaxis\": {\"endlinecolor\": \"#2a3f5f\", \"gridcolor\": \"white\", \"linecolor\": \"white\", \"minorgridcolor\": \"white\", \"startlinecolor\": \"#2a3f5f\"}, \"baxis\": {\"endlinecolor\": \"#2a3f5f\", \"gridcolor\": \"white\", \"linecolor\": \"white\", \"minorgridcolor\": \"white\", \"startlinecolor\": \"#2a3f5f\"}, \"type\": \"carpet\"}], \"choropleth\": [{\"colorbar\": {\"outlinewidth\": 0, \"ticks\": \"\"}, \"type\": \"choropleth\"}], \"contour\": [{\"colorbar\": {\"outlinewidth\": 0, \"ticks\": \"\"}, \"colorscale\": [[0.0, \"#0d0887\"], [0.1111111111111111, \"#46039f\"], [0.2222222222222222, \"#7201a8\"], [0.3333333333333333, \"#9c179e\"], [0.4444444444444444, \"#bd3786\"], [0.5555555555555556, \"#d8576b\"], [0.6666666666666666, \"#ed7953\"], [0.7777777777777778, \"#fb9f3a\"], [0.8888888888888888, \"#fdca26\"], [1.0, \"#f0f921\"]], \"type\": \"contour\"}], \"contourcarpet\": [{\"colorbar\": {\"outlinewidth\": 0, \"ticks\": \"\"}, \"type\": \"contourcarpet\"}], \"heatmap\": [{\"colorbar\": {\"outlinewidth\": 0, \"ticks\": \"\"}, \"colorscale\": [[0.0, \"#0d0887\"], [0.1111111111111111, \"#46039f\"], [0.2222222222222222, \"#7201a8\"], [0.3333333333333333, \"#9c179e\"], [0.4444444444444444, \"#bd3786\"], [0.5555555555555556, \"#d8576b\"], [0.6666666666666666, \"#ed7953\"], [0.7777777777777778, \"#fb9f3a\"], [0.8888888888888888, \"#fdca26\"], [1.0, \"#f0f921\"]], \"type\": \"heatmap\"}], \"heatmapgl\": [{\"colorbar\": {\"outlinewidth\": 0, \"ticks\": \"\"}, \"colorscale\": [[0.0, \"#0d0887\"], [0.1111111111111111, \"#46039f\"], [0.2222222222222222, \"#7201a8\"], [0.3333333333333333, \"#9c179e\"], [0.4444444444444444, \"#bd3786\"], [0.5555555555555556, \"#d8576b\"], [0.6666666666666666, \"#ed7953\"], [0.7777777777777778, \"#fb9f3a\"], [0.8888888888888888, \"#fdca26\"], [1.0, \"#f0f921\"]], \"type\": \"heatmapgl\"}], \"histogram\": [{\"marker\": {\"colorbar\": {\"outlinewidth\": 0, \"ticks\": \"\"}}, \"type\": \"histogram\"}], \"histogram2d\": [{\"colorbar\": {\"outlinewidth\": 0, \"ticks\": \"\"}, \"colorscale\": [[0.0, \"#0d0887\"], [0.1111111111111111, \"#46039f\"], [0.2222222222222222, \"#7201a8\"], [0.3333333333333333, \"#9c179e\"], [0.4444444444444444, \"#bd3786\"], [0.5555555555555556, \"#d8576b\"], [0.6666666666666666, \"#ed7953\"], [0.7777777777777778, \"#fb9f3a\"], [0.8888888888888888, \"#fdca26\"], [1.0, \"#f0f921\"]], \"type\": \"histogram2d\"}], \"histogram2dcontour\": [{\"colorbar\": {\"outlinewidth\": 0, \"ticks\": \"\"}, \"colorscale\": [[0.0, \"#0d0887\"], [0.1111111111111111, \"#46039f\"], [0.2222222222222222, \"#7201a8\"], [0.3333333333333333, \"#9c179e\"], [0.4444444444444444, \"#bd3786\"], [0.5555555555555556, \"#d8576b\"], [0.6666666666666666, \"#ed7953\"], [0.7777777777777778, \"#fb9f3a\"], [0.8888888888888888, \"#fdca26\"], [1.0, \"#f0f921\"]], \"type\": \"histogram2dcontour\"}], \"mesh3d\": [{\"colorbar\": {\"outlinewidth\": 0, \"ticks\": \"\"}, \"type\": \"mesh3d\"}], \"parcoords\": [{\"line\": {\"colorbar\": {\"outlinewidth\": 0, \"ticks\": \"\"}}, \"type\": \"parcoords\"}], \"scatter\": [{\"marker\": {\"colorbar\": {\"outlinewidth\": 0, \"ticks\": \"\"}}, \"type\": \"scatter\"}], \"scatter3d\": [{\"line\": {\"colorbar\": {\"outlinewidth\": 0, \"ticks\": \"\"}}, \"marker\": {\"colorbar\": {\"outlinewidth\": 0, \"ticks\": \"\"}}, \"type\": \"scatter3d\"}], \"scattercarpet\": [{\"marker\": {\"colorbar\": {\"outlinewidth\": 0, \"ticks\": \"\"}}, \"type\": \"scattercarpet\"}], \"scattergeo\": [{\"marker\": {\"colorbar\": {\"outlinewidth\": 0, \"ticks\": \"\"}}, \"type\": \"scattergeo\"}], \"scattergl\": [{\"marker\": {\"colorbar\": {\"outlinewidth\": 0, \"ticks\": \"\"}}, \"type\": \"scattergl\"}], \"scattermapbox\": [{\"marker\": {\"colorbar\": {\"outlinewidth\": 0, \"ticks\": \"\"}}, \"type\": \"scattermapbox\"}], \"scatterpolar\": [{\"marker\": {\"colorbar\": {\"outlinewidth\": 0, \"ticks\": \"\"}}, \"type\": \"scatterpolar\"}], \"scatterpolargl\": [{\"marker\": {\"colorbar\": {\"outlinewidth\": 0, \"ticks\": \"\"}}, \"type\": \"scatterpolargl\"}], \"scatterternary\": [{\"marker\": {\"colorbar\": {\"outlinewidth\": 0, \"ticks\": \"\"}}, \"type\": \"scatterternary\"}], \"surface\": [{\"colorbar\": {\"outlinewidth\": 0, \"ticks\": \"\"}, \"colorscale\": [[0.0, \"#0d0887\"], [0.1111111111111111, \"#46039f\"], [0.2222222222222222, \"#7201a8\"], [0.3333333333333333, \"#9c179e\"], [0.4444444444444444, \"#bd3786\"], [0.5555555555555556, \"#d8576b\"], [0.6666666666666666, \"#ed7953\"], [0.7777777777777778, \"#fb9f3a\"], [0.8888888888888888, \"#fdca26\"], [1.0, \"#f0f921\"]], \"type\": \"surface\"}], \"table\": [{\"cells\": {\"fill\": {\"color\": \"#EBF0F8\"}, \"line\": {\"color\": \"white\"}}, \"header\": {\"fill\": {\"color\": \"#C8D4E3\"}, \"line\": {\"color\": \"white\"}}, \"type\": \"table\"}]}, \"layout\": {\"annotationdefaults\": {\"arrowcolor\": \"#2a3f5f\", \"arrowhead\": 0, \"arrowwidth\": 1}, \"colorscale\": {\"diverging\": [[0, \"#8e0152\"], [0.1, \"#c51b7d\"], [0.2, \"#de77ae\"], [0.3, \"#f1b6da\"], [0.4, \"#fde0ef\"], [0.5, \"#f7f7f7\"], [0.6, \"#e6f5d0\"], [0.7, \"#b8e186\"], [0.8, \"#7fbc41\"], [0.9, \"#4d9221\"], [1, \"#276419\"]], \"sequential\": [[0.0, \"#0d0887\"], [0.1111111111111111, \"#46039f\"], [0.2222222222222222, \"#7201a8\"], [0.3333333333333333, \"#9c179e\"], [0.4444444444444444, \"#bd3786\"], [0.5555555555555556, \"#d8576b\"], [0.6666666666666666, \"#ed7953\"], [0.7777777777777778, \"#fb9f3a\"], [0.8888888888888888, \"#fdca26\"], [1.0, \"#f0f921\"]], \"sequentialminus\": [[0.0, \"#0d0887\"], [0.1111111111111111, \"#46039f\"], [0.2222222222222222, \"#7201a8\"], [0.3333333333333333, \"#9c179e\"], [0.4444444444444444, \"#bd3786\"], [0.5555555555555556, \"#d8576b\"], [0.6666666666666666, \"#ed7953\"], [0.7777777777777778, \"#fb9f3a\"], [0.8888888888888888, \"#fdca26\"], [1.0, \"#f0f921\"]]}, \"colorway\": [\"#636efa\", \"#EF553B\", \"#00cc96\", \"#ab63fa\", \"#FFA15A\", \"#19d3f3\", \"#FF6692\", \"#B6E880\", \"#FF97FF\", \"#FECB52\"], \"font\": {\"color\": \"#2a3f5f\"}, \"geo\": {\"bgcolor\": \"white\", \"lakecolor\": \"white\", \"landcolor\": \"#E5ECF6\", \"showlakes\": true, \"showland\": true, \"subunitcolor\": \"white\"}, \"hoverlabel\": {\"align\": \"left\"}, \"hovermode\": \"closest\", \"mapbox\": {\"style\": \"light\"}, \"paper_bgcolor\": \"white\", \"plot_bgcolor\": \"#E5ECF6\", \"polar\": {\"angularaxis\": {\"gridcolor\": \"white\", \"linecolor\": \"white\", \"ticks\": \"\"}, \"bgcolor\": \"#E5ECF6\", \"radialaxis\": {\"gridcolor\": \"white\", \"linecolor\": \"white\", \"ticks\": \"\"}}, \"scene\": {\"xaxis\": {\"backgroundcolor\": \"#E5ECF6\", \"gridcolor\": \"white\", \"gridwidth\": 2, \"linecolor\": \"white\", \"showbackground\": true, \"ticks\": \"\", \"zerolinecolor\": \"white\"}, \"yaxis\": {\"backgroundcolor\": \"#E5ECF6\", \"gridcolor\": \"white\", \"gridwidth\": 2, \"linecolor\": \"white\", \"showbackground\": true, \"ticks\": \"\", \"zerolinecolor\": \"white\"}, \"zaxis\": {\"backgroundcolor\": \"#E5ECF6\", \"gridcolor\": \"white\", \"gridwidth\": 2, \"linecolor\": \"white\", \"showbackground\": true, \"ticks\": \"\", \"zerolinecolor\": \"white\"}}, \"shapedefaults\": {\"line\": {\"color\": \"#2a3f5f\"}}, \"ternary\": {\"aaxis\": {\"gridcolor\": \"white\", \"linecolor\": \"white\", \"ticks\": \"\"}, \"baxis\": {\"gridcolor\": \"white\", \"linecolor\": \"white\", \"ticks\": \"\"}, \"bgcolor\": \"#E5ECF6\", \"caxis\": {\"gridcolor\": \"white\", \"linecolor\": \"white\", \"ticks\": \"\"}}, \"title\": {\"x\": 0.05}, \"xaxis\": {\"automargin\": true, \"gridcolor\": \"white\", \"linecolor\": \"white\", \"ticks\": \"\", \"zerolinecolor\": \"white\", \"zerolinewidth\": 2}, \"yaxis\": {\"automargin\": true, \"gridcolor\": \"white\", \"linecolor\": \"white\", \"ticks\": \"\", \"zerolinecolor\": \"white\", \"zerolinewidth\": 2}}}, \"xaxis\": {\"type\": \"category\"}},\n",
       "                        {\"responsive\": true}\n",
       "                    ).then(function(){\n",
       "                            \n",
       "var gd = document.getElementById('ca75de95-cad8-4e7f-958f-7c1797d09d2e');\n",
       "var x = new MutationObserver(function (mutations, observer) {{\n",
       "        var display = window.getComputedStyle(gd).display;\n",
       "        if (!display || display === 'none') {{\n",
       "            console.log([gd, 'removed!']);\n",
       "            Plotly.purge(gd);\n",
       "            observer.disconnect();\n",
       "        }}\n",
       "}});\n",
       "\n",
       "// Listen for the removal of the full notebook cells\n",
       "var notebookContainer = gd.closest('#notebook-container');\n",
       "if (notebookContainer) {{\n",
       "    x.observe(notebookContainer, {childList: true});\n",
       "}}\n",
       "\n",
       "// Listen for the clearing of the current output cell\n",
       "var outputEl = gd.closest('.output');\n",
       "if (outputEl) {{\n",
       "    x.observe(outputEl, {childList: true});\n",
       "}}\n",
       "\n",
       "                        })\n",
       "                };\n",
       "                });\n",
       "            </script>\n",
       "        </div>"
      ]
     },
     "metadata": {},
     "output_type": "display_data"
    },
    {
     "name": "stdout",
     "output_type": "stream",
     "text": [
      "   terms  frequency\n",
      "0     00        134\n",
      "1     10         92\n",
      "2    100          1\n",
      "3     11          2\n",
      "4     12          1\n",
      "5     13          3\n",
      "6     15          1\n",
      "7    15g          1\n",
      "8   15pm          1\n",
      "9     17          1\n",
      "10    18          2\n",
      "11  18th          1\n",
      "12  1928          1\n",
      "13  1947          3\n",
      "14  1948          1\n",
      "15  1949          1\n",
      "16  1971          1\n",
      "17  1973          2\n",
      "18  1979          1\n",
      "19  1980          3\n",
      "20  1986          1\n",
      "21  1995          2\n",
      "22  1998          1\n",
      "23    20          1\n",
      "24  2000          1\n",
      "25  2005          2\n",
      "26  2006          1\n",
      "27  2007          1\n",
      "28  20th          1\n",
      "29  2160          1\n",
      "30    23          1\n",
      "31    24          1\n",
      "32    25          1\n",
      "33   2mp          1\n",
      "34    30          5\n",
      "35   30s          1\n",
      "36   325         13\n",
      "37    35         95\n",
      "38   350          4\n",
      "39   375          1\n"
     ]
    }
   ],
   "source": [
    "# Answer for Exercise 13\n",
    "import plotly.express as px\n",
    "import plotly.graph_objects as go\n",
    "pd_freq = pd.DataFrame({'terms':count_vect.get_feature_names()[:40], 'frequency':term_frequencies[:40]})\n",
    "layout = go.Layout(xaxis=dict(type='category'))\n",
    "fig = go.Figure([go.Bar(x=pd_freq.terms, y=pd_freq.frequency)],layout = layout)\n",
    "fig.show()\n",
    "print(pd_freq)"
   ]
  },
  {
   "cell_type": "markdown",
   "metadata": {},
   "source": [
    "# >>> **Exercise 14 (take home):** \n",
    "The chart above contains all the vocabulary, and it's computationally intensive to both compute and visualize. Can you efficiently reduce the number of terms you want to visualize as an exercise. "
   ]
  },
  {
   "cell_type": "code",
   "execution_count": 150,
   "metadata": {},
   "outputs": [
    {
     "data": {
      "application/vnd.plotly.v1+json": {
       "config": {
        "plotlyServerURL": "https://plot.ly"
       },
       "data": [
        {
         "type": "bar",
         "x": [
          "00",
          "10",
          "30",
          "325",
          "35",
          "350",
          "700w",
          "ability",
          "abound",
          "accordingly",
          "action",
          "actions",
          "actress",
          "actresses",
          "added",
          "admins",
          "aerial",
          "age",
          "ala",
          "alexander",
          "alone",
          "also",
          "am",
          "amazon",
          "angelina",
          "antithesis",
          "any",
          "anymore",
          "appointments",
          "approval",
          "apt",
          "aria",
          "armband",
          "arrived",
          "artless",
          "ask",
          "aspects",
          "assumed",
          "attempted",
          "auju",
          "austen",
          "austere",
          "authentic",
          "available",
          "average",
          "avoiding",
          "awsome",
          "ayce",
          "babie",
          "baby",
          "bacon",
          "bargain",
          "barking",
          "barney",
          "barren",
          "bartender",
          "bartenders"
         ],
         "y": [
          134,
          92,
          5,
          13,
          95,
          4,
          4,
          59,
          4,
          100,
          5,
          24,
          47,
          4,
          4,
          62,
          5,
          18,
          27,
          7,
          40,
          5,
          5,
          34,
          4,
          378,
          105,
          20,
          19,
          4,
          8,
          7,
          5,
          7,
          4,
          5,
          5,
          6,
          11,
          5,
          215,
          16,
          4,
          6,
          6,
          5,
          5,
          8,
          10,
          4,
          5,
          4,
          5,
          7,
          5,
          7,
          4
         ]
        }
       ],
       "layout": {
        "template": {
         "data": {
          "bar": [
           {
            "error_x": {
             "color": "#2a3f5f"
            },
            "error_y": {
             "color": "#2a3f5f"
            },
            "marker": {
             "line": {
              "color": "#E5ECF6",
              "width": 0.5
             }
            },
            "type": "bar"
           }
          ],
          "barpolar": [
           {
            "marker": {
             "line": {
              "color": "#E5ECF6",
              "width": 0.5
             }
            },
            "type": "barpolar"
           }
          ],
          "carpet": [
           {
            "aaxis": {
             "endlinecolor": "#2a3f5f",
             "gridcolor": "white",
             "linecolor": "white",
             "minorgridcolor": "white",
             "startlinecolor": "#2a3f5f"
            },
            "baxis": {
             "endlinecolor": "#2a3f5f",
             "gridcolor": "white",
             "linecolor": "white",
             "minorgridcolor": "white",
             "startlinecolor": "#2a3f5f"
            },
            "type": "carpet"
           }
          ],
          "choropleth": [
           {
            "colorbar": {
             "outlinewidth": 0,
             "ticks": ""
            },
            "type": "choropleth"
           }
          ],
          "contour": [
           {
            "colorbar": {
             "outlinewidth": 0,
             "ticks": ""
            },
            "colorscale": [
             [
              0,
              "#0d0887"
             ],
             [
              0.1111111111111111,
              "#46039f"
             ],
             [
              0.2222222222222222,
              "#7201a8"
             ],
             [
              0.3333333333333333,
              "#9c179e"
             ],
             [
              0.4444444444444444,
              "#bd3786"
             ],
             [
              0.5555555555555556,
              "#d8576b"
             ],
             [
              0.6666666666666666,
              "#ed7953"
             ],
             [
              0.7777777777777778,
              "#fb9f3a"
             ],
             [
              0.8888888888888888,
              "#fdca26"
             ],
             [
              1,
              "#f0f921"
             ]
            ],
            "type": "contour"
           }
          ],
          "contourcarpet": [
           {
            "colorbar": {
             "outlinewidth": 0,
             "ticks": ""
            },
            "type": "contourcarpet"
           }
          ],
          "heatmap": [
           {
            "colorbar": {
             "outlinewidth": 0,
             "ticks": ""
            },
            "colorscale": [
             [
              0,
              "#0d0887"
             ],
             [
              0.1111111111111111,
              "#46039f"
             ],
             [
              0.2222222222222222,
              "#7201a8"
             ],
             [
              0.3333333333333333,
              "#9c179e"
             ],
             [
              0.4444444444444444,
              "#bd3786"
             ],
             [
              0.5555555555555556,
              "#d8576b"
             ],
             [
              0.6666666666666666,
              "#ed7953"
             ],
             [
              0.7777777777777778,
              "#fb9f3a"
             ],
             [
              0.8888888888888888,
              "#fdca26"
             ],
             [
              1,
              "#f0f921"
             ]
            ],
            "type": "heatmap"
           }
          ],
          "heatmapgl": [
           {
            "colorbar": {
             "outlinewidth": 0,
             "ticks": ""
            },
            "colorscale": [
             [
              0,
              "#0d0887"
             ],
             [
              0.1111111111111111,
              "#46039f"
             ],
             [
              0.2222222222222222,
              "#7201a8"
             ],
             [
              0.3333333333333333,
              "#9c179e"
             ],
             [
              0.4444444444444444,
              "#bd3786"
             ],
             [
              0.5555555555555556,
              "#d8576b"
             ],
             [
              0.6666666666666666,
              "#ed7953"
             ],
             [
              0.7777777777777778,
              "#fb9f3a"
             ],
             [
              0.8888888888888888,
              "#fdca26"
             ],
             [
              1,
              "#f0f921"
             ]
            ],
            "type": "heatmapgl"
           }
          ],
          "histogram": [
           {
            "marker": {
             "colorbar": {
              "outlinewidth": 0,
              "ticks": ""
             }
            },
            "type": "histogram"
           }
          ],
          "histogram2d": [
           {
            "colorbar": {
             "outlinewidth": 0,
             "ticks": ""
            },
            "colorscale": [
             [
              0,
              "#0d0887"
             ],
             [
              0.1111111111111111,
              "#46039f"
             ],
             [
              0.2222222222222222,
              "#7201a8"
             ],
             [
              0.3333333333333333,
              "#9c179e"
             ],
             [
              0.4444444444444444,
              "#bd3786"
             ],
             [
              0.5555555555555556,
              "#d8576b"
             ],
             [
              0.6666666666666666,
              "#ed7953"
             ],
             [
              0.7777777777777778,
              "#fb9f3a"
             ],
             [
              0.8888888888888888,
              "#fdca26"
             ],
             [
              1,
              "#f0f921"
             ]
            ],
            "type": "histogram2d"
           }
          ],
          "histogram2dcontour": [
           {
            "colorbar": {
             "outlinewidth": 0,
             "ticks": ""
            },
            "colorscale": [
             [
              0,
              "#0d0887"
             ],
             [
              0.1111111111111111,
              "#46039f"
             ],
             [
              0.2222222222222222,
              "#7201a8"
             ],
             [
              0.3333333333333333,
              "#9c179e"
             ],
             [
              0.4444444444444444,
              "#bd3786"
             ],
             [
              0.5555555555555556,
              "#d8576b"
             ],
             [
              0.6666666666666666,
              "#ed7953"
             ],
             [
              0.7777777777777778,
              "#fb9f3a"
             ],
             [
              0.8888888888888888,
              "#fdca26"
             ],
             [
              1,
              "#f0f921"
             ]
            ],
            "type": "histogram2dcontour"
           }
          ],
          "mesh3d": [
           {
            "colorbar": {
             "outlinewidth": 0,
             "ticks": ""
            },
            "type": "mesh3d"
           }
          ],
          "parcoords": [
           {
            "line": {
             "colorbar": {
              "outlinewidth": 0,
              "ticks": ""
             }
            },
            "type": "parcoords"
           }
          ],
          "scatter": [
           {
            "marker": {
             "colorbar": {
              "outlinewidth": 0,
              "ticks": ""
             }
            },
            "type": "scatter"
           }
          ],
          "scatter3d": [
           {
            "line": {
             "colorbar": {
              "outlinewidth": 0,
              "ticks": ""
             }
            },
            "marker": {
             "colorbar": {
              "outlinewidth": 0,
              "ticks": ""
             }
            },
            "type": "scatter3d"
           }
          ],
          "scattercarpet": [
           {
            "marker": {
             "colorbar": {
              "outlinewidth": 0,
              "ticks": ""
             }
            },
            "type": "scattercarpet"
           }
          ],
          "scattergeo": [
           {
            "marker": {
             "colorbar": {
              "outlinewidth": 0,
              "ticks": ""
             }
            },
            "type": "scattergeo"
           }
          ],
          "scattergl": [
           {
            "marker": {
             "colorbar": {
              "outlinewidth": 0,
              "ticks": ""
             }
            },
            "type": "scattergl"
           }
          ],
          "scattermapbox": [
           {
            "marker": {
             "colorbar": {
              "outlinewidth": 0,
              "ticks": ""
             }
            },
            "type": "scattermapbox"
           }
          ],
          "scatterpolar": [
           {
            "marker": {
             "colorbar": {
              "outlinewidth": 0,
              "ticks": ""
             }
            },
            "type": "scatterpolar"
           }
          ],
          "scatterpolargl": [
           {
            "marker": {
             "colorbar": {
              "outlinewidth": 0,
              "ticks": ""
             }
            },
            "type": "scatterpolargl"
           }
          ],
          "scatterternary": [
           {
            "marker": {
             "colorbar": {
              "outlinewidth": 0,
              "ticks": ""
             }
            },
            "type": "scatterternary"
           }
          ],
          "surface": [
           {
            "colorbar": {
             "outlinewidth": 0,
             "ticks": ""
            },
            "colorscale": [
             [
              0,
              "#0d0887"
             ],
             [
              0.1111111111111111,
              "#46039f"
             ],
             [
              0.2222222222222222,
              "#7201a8"
             ],
             [
              0.3333333333333333,
              "#9c179e"
             ],
             [
              0.4444444444444444,
              "#bd3786"
             ],
             [
              0.5555555555555556,
              "#d8576b"
             ],
             [
              0.6666666666666666,
              "#ed7953"
             ],
             [
              0.7777777777777778,
              "#fb9f3a"
             ],
             [
              0.8888888888888888,
              "#fdca26"
             ],
             [
              1,
              "#f0f921"
             ]
            ],
            "type": "surface"
           }
          ],
          "table": [
           {
            "cells": {
             "fill": {
              "color": "#EBF0F8"
             },
             "line": {
              "color": "white"
             }
            },
            "header": {
             "fill": {
              "color": "#C8D4E3"
             },
             "line": {
              "color": "white"
             }
            },
            "type": "table"
           }
          ]
         },
         "layout": {
          "annotationdefaults": {
           "arrowcolor": "#2a3f5f",
           "arrowhead": 0,
           "arrowwidth": 1
          },
          "colorscale": {
           "diverging": [
            [
             0,
             "#8e0152"
            ],
            [
             0.1,
             "#c51b7d"
            ],
            [
             0.2,
             "#de77ae"
            ],
            [
             0.3,
             "#f1b6da"
            ],
            [
             0.4,
             "#fde0ef"
            ],
            [
             0.5,
             "#f7f7f7"
            ],
            [
             0.6,
             "#e6f5d0"
            ],
            [
             0.7,
             "#b8e186"
            ],
            [
             0.8,
             "#7fbc41"
            ],
            [
             0.9,
             "#4d9221"
            ],
            [
             1,
             "#276419"
            ]
           ],
           "sequential": [
            [
             0,
             "#0d0887"
            ],
            [
             0.1111111111111111,
             "#46039f"
            ],
            [
             0.2222222222222222,
             "#7201a8"
            ],
            [
             0.3333333333333333,
             "#9c179e"
            ],
            [
             0.4444444444444444,
             "#bd3786"
            ],
            [
             0.5555555555555556,
             "#d8576b"
            ],
            [
             0.6666666666666666,
             "#ed7953"
            ],
            [
             0.7777777777777778,
             "#fb9f3a"
            ],
            [
             0.8888888888888888,
             "#fdca26"
            ],
            [
             1,
             "#f0f921"
            ]
           ],
           "sequentialminus": [
            [
             0,
             "#0d0887"
            ],
            [
             0.1111111111111111,
             "#46039f"
            ],
            [
             0.2222222222222222,
             "#7201a8"
            ],
            [
             0.3333333333333333,
             "#9c179e"
            ],
            [
             0.4444444444444444,
             "#bd3786"
            ],
            [
             0.5555555555555556,
             "#d8576b"
            ],
            [
             0.6666666666666666,
             "#ed7953"
            ],
            [
             0.7777777777777778,
             "#fb9f3a"
            ],
            [
             0.8888888888888888,
             "#fdca26"
            ],
            [
             1,
             "#f0f921"
            ]
           ]
          },
          "colorway": [
           "#636efa",
           "#EF553B",
           "#00cc96",
           "#ab63fa",
           "#FFA15A",
           "#19d3f3",
           "#FF6692",
           "#B6E880",
           "#FF97FF",
           "#FECB52"
          ],
          "font": {
           "color": "#2a3f5f"
          },
          "geo": {
           "bgcolor": "white",
           "lakecolor": "white",
           "landcolor": "#E5ECF6",
           "showlakes": true,
           "showland": true,
           "subunitcolor": "white"
          },
          "hoverlabel": {
           "align": "left"
          },
          "hovermode": "closest",
          "mapbox": {
           "style": "light"
          },
          "paper_bgcolor": "white",
          "plot_bgcolor": "#E5ECF6",
          "polar": {
           "angularaxis": {
            "gridcolor": "white",
            "linecolor": "white",
            "ticks": ""
           },
           "bgcolor": "#E5ECF6",
           "radialaxis": {
            "gridcolor": "white",
            "linecolor": "white",
            "ticks": ""
           }
          },
          "scene": {
           "xaxis": {
            "backgroundcolor": "#E5ECF6",
            "gridcolor": "white",
            "gridwidth": 2,
            "linecolor": "white",
            "showbackground": true,
            "ticks": "",
            "zerolinecolor": "white"
           },
           "yaxis": {
            "backgroundcolor": "#E5ECF6",
            "gridcolor": "white",
            "gridwidth": 2,
            "linecolor": "white",
            "showbackground": true,
            "ticks": "",
            "zerolinecolor": "white"
           },
           "zaxis": {
            "backgroundcolor": "#E5ECF6",
            "gridcolor": "white",
            "gridwidth": 2,
            "linecolor": "white",
            "showbackground": true,
            "ticks": "",
            "zerolinecolor": "white"
           }
          },
          "shapedefaults": {
           "line": {
            "color": "#2a3f5f"
           }
          },
          "ternary": {
           "aaxis": {
            "gridcolor": "white",
            "linecolor": "white",
            "ticks": ""
           },
           "baxis": {
            "gridcolor": "white",
            "linecolor": "white",
            "ticks": ""
           },
           "bgcolor": "#E5ECF6",
           "caxis": {
            "gridcolor": "white",
            "linecolor": "white",
            "ticks": ""
           }
          },
          "title": {
           "x": 0.05
          },
          "xaxis": {
           "automargin": true,
           "gridcolor": "white",
           "linecolor": "white",
           "ticks": "",
           "zerolinecolor": "white",
           "zerolinewidth": 2
          },
          "yaxis": {
           "automargin": true,
           "gridcolor": "white",
           "linecolor": "white",
           "ticks": "",
           "zerolinecolor": "white",
           "zerolinewidth": 2
          }
         }
        },
        "xaxis": {
         "type": "category"
        }
       }
      },
      "text/html": [
       "<div>\n",
       "        \n",
       "        \n",
       "            <div id=\"a48822a3-3ddb-4292-9e46-5fe0e6a2d18c\" class=\"plotly-graph-div\" style=\"height:525px; width:100%;\"></div>\n",
       "            <script type=\"text/javascript\">\n",
       "                require([\"plotly\"], function(Plotly) {\n",
       "                    window.PLOTLYENV=window.PLOTLYENV || {};\n",
       "                    \n",
       "                if (document.getElementById(\"a48822a3-3ddb-4292-9e46-5fe0e6a2d18c\")) {\n",
       "                    Plotly.newPlot(\n",
       "                        'a48822a3-3ddb-4292-9e46-5fe0e6a2d18c',\n",
       "                        [{\"type\": \"bar\", \"x\": [\"00\", \"10\", \"30\", \"325\", \"35\", \"350\", \"700w\", \"ability\", \"abound\", \"accordingly\", \"action\", \"actions\", \"actress\", \"actresses\", \"added\", \"admins\", \"aerial\", \"age\", \"ala\", \"alexander\", \"alone\", \"also\", \"am\", \"amazon\", \"angelina\", \"antithesis\", \"any\", \"anymore\", \"appointments\", \"approval\", \"apt\", \"aria\", \"armband\", \"arrived\", \"artless\", \"ask\", \"aspects\", \"assumed\", \"attempted\", \"auju\", \"austen\", \"austere\", \"authentic\", \"available\", \"average\", \"avoiding\", \"awsome\", \"ayce\", \"babie\", \"baby\", \"bacon\", \"bargain\", \"barking\", \"barney\", \"barren\", \"bartender\", \"bartenders\"], \"y\": [134, 92, 5, 13, 95, 4, 4, 59, 4, 100, 5, 24, 47, 4, 4, 62, 5, 18, 27, 7, 40, 5, 5, 34, 4, 378, 105, 20, 19, 4, 8, 7, 5, 7, 4, 5, 5, 6, 11, 5, 215, 16, 4, 6, 6, 5, 5, 8, 10, 4, 5, 4, 5, 7, 5, 7, 4]}],\n",
       "                        {\"template\": {\"data\": {\"bar\": [{\"error_x\": {\"color\": \"#2a3f5f\"}, \"error_y\": {\"color\": \"#2a3f5f\"}, \"marker\": {\"line\": {\"color\": \"#E5ECF6\", \"width\": 0.5}}, \"type\": \"bar\"}], \"barpolar\": [{\"marker\": {\"line\": {\"color\": \"#E5ECF6\", \"width\": 0.5}}, \"type\": \"barpolar\"}], \"carpet\": [{\"aaxis\": {\"endlinecolor\": \"#2a3f5f\", \"gridcolor\": \"white\", \"linecolor\": \"white\", \"minorgridcolor\": \"white\", \"startlinecolor\": \"#2a3f5f\"}, \"baxis\": {\"endlinecolor\": \"#2a3f5f\", \"gridcolor\": \"white\", \"linecolor\": \"white\", \"minorgridcolor\": \"white\", \"startlinecolor\": \"#2a3f5f\"}, \"type\": \"carpet\"}], \"choropleth\": [{\"colorbar\": {\"outlinewidth\": 0, \"ticks\": \"\"}, \"type\": \"choropleth\"}], \"contour\": [{\"colorbar\": {\"outlinewidth\": 0, \"ticks\": \"\"}, \"colorscale\": [[0.0, \"#0d0887\"], [0.1111111111111111, \"#46039f\"], [0.2222222222222222, \"#7201a8\"], [0.3333333333333333, \"#9c179e\"], [0.4444444444444444, \"#bd3786\"], [0.5555555555555556, \"#d8576b\"], [0.6666666666666666, \"#ed7953\"], [0.7777777777777778, \"#fb9f3a\"], [0.8888888888888888, \"#fdca26\"], [1.0, \"#f0f921\"]], \"type\": \"contour\"}], \"contourcarpet\": [{\"colorbar\": {\"outlinewidth\": 0, \"ticks\": \"\"}, \"type\": \"contourcarpet\"}], \"heatmap\": [{\"colorbar\": {\"outlinewidth\": 0, \"ticks\": \"\"}, \"colorscale\": [[0.0, \"#0d0887\"], [0.1111111111111111, \"#46039f\"], [0.2222222222222222, \"#7201a8\"], [0.3333333333333333, \"#9c179e\"], [0.4444444444444444, \"#bd3786\"], [0.5555555555555556, \"#d8576b\"], [0.6666666666666666, \"#ed7953\"], [0.7777777777777778, \"#fb9f3a\"], [0.8888888888888888, \"#fdca26\"], [1.0, \"#f0f921\"]], \"type\": \"heatmap\"}], \"heatmapgl\": [{\"colorbar\": {\"outlinewidth\": 0, \"ticks\": \"\"}, \"colorscale\": [[0.0, \"#0d0887\"], [0.1111111111111111, \"#46039f\"], [0.2222222222222222, \"#7201a8\"], [0.3333333333333333, \"#9c179e\"], [0.4444444444444444, \"#bd3786\"], [0.5555555555555556, \"#d8576b\"], [0.6666666666666666, \"#ed7953\"], [0.7777777777777778, \"#fb9f3a\"], [0.8888888888888888, \"#fdca26\"], [1.0, \"#f0f921\"]], \"type\": \"heatmapgl\"}], \"histogram\": [{\"marker\": {\"colorbar\": {\"outlinewidth\": 0, \"ticks\": \"\"}}, \"type\": \"histogram\"}], \"histogram2d\": [{\"colorbar\": {\"outlinewidth\": 0, \"ticks\": \"\"}, \"colorscale\": [[0.0, \"#0d0887\"], [0.1111111111111111, \"#46039f\"], [0.2222222222222222, \"#7201a8\"], [0.3333333333333333, \"#9c179e\"], [0.4444444444444444, \"#bd3786\"], [0.5555555555555556, \"#d8576b\"], [0.6666666666666666, \"#ed7953\"], [0.7777777777777778, \"#fb9f3a\"], [0.8888888888888888, \"#fdca26\"], [1.0, \"#f0f921\"]], \"type\": \"histogram2d\"}], \"histogram2dcontour\": [{\"colorbar\": {\"outlinewidth\": 0, \"ticks\": \"\"}, \"colorscale\": [[0.0, \"#0d0887\"], [0.1111111111111111, \"#46039f\"], [0.2222222222222222, \"#7201a8\"], [0.3333333333333333, \"#9c179e\"], [0.4444444444444444, \"#bd3786\"], [0.5555555555555556, \"#d8576b\"], [0.6666666666666666, \"#ed7953\"], [0.7777777777777778, \"#fb9f3a\"], [0.8888888888888888, \"#fdca26\"], [1.0, \"#f0f921\"]], \"type\": \"histogram2dcontour\"}], \"mesh3d\": [{\"colorbar\": {\"outlinewidth\": 0, \"ticks\": \"\"}, \"type\": \"mesh3d\"}], \"parcoords\": [{\"line\": {\"colorbar\": {\"outlinewidth\": 0, \"ticks\": \"\"}}, \"type\": \"parcoords\"}], \"scatter\": [{\"marker\": {\"colorbar\": {\"outlinewidth\": 0, \"ticks\": \"\"}}, \"type\": \"scatter\"}], \"scatter3d\": [{\"line\": {\"colorbar\": {\"outlinewidth\": 0, \"ticks\": \"\"}}, \"marker\": {\"colorbar\": {\"outlinewidth\": 0, \"ticks\": \"\"}}, \"type\": \"scatter3d\"}], \"scattercarpet\": [{\"marker\": {\"colorbar\": {\"outlinewidth\": 0, \"ticks\": \"\"}}, \"type\": \"scattercarpet\"}], \"scattergeo\": [{\"marker\": {\"colorbar\": {\"outlinewidth\": 0, \"ticks\": \"\"}}, \"type\": \"scattergeo\"}], \"scattergl\": [{\"marker\": {\"colorbar\": {\"outlinewidth\": 0, \"ticks\": \"\"}}, \"type\": \"scattergl\"}], \"scattermapbox\": [{\"marker\": {\"colorbar\": {\"outlinewidth\": 0, \"ticks\": \"\"}}, \"type\": \"scattermapbox\"}], \"scatterpolar\": [{\"marker\": {\"colorbar\": {\"outlinewidth\": 0, \"ticks\": \"\"}}, \"type\": \"scatterpolar\"}], \"scatterpolargl\": [{\"marker\": {\"colorbar\": {\"outlinewidth\": 0, \"ticks\": \"\"}}, \"type\": \"scatterpolargl\"}], \"scatterternary\": [{\"marker\": {\"colorbar\": {\"outlinewidth\": 0, \"ticks\": \"\"}}, \"type\": \"scatterternary\"}], \"surface\": [{\"colorbar\": {\"outlinewidth\": 0, \"ticks\": \"\"}, \"colorscale\": [[0.0, \"#0d0887\"], [0.1111111111111111, \"#46039f\"], [0.2222222222222222, \"#7201a8\"], [0.3333333333333333, \"#9c179e\"], [0.4444444444444444, \"#bd3786\"], [0.5555555555555556, \"#d8576b\"], [0.6666666666666666, \"#ed7953\"], [0.7777777777777778, \"#fb9f3a\"], [0.8888888888888888, \"#fdca26\"], [1.0, \"#f0f921\"]], \"type\": \"surface\"}], \"table\": [{\"cells\": {\"fill\": {\"color\": \"#EBF0F8\"}, \"line\": {\"color\": \"white\"}}, \"header\": {\"fill\": {\"color\": \"#C8D4E3\"}, \"line\": {\"color\": \"white\"}}, \"type\": \"table\"}]}, \"layout\": {\"annotationdefaults\": {\"arrowcolor\": \"#2a3f5f\", \"arrowhead\": 0, \"arrowwidth\": 1}, \"colorscale\": {\"diverging\": [[0, \"#8e0152\"], [0.1, \"#c51b7d\"], [0.2, \"#de77ae\"], [0.3, \"#f1b6da\"], [0.4, \"#fde0ef\"], [0.5, \"#f7f7f7\"], [0.6, \"#e6f5d0\"], [0.7, \"#b8e186\"], [0.8, \"#7fbc41\"], [0.9, \"#4d9221\"], [1, \"#276419\"]], \"sequential\": [[0.0, \"#0d0887\"], [0.1111111111111111, \"#46039f\"], [0.2222222222222222, \"#7201a8\"], [0.3333333333333333, \"#9c179e\"], [0.4444444444444444, \"#bd3786\"], [0.5555555555555556, \"#d8576b\"], [0.6666666666666666, \"#ed7953\"], [0.7777777777777778, \"#fb9f3a\"], [0.8888888888888888, \"#fdca26\"], [1.0, \"#f0f921\"]], \"sequentialminus\": [[0.0, \"#0d0887\"], [0.1111111111111111, \"#46039f\"], [0.2222222222222222, \"#7201a8\"], [0.3333333333333333, \"#9c179e\"], [0.4444444444444444, \"#bd3786\"], [0.5555555555555556, \"#d8576b\"], [0.6666666666666666, \"#ed7953\"], [0.7777777777777778, \"#fb9f3a\"], [0.8888888888888888, \"#fdca26\"], [1.0, \"#f0f921\"]]}, \"colorway\": [\"#636efa\", \"#EF553B\", \"#00cc96\", \"#ab63fa\", \"#FFA15A\", \"#19d3f3\", \"#FF6692\", \"#B6E880\", \"#FF97FF\", \"#FECB52\"], \"font\": {\"color\": \"#2a3f5f\"}, \"geo\": {\"bgcolor\": \"white\", \"lakecolor\": \"white\", \"landcolor\": \"#E5ECF6\", \"showlakes\": true, \"showland\": true, \"subunitcolor\": \"white\"}, \"hoverlabel\": {\"align\": \"left\"}, \"hovermode\": \"closest\", \"mapbox\": {\"style\": \"light\"}, \"paper_bgcolor\": \"white\", \"plot_bgcolor\": \"#E5ECF6\", \"polar\": {\"angularaxis\": {\"gridcolor\": \"white\", \"linecolor\": \"white\", \"ticks\": \"\"}, \"bgcolor\": \"#E5ECF6\", \"radialaxis\": {\"gridcolor\": \"white\", \"linecolor\": \"white\", \"ticks\": \"\"}}, \"scene\": {\"xaxis\": {\"backgroundcolor\": \"#E5ECF6\", \"gridcolor\": \"white\", \"gridwidth\": 2, \"linecolor\": \"white\", \"showbackground\": true, \"ticks\": \"\", \"zerolinecolor\": \"white\"}, \"yaxis\": {\"backgroundcolor\": \"#E5ECF6\", \"gridcolor\": \"white\", \"gridwidth\": 2, \"linecolor\": \"white\", \"showbackground\": true, \"ticks\": \"\", \"zerolinecolor\": \"white\"}, \"zaxis\": {\"backgroundcolor\": \"#E5ECF6\", \"gridcolor\": \"white\", \"gridwidth\": 2, \"linecolor\": \"white\", \"showbackground\": true, \"ticks\": \"\", \"zerolinecolor\": \"white\"}}, \"shapedefaults\": {\"line\": {\"color\": \"#2a3f5f\"}}, \"ternary\": {\"aaxis\": {\"gridcolor\": \"white\", \"linecolor\": \"white\", \"ticks\": \"\"}, \"baxis\": {\"gridcolor\": \"white\", \"linecolor\": \"white\", \"ticks\": \"\"}, \"bgcolor\": \"#E5ECF6\", \"caxis\": {\"gridcolor\": \"white\", \"linecolor\": \"white\", \"ticks\": \"\"}}, \"title\": {\"x\": 0.05}, \"xaxis\": {\"automargin\": true, \"gridcolor\": \"white\", \"linecolor\": \"white\", \"ticks\": \"\", \"zerolinecolor\": \"white\", \"zerolinewidth\": 2}, \"yaxis\": {\"automargin\": true, \"gridcolor\": \"white\", \"linecolor\": \"white\", \"ticks\": \"\", \"zerolinecolor\": \"white\", \"zerolinewidth\": 2}}}, \"xaxis\": {\"type\": \"category\"}},\n",
       "                        {\"responsive\": true}\n",
       "                    ).then(function(){\n",
       "                            \n",
       "var gd = document.getElementById('a48822a3-3ddb-4292-9e46-5fe0e6a2d18c');\n",
       "var x = new MutationObserver(function (mutations, observer) {{\n",
       "        var display = window.getComputedStyle(gd).display;\n",
       "        if (!display || display === 'none') {{\n",
       "            console.log([gd, 'removed!']);\n",
       "            Plotly.purge(gd);\n",
       "            observer.disconnect();\n",
       "        }}\n",
       "}});\n",
       "\n",
       "// Listen for the removal of the full notebook cells\n",
       "var notebookContainer = gd.closest('#notebook-container');\n",
       "if (notebookContainer) {{\n",
       "    x.observe(notebookContainer, {childList: true});\n",
       "}}\n",
       "\n",
       "// Listen for the clearing of the current output cell\n",
       "var outputEl = gd.closest('.output');\n",
       "if (outputEl) {{\n",
       "    x.observe(outputEl, {childList: true});\n",
       "}}\n",
       "\n",
       "                        })\n",
       "                };\n",
       "                });\n",
       "            </script>\n",
       "        </div>"
      ]
     },
     "metadata": {},
     "output_type": "display_data"
    }
   ],
   "source": [
    "import numpy as np  \n",
    "import matplotlib.mlab as mlab  \n",
    "import matplotlib.pyplot as plt\n",
    "x_data = []\n",
    "y_data = []\n",
    "for i in range(400):\n",
    "    if term_frequencies[i] > 3: # print frequency more than 3\n",
    "        x_data.append(count_vect.get_feature_names()[i])\n",
    "        y_data.append(term_frequencies[i])\n",
    "layout = go.Layout(xaxis=dict(type='category'))\n",
    "fig = go.Figure([go.Bar(x=x_data, y=y_data)],layout = layout)\n",
    "fig.show()"
   ]
  },
  {
   "cell_type": "markdown",
   "metadata": {},
   "source": [
    "### >>> **Exercise 15 (take home):** \n",
    "Additionally, you can attempt to sort the terms on the `x-axis` by frequency instead of in alphabetical order. This way the visualization is more meaninfgul and you will be able to observe the so called [long tail](https://en.wikipedia.org/wiki/Long_tail) (get familiar with this term since it will appear a lot in data mining and other statistics courses). see picture below\n",
    "\n",
    "![alt txt](https://upload.wikimedia.org/wikipedia/commons/thumb/8/8a/Long_tail.svg/1000px-Long_tail.svg.png)"
   ]
  },
  {
   "cell_type": "code",
   "execution_count": 153,
   "metadata": {},
   "outputs": [
    {
     "data": {
      "image/png": "[encoded data removed]",
      "text/plain": [
       "<Figure size 7200x2160 with 1 Axes>"
      ]
     },
     "metadata": {
      "needs_background": "light"
     },
     "output_type": "display_data"
    }
   ],
   "source": [
    "# Answer here\n",
    "#0的值都刪除，只留下有意義的資料，或是排序集中有意義的資料在同一邊\n",
    "plt.subplots(figsize=(100, 30))\n",
    "term_fp_idx = np.argsort(term_frequencies[:100])\n",
    "g = sns.barplot(x=np.array(count_vect.get_feature_names()[:100])[term_fp_idx][::-1], \n",
    "                y=term_frequencies[:300][term_fp_idx][::-1])\n",
    "plt.show()"
   ]
  },
  {
   "cell_type": "markdown",
   "metadata": {},
   "source": [
    "### >>> **Exercise 16 (take home):**\n",
    "Try to generate the binarization using the `category_name` column instead. Does it work?"
   ]
  },
  {
   "cell_type": "code",
   "execution_count": null,
   "metadata": {},
   "outputs": [],
   "source": [
    "# Answer here\n",
    "# Yes, it work."
   ]
  },
  {
   "cell_type": "markdown",
   "metadata": {},
   "source": [
    "# Second Part"
   ]
  },
  {
   "cell_type": "code",
   "execution_count": 30,
   "metadata": {},
   "outputs": [],
   "source": [
    "categories = ['1', '0']"
   ]
  },
  {
   "cell_type": "code",
   "execution_count": 31,
   "metadata": {},
   "outputs": [
    {
     "data": {
      "text/html": [
       "<div>\n",
       "<style scoped>\n",
       "    .dataframe tbody tr th:only-of-type {\n",
       "        vertical-align: middle;\n",
       "    }\n",
       "\n",
       "    .dataframe tbody tr th {\n",
       "        vertical-align: top;\n",
       "    }\n",
       "\n",
       "    .dataframe thead th {\n",
       "        text-align: right;\n",
       "    }\n",
       "</style>\n",
       "<table border=\"1\" class=\"dataframe\">\n",
       "  <thead>\n",
       "    <tr style=\"text-align: right;\">\n",
       "      <th></th>\n",
       "      <th>sentence</th>\n",
       "      <th>label</th>\n",
       "    </tr>\n",
       "  </thead>\n",
       "  <tbody>\n",
       "    <tr>\n",
       "      <td>0</td>\n",
       "      <td>So there is no way for me to plug it in here i...</td>\n",
       "      <td>0</td>\n",
       "    </tr>\n",
       "    <tr>\n",
       "      <td>1</td>\n",
       "      <td>Good case, Excellent value.</td>\n",
       "      <td>1</td>\n",
       "    </tr>\n",
       "    <tr>\n",
       "      <td>2</td>\n",
       "      <td>Great for the jawbone.</td>\n",
       "      <td>1</td>\n",
       "    </tr>\n",
       "    <tr>\n",
       "      <td>3</td>\n",
       "      <td>Tied to charger for conversations lasting more...</td>\n",
       "      <td>0</td>\n",
       "    </tr>\n",
       "    <tr>\n",
       "      <td>4</td>\n",
       "      <td>The mic is great.</td>\n",
       "      <td>1</td>\n",
       "    </tr>\n",
       "    <tr>\n",
       "      <td>...</td>\n",
       "      <td>...</td>\n",
       "      <td>...</td>\n",
       "    </tr>\n",
       "    <tr>\n",
       "      <td>2995</td>\n",
       "      <td>I think food should have flavor and texture an...</td>\n",
       "      <td>0</td>\n",
       "    </tr>\n",
       "    <tr>\n",
       "      <td>2996</td>\n",
       "      <td>Appetite instantly gone.</td>\n",
       "      <td>0</td>\n",
       "    </tr>\n",
       "    <tr>\n",
       "      <td>2997</td>\n",
       "      <td>Overall I was not impressed and would not go b...</td>\n",
       "      <td>0</td>\n",
       "    </tr>\n",
       "    <tr>\n",
       "      <td>2998</td>\n",
       "      <td>The whole experience was underwhelming, and I ...</td>\n",
       "      <td>0</td>\n",
       "    </tr>\n",
       "    <tr>\n",
       "      <td>2999</td>\n",
       "      <td>Then, as if I hadn't wasted enough of my life ...</td>\n",
       "      <td>0</td>\n",
       "    </tr>\n",
       "  </tbody>\n",
       "</table>\n",
       "<p>3000 rows × 2 columns</p>\n",
       "</div>"
      ],
      "text/plain": [
       "                                               sentence label\n",
       "0     So there is no way for me to plug it in here i...     0\n",
       "1                           Good case, Excellent value.     1\n",
       "2                                Great for the jawbone.     1\n",
       "3     Tied to charger for conversations lasting more...     0\n",
       "4                                     The mic is great.     1\n",
       "...                                                 ...   ...\n",
       "2995  I think food should have flavor and texture an...     0\n",
       "2996                           Appetite instantly gone.     0\n",
       "2997  Overall I was not impressed and would not go b...     0\n",
       "2998  The whole experience was underwhelming, and I ...     0\n",
       "2999  Then, as if I hadn't wasted enough of my life ...     0\n",
       "\n",
       "[3000 rows x 2 columns]"
      ]
     },
     "execution_count": 31,
     "metadata": {},
     "output_type": "execute_result"
    }
   ],
   "source": [
    "fp = open('sentiment labelled sentences/amazon_cells_labelled.txt', 'r')\n",
    "data = []\n",
    "label = []\n",
    "words = fp.readlines()\n",
    "for k in words:\n",
    "    data.append(k[0:-2].strip())\n",
    "    label.append(k[-2])\n",
    "\n",
    "fp = open('sentiment labelled sentences/imdb_labelled.txt', 'r')\n",
    "words = fp.readlines()\n",
    "for k in words:\n",
    "    data.append(k[0:-2].strip())\n",
    "    label.append(k[-2])\n",
    "\n",
    "fp = open('sentiment labelled sentences/yelp_labelled.txt', 'r')\n",
    "words = fp.readlines()\n",
    "for k in words:\n",
    "    data.append(k[0:-2].strip())\n",
    "    label.append(k[-2])\n",
    "\n",
    "X_2 = pd.DataFrame(data={'sentence':data,'label':label})\n",
    "X_2"
   ]
  },
  {
   "cell_type": "code",
   "execution_count": 32,
   "metadata": {
    "scrolled": false
   },
   "outputs": [
    {
     "data": {
      "text/html": [
       "<div>\n",
       "<style scoped>\n",
       "    .dataframe tbody tr th:only-of-type {\n",
       "        vertical-align: middle;\n",
       "    }\n",
       "\n",
       "    .dataframe tbody tr th {\n",
       "        vertical-align: top;\n",
       "    }\n",
       "\n",
       "    .dataframe thead th {\n",
       "        text-align: right;\n",
       "    }\n",
       "</style>\n",
       "<table border=\"1\" class=\"dataframe\">\n",
       "  <thead>\n",
       "    <tr style=\"text-align: right;\">\n",
       "      <th></th>\n",
       "      <th>0</th>\n",
       "      <th>1</th>\n",
       "    </tr>\n",
       "  </thead>\n",
       "  <tbody>\n",
       "    <tr>\n",
       "      <td>0</td>\n",
       "      <td>So there is no way for me to plug it in here i...</td>\n",
       "      <td>0</td>\n",
       "    </tr>\n",
       "    <tr>\n",
       "      <td>1</td>\n",
       "      <td>Good case, Excellent value.</td>\n",
       "      <td>1</td>\n",
       "    </tr>\n",
       "    <tr>\n",
       "      <td>2</td>\n",
       "      <td>Great for the jawbone.</td>\n",
       "      <td>1</td>\n",
       "    </tr>\n",
       "    <tr>\n",
       "      <td>3</td>\n",
       "      <td>Tied to charger for conversations lasting more...</td>\n",
       "      <td>0</td>\n",
       "    </tr>\n",
       "    <tr>\n",
       "      <td>4</td>\n",
       "      <td>The mic is great.</td>\n",
       "      <td>1</td>\n",
       "    </tr>\n",
       "    <tr>\n",
       "      <td>...</td>\n",
       "      <td>...</td>\n",
       "      <td>...</td>\n",
       "    </tr>\n",
       "    <tr>\n",
       "      <td>2743</td>\n",
       "      <td>I think food should have flavor and texture an...</td>\n",
       "      <td>0</td>\n",
       "    </tr>\n",
       "    <tr>\n",
       "      <td>2744</td>\n",
       "      <td>Appetite instantly gone.</td>\n",
       "      <td>0</td>\n",
       "    </tr>\n",
       "    <tr>\n",
       "      <td>2745</td>\n",
       "      <td>Overall I was not impressed and would not go b...</td>\n",
       "      <td>0</td>\n",
       "    </tr>\n",
       "    <tr>\n",
       "      <td>2746</td>\n",
       "      <td>The whole experience was underwhelming, and I ...</td>\n",
       "      <td>0</td>\n",
       "    </tr>\n",
       "    <tr>\n",
       "      <td>2747</td>\n",
       "      <td>Then, as if I hadn't wasted enough of my life ...</td>\n",
       "      <td>0</td>\n",
       "    </tr>\n",
       "  </tbody>\n",
       "</table>\n",
       "<p>2748 rows × 2 columns</p>\n",
       "</div>"
      ],
      "text/plain": [
       "                                                      0  1\n",
       "0     So there is no way for me to plug it in here i...  0\n",
       "1                           Good case, Excellent value.  1\n",
       "2                                Great for the jawbone.  1\n",
       "3     Tied to charger for conversations lasting more...  0\n",
       "4                                     The mic is great.  1\n",
       "...                                                 ... ..\n",
       "2743  I think food should have flavor and texture an...  0\n",
       "2744                           Appetite instantly gone.  0\n",
       "2745  Overall I was not impressed and would not go b...  0\n",
       "2746  The whole experience was underwhelming, and I ...  0\n",
       "2747  Then, as if I hadn't wasted enough of my life ...  0\n",
       "\n",
       "[2748 rows x 2 columns]"
      ]
     },
     "execution_count": 32,
     "metadata": {},
     "output_type": "execute_result"
    }
   ],
   "source": [
    "df1 = pd.read_table('sentiment labelled sentences/amazon_cells_labelled.txt', sep = \"\\t\",header = None)\n",
    "df2 = pd.read_table('sentiment labelled sentences/imdb_labelled.txt', sep = \"\\t\",header = None)\n",
    "df3 = pd.read_table('sentiment labelled sentences/yelp_labelled.txt', sep = \"\\t\",header = None)\n",
    "df1 = df1.append(df2, ignore_index = True)\n",
    "df_all = df1.append(df3, ignore_index = True) \n",
    "df_all"
   ]
  },
  {
   "cell_type": "markdown",
   "metadata": {},
   "source": [
    "### ** >>> Exercise 1<<<**"
   ]
  },
  {
   "cell_type": "code",
   "execution_count": 33,
   "metadata": {},
   "outputs": [
    {
     "name": "stdout",
     "output_type": "stream",
     "text": [
      "Wow... Loved this place.\t1\n",
      "\n",
      "Crust is not good.\t0\n",
      "\n",
      "Not tasty and the texture was just nasty.\t0\n",
      "\n",
      "Stopped by during the late May bank holiday off Rick Steve recommendation and loved it.\t1\n",
      "\n",
      "The selection on the menu was great and so were the prices.\t1\n",
      "\n",
      "Now I am getting angry and I want my damn pho.\t0\n",
      "\n",
      "Honeslty it didn't taste THAT fresh.)\t0\n",
      "\n"
     ]
    }
   ],
   "source": [
    "# Answer here\n",
    "for t in words[:7]:\n",
    "    print(t)"
   ]
  },
  {
   "cell_type": "code",
   "execution_count": 34,
   "metadata": {},
   "outputs": [
    {
     "data": {
      "text/plain": [
       "['Wow... Loved this place.\\t1\\n', 'Crust is not good.\\t0\\n']"
      ]
     },
     "execution_count": 34,
     "metadata": {},
     "output_type": "execute_result"
    }
   ],
   "source": [
    "words[0:2]"
   ]
  },
  {
   "cell_type": "markdown",
   "metadata": {},
   "source": [
    "### **>>> Exercise 2 (take home):**"
   ]
  },
  {
   "cell_type": "code",
   "execution_count": 35,
   "metadata": {},
   "outputs": [
    {
     "data": {
      "text/html": [
       "<div>\n",
       "<style scoped>\n",
       "    .dataframe tbody tr th:only-of-type {\n",
       "        vertical-align: middle;\n",
       "    }\n",
       "\n",
       "    .dataframe tbody tr th {\n",
       "        vertical-align: top;\n",
       "    }\n",
       "\n",
       "    .dataframe thead th {\n",
       "        text-align: right;\n",
       "    }\n",
       "</style>\n",
       "<table border=\"1\" class=\"dataframe\">\n",
       "  <thead>\n",
       "    <tr style=\"text-align: right;\">\n",
       "      <th></th>\n",
       "      <th>sentence</th>\n",
       "      <th>label</th>\n",
       "    </tr>\n",
       "  </thead>\n",
       "  <tbody>\n",
       "    <tr>\n",
       "      <td>10</td>\n",
       "      <td>And the sound quality is great.</td>\n",
       "      <td>1</td>\n",
       "    </tr>\n",
       "    <tr>\n",
       "      <td>11</td>\n",
       "      <td>He was very impressed when going from the orig...</td>\n",
       "      <td>1</td>\n",
       "    </tr>\n",
       "    <tr>\n",
       "      <td>12</td>\n",
       "      <td>If the two were seperated by a mere 5+ ft I st...</td>\n",
       "      <td>0</td>\n",
       "    </tr>\n",
       "    <tr>\n",
       "      <td>13</td>\n",
       "      <td>Very good quality though</td>\n",
       "      <td>1</td>\n",
       "    </tr>\n",
       "    <tr>\n",
       "      <td>14</td>\n",
       "      <td>The design is very odd, as the ear \"clip\" is n...</td>\n",
       "      <td>0</td>\n",
       "    </tr>\n",
       "    <tr>\n",
       "      <td>15</td>\n",
       "      <td>Highly recommend for any one who has a blue to...</td>\n",
       "      <td>1</td>\n",
       "    </tr>\n",
       "    <tr>\n",
       "      <td>16</td>\n",
       "      <td>I advise EVERYONE DO NOT BE FOOLED!</td>\n",
       "      <td>0</td>\n",
       "    </tr>\n",
       "    <tr>\n",
       "      <td>17</td>\n",
       "      <td>So Far So Good!.</td>\n",
       "      <td>1</td>\n",
       "    </tr>\n",
       "    <tr>\n",
       "      <td>18</td>\n",
       "      <td>Works great!.</td>\n",
       "      <td>1</td>\n",
       "    </tr>\n",
       "    <tr>\n",
       "      <td>19</td>\n",
       "      <td>It clicks into place in a way that makes you w...</td>\n",
       "      <td>0</td>\n",
       "    </tr>\n",
       "    <tr>\n",
       "      <td>20</td>\n",
       "      <td>I went on Motorola's website and followed all ...</td>\n",
       "      <td>0</td>\n",
       "    </tr>\n",
       "  </tbody>\n",
       "</table>\n",
       "</div>"
      ],
      "text/plain": [
       "                                             sentence label\n",
       "10                    And the sound quality is great.     1\n",
       "11  He was very impressed when going from the orig...     1\n",
       "12  If the two were seperated by a mere 5+ ft I st...     0\n",
       "13                           Very good quality though     1\n",
       "14  The design is very odd, as the ear \"clip\" is n...     0\n",
       "15  Highly recommend for any one who has a blue to...     1\n",
       "16                I advise EVERYONE DO NOT BE FOOLED!     0\n",
       "17                                   So Far So Good!.     1\n",
       "18                                      Works great!.     1\n",
       "19  It clicks into place in a way that makes you w...     0\n",
       "20  I went on Motorola's website and followed all ...     0"
      ]
     },
     "execution_count": 35,
     "metadata": {},
     "output_type": "execute_result"
    }
   ],
   "source": [
    "#Answer here\n",
    "X_2.loc[10:20]"
   ]
  },
  {
   "cell_type": "code",
   "execution_count": 36,
   "metadata": {},
   "outputs": [
    {
     "data": {
      "text/html": [
       "<div>\n",
       "<style scoped>\n",
       "    .dataframe tbody tr th:only-of-type {\n",
       "        vertical-align: middle;\n",
       "    }\n",
       "\n",
       "    .dataframe tbody tr th {\n",
       "        vertical-align: top;\n",
       "    }\n",
       "\n",
       "    .dataframe thead th {\n",
       "        text-align: right;\n",
       "    }\n",
       "</style>\n",
       "<table border=\"1\" class=\"dataframe\">\n",
       "  <thead>\n",
       "    <tr style=\"text-align: right;\">\n",
       "      <th></th>\n",
       "      <th>sentence</th>\n",
       "      <th>label</th>\n",
       "    </tr>\n",
       "  </thead>\n",
       "  <tbody>\n",
       "    <tr>\n",
       "      <td>10</td>\n",
       "      <td>And the sound quality is great.</td>\n",
       "      <td>1</td>\n",
       "    </tr>\n",
       "    <tr>\n",
       "      <td>11</td>\n",
       "      <td>He was very impressed when going from the orig...</td>\n",
       "      <td>1</td>\n",
       "    </tr>\n",
       "    <tr>\n",
       "      <td>12</td>\n",
       "      <td>If the two were seperated by a mere 5+ ft I st...</td>\n",
       "      <td>0</td>\n",
       "    </tr>\n",
       "    <tr>\n",
       "      <td>13</td>\n",
       "      <td>Very good quality though</td>\n",
       "      <td>1</td>\n",
       "    </tr>\n",
       "    <tr>\n",
       "      <td>14</td>\n",
       "      <td>The design is very odd, as the ear \"clip\" is n...</td>\n",
       "      <td>0</td>\n",
       "    </tr>\n",
       "    <tr>\n",
       "      <td>15</td>\n",
       "      <td>Highly recommend for any one who has a blue to...</td>\n",
       "      <td>1</td>\n",
       "    </tr>\n",
       "    <tr>\n",
       "      <td>16</td>\n",
       "      <td>I advise EVERYONE DO NOT BE FOOLED!</td>\n",
       "      <td>0</td>\n",
       "    </tr>\n",
       "    <tr>\n",
       "      <td>17</td>\n",
       "      <td>So Far So Good!.</td>\n",
       "      <td>1</td>\n",
       "    </tr>\n",
       "    <tr>\n",
       "      <td>18</td>\n",
       "      <td>Works great!.</td>\n",
       "      <td>1</td>\n",
       "    </tr>\n",
       "    <tr>\n",
       "      <td>19</td>\n",
       "      <td>It clicks into place in a way that makes you w...</td>\n",
       "      <td>0</td>\n",
       "    </tr>\n",
       "  </tbody>\n",
       "</table>\n",
       "</div>"
      ],
      "text/plain": [
       "                                             sentence label\n",
       "10                    And the sound quality is great.     1\n",
       "11  He was very impressed when going from the orig...     1\n",
       "12  If the two were seperated by a mere 5+ ft I st...     0\n",
       "13                           Very good quality though     1\n",
       "14  The design is very odd, as the ear \"clip\" is n...     0\n",
       "15  Highly recommend for any one who has a blue to...     1\n",
       "16                I advise EVERYONE DO NOT BE FOOLED!     0\n",
       "17                                   So Far So Good!.     1\n",
       "18                                      Works great!.     1\n",
       "19  It clicks into place in a way that makes you w...     0"
      ]
     },
     "execution_count": 36,
     "metadata": {},
     "output_type": "execute_result"
    }
   ],
   "source": [
    "X_2[10:20][[\"sentence\",\"label\"]]"
   ]
  },
  {
   "cell_type": "code",
   "execution_count": 37,
   "metadata": {},
   "outputs": [
    {
     "data": {
      "text/html": [
       "<div>\n",
       "<style scoped>\n",
       "    .dataframe tbody tr th:only-of-type {\n",
       "        vertical-align: middle;\n",
       "    }\n",
       "\n",
       "    .dataframe tbody tr th {\n",
       "        vertical-align: top;\n",
       "    }\n",
       "\n",
       "    .dataframe thead th {\n",
       "        text-align: right;\n",
       "    }\n",
       "</style>\n",
       "<table border=\"1\" class=\"dataframe\">\n",
       "  <thead>\n",
       "    <tr style=\"text-align: right;\">\n",
       "      <th></th>\n",
       "      <th>sentence</th>\n",
       "      <th>label</th>\n",
       "    </tr>\n",
       "  </thead>\n",
       "  <tbody>\n",
       "    <tr>\n",
       "      <td>0</td>\n",
       "      <td>So there is no way for me to plug it in here i...</td>\n",
       "      <td>0</td>\n",
       "    </tr>\n",
       "    <tr>\n",
       "      <td>1</td>\n",
       "      <td>Good case, Excellent value.</td>\n",
       "      <td>1</td>\n",
       "    </tr>\n",
       "    <tr>\n",
       "      <td>2</td>\n",
       "      <td>Great for the jawbone.</td>\n",
       "      <td>1</td>\n",
       "    </tr>\n",
       "    <tr>\n",
       "      <td>3</td>\n",
       "      <td>Tied to charger for conversations lasting more...</td>\n",
       "      <td>0</td>\n",
       "    </tr>\n",
       "    <tr>\n",
       "      <td>4</td>\n",
       "      <td>The mic is great.</td>\n",
       "      <td>1</td>\n",
       "    </tr>\n",
       "    <tr>\n",
       "      <td>...</td>\n",
       "      <td>...</td>\n",
       "      <td>...</td>\n",
       "    </tr>\n",
       "    <tr>\n",
       "      <td>2995</td>\n",
       "      <td>I think food should have flavor and texture an...</td>\n",
       "      <td>0</td>\n",
       "    </tr>\n",
       "    <tr>\n",
       "      <td>2996</td>\n",
       "      <td>Appetite instantly gone.</td>\n",
       "      <td>0</td>\n",
       "    </tr>\n",
       "    <tr>\n",
       "      <td>2997</td>\n",
       "      <td>Overall I was not impressed and would not go b...</td>\n",
       "      <td>0</td>\n",
       "    </tr>\n",
       "    <tr>\n",
       "      <td>2998</td>\n",
       "      <td>The whole experience was underwhelming, and I ...</td>\n",
       "      <td>0</td>\n",
       "    </tr>\n",
       "    <tr>\n",
       "      <td>2999</td>\n",
       "      <td>Then, as if I hadn't wasted enough of my life ...</td>\n",
       "      <td>0</td>\n",
       "    </tr>\n",
       "  </tbody>\n",
       "</table>\n",
       "<p>3000 rows × 2 columns</p>\n",
       "</div>"
      ],
      "text/plain": [
       "                                               sentence label\n",
       "0     So there is no way for me to plug it in here i...     0\n",
       "1                           Good case, Excellent value.     1\n",
       "2                                Great for the jawbone.     1\n",
       "3     Tied to charger for conversations lasting more...     0\n",
       "4                                     The mic is great.     1\n",
       "...                                                 ...   ...\n",
       "2995  I think food should have flavor and texture an...     0\n",
       "2996                           Appetite instantly gone.     0\n",
       "2997  Overall I was not impressed and would not go b...     0\n",
       "2998  The whole experience was underwhelming, and I ...     0\n",
       "2999  Then, as if I hadn't wasted enough of my life ...     0\n",
       "\n",
       "[3000 rows x 2 columns]"
      ]
     },
     "execution_count": 37,
     "metadata": {},
     "output_type": "execute_result"
    }
   ],
   "source": [
    "X_2.loc[-10:]"
   ]
  },
  {
   "cell_type": "markdown",
   "metadata": {},
   "source": [
    "### ** >>> Exercise 3 (5 min): **  "
   ]
  },
  {
   "cell_type": "code",
   "execution_count": 38,
   "metadata": {},
   "outputs": [
    {
     "data": {
      "text/html": [
       "<div>\n",
       "<style scoped>\n",
       "    .dataframe tbody tr th:only-of-type {\n",
       "        vertical-align: middle;\n",
       "    }\n",
       "\n",
       "    .dataframe tbody tr th {\n",
       "        vertical-align: top;\n",
       "    }\n",
       "\n",
       "    .dataframe thead th {\n",
       "        text-align: right;\n",
       "    }\n",
       "</style>\n",
       "<table border=\"1\" class=\"dataframe\">\n",
       "  <thead>\n",
       "    <tr style=\"text-align: right;\">\n",
       "      <th></th>\n",
       "      <th>sentence</th>\n",
       "      <th>label</th>\n",
       "    </tr>\n",
       "  </thead>\n",
       "  <tbody>\n",
       "    <tr>\n",
       "      <td>0</td>\n",
       "      <td>So there is no way for me to plug it in here i...</td>\n",
       "      <td>0</td>\n",
       "    </tr>\n",
       "    <tr>\n",
       "      <td>20</td>\n",
       "      <td>I went on Motorola's website and followed all ...</td>\n",
       "      <td>0</td>\n",
       "    </tr>\n",
       "    <tr>\n",
       "      <td>37</td>\n",
       "      <td>Poor Talk Time Performance.</td>\n",
       "      <td>0</td>\n",
       "    </tr>\n",
       "    <tr>\n",
       "      <td>60</td>\n",
       "      <td>Essentially you can forget Microsoft's tech su...</td>\n",
       "      <td>0</td>\n",
       "    </tr>\n",
       "    <tr>\n",
       "      <td>83</td>\n",
       "      <td>The battery runs down quickly.</td>\n",
       "      <td>0</td>\n",
       "    </tr>\n",
       "  </tbody>\n",
       "</table>\n",
       "</div>"
      ],
      "text/plain": [
       "                                             sentence label\n",
       "0   So there is no way for me to plug it in here i...     0\n",
       "20  I went on Motorola's website and followed all ...     0\n",
       "37                        Poor Talk Time Performance.     0\n",
       "60  Essentially you can forget Microsoft's tech su...     0\n",
       "83                     The battery runs down quickly.     0"
      ]
     },
     "execution_count": 38,
     "metadata": {},
     "output_type": "execute_result"
    }
   ],
   "source": [
    "#answer \n",
    "X_2[X_2[\"label\"] == '0'][::10][0:5]"
   ]
  },
  {
   "cell_type": "markdown",
   "metadata": {},
   "source": [
    "### >>> **Exercise 4 (5 min):** "
   ]
  },
  {
   "cell_type": "code",
   "execution_count": 39,
   "metadata": {
    "scrolled": true
   },
   "outputs": [
    {
     "data": {
      "text/plain": [
       "0       (The amoung of missing records is: , 0)\n",
       "1       (The amoung of missing records is: , 0)\n",
       "2       (The amoung of missing records is: , 0)\n",
       "3       (The amoung of missing records is: , 0)\n",
       "4       (The amoung of missing records is: , 0)\n",
       "                         ...                   \n",
       "2995    (The amoung of missing records is: , 0)\n",
       "2996    (The amoung of missing records is: , 0)\n",
       "2997    (The amoung of missing records is: , 0)\n",
       "2998    (The amoung of missing records is: , 0)\n",
       "2999    (The amoung of missing records is: , 0)\n",
       "Length: 3000, dtype: object"
      ]
     },
     "execution_count": 39,
     "metadata": {},
     "output_type": "execute_result"
    }
   ],
   "source": [
    "X_2.isnull().apply(lambda x: dmh.check_missing_values(x), axis=1)"
   ]
  },
  {
   "cell_type": "markdown",
   "metadata": {},
   "source": [
    "### Sampling"
   ]
  },
  {
   "cell_type": "code",
   "execution_count": 40,
   "metadata": {},
   "outputs": [],
   "source": [
    "X_2_sample = X_2.sample(n=1000)"
   ]
  },
  {
   "cell_type": "markdown",
   "metadata": {},
   "source": [
    "### >>> **Exercise7<<<** "
   ]
  },
  {
   "cell_type": "code",
   "execution_count": 41,
   "metadata": {},
   "outputs": [
    {
     "name": "stdout",
     "output_type": "stream",
     "text": [
      "1    506\n",
      "0    494\n",
      "Name: label, dtype: int64\n"
     ]
    },
    {
     "data": {
      "text/plain": [
       "<matplotlib.axes._subplots.AxesSubplot at 0x11a97f780>"
      ]
     },
     "execution_count": 41,
     "metadata": {},
     "output_type": "execute_result"
    },
    {
     "data": {
      "image/png": "[encoded data removed]",
      "text/plain": [
       "<Figure size 576x432 with 1 Axes>"
      ]
     },
     "metadata": {
      "needs_background": "light"
     },
     "output_type": "display_data"
    }
   ],
   "source": [
    "# Answer here\n",
    "upper_bound = max(X_2_sample.label.value_counts())+10\n",
    "print(X_2_sample.label.value_counts())\n",
    "\n",
    "# plot barchart for X_sample\n",
    "X_2_sample.label.value_counts().plot(kind = 'bar', title = 'label distribution', ylim = [0, upper_bound], rot = 0, fontsize = 12, figsize = (8,6))\n"
   ]
  },
  {
   "cell_type": "markdown",
   "metadata": {},
   "source": [
    "### >>> **Exercise8<<<** "
   ]
  },
  {
   "cell_type": "code",
   "execution_count": 42,
   "metadata": {},
   "outputs": [
    {
     "data": {
      "text/plain": [
       "<matplotlib.axes._subplots.AxesSubplot at 0x11f049dd8>"
      ]
     },
     "execution_count": 42,
     "metadata": {},
     "output_type": "execute_result"
    },
    {
     "data": {
      "image/png": "[encoded data removed]",
      "text/plain": [
       "<Figure size 576x576 with 1 Axes>"
      ]
     },
     "metadata": {
      "needs_background": "light"
     },
     "output_type": "display_data"
    }
   ],
   "source": [
    "#Answer here\n",
    "X2_ori = X_2.label.value_counts()\n",
    "X2_sampling = X_2_sample.label.value_counts()\n",
    "index = X_2.label.value_counts().index\n",
    "df = pd.DataFrame({'X_2': X2_ori, 'X2_sampling':X2_sampling}, index = index)\n",
    "df.plot(kind = 'bar', title = 'label distribution', ylim = [0, 2000], rot = 0, fontsize = 12, figsize = (8,8))\n",
    "\n"
   ]
  },
  {
   "cell_type": "code",
   "execution_count": null,
   "metadata": {},
   "outputs": [],
   "source": []
  },
  {
   "cell_type": "markdown",
   "metadata": {},
   "source": [
    "### >>> Exercise 9"
   ]
  },
  {
   "cell_type": "code",
   "execution_count": 44,
   "metadata": {},
   "outputs": [
    {
     "data": {
      "text/plain": [
       "['so',\n",
       " 'there',\n",
       " 'is',\n",
       " 'no',\n",
       " 'way',\n",
       " 'for',\n",
       " 'me',\n",
       " 'to',\n",
       " 'plug',\n",
       " 'it',\n",
       " 'in',\n",
       " 'here',\n",
       " 'in',\n",
       " 'the',\n",
       " 'us',\n",
       " 'unless',\n",
       " 'go',\n",
       " 'by',\n",
       " 'converter']"
      ]
     },
     "execution_count": 44,
     "metadata": {},
     "output_type": "execute_result"
    }
   ],
   "source": [
    "# Answer here\n",
    "#TA's answer\n",
    "analyze(\" \".join(list(X_2 [:1].sentence)))"
   ]
  },
  {
   "cell_type": "markdown",
   "metadata": {},
   "source": [
    "### >>> Exercise 10 "
   ]
  },
  {
   "cell_type": "code",
   "execution_count": 160,
   "metadata": {},
   "outputs": [],
   "source": [
    "count_vect2 = CountVectorizer()\n",
    "X2_counts = count_vect2.fit_transform(X_2.sentence)\n",
    "#analyze = count_vect2.build_analyzer()\n",
    "count_vect2.get_feature_names()[0:38]\n",
    "X2_array = X2_counts[0:5, 0:200].toarray()"
   ]
  },
  {
   "cell_type": "code",
   "execution_count": 161,
   "metadata": {},
   "outputs": [
    {
     "name": "stdout",
     "output_type": "stream",
     "text": [
      "45\n"
     ]
    }
   ],
   "source": [
    "#Answer for Exercise 10\n",
    "for i in X2_array:\n",
    "    for j in range(len(i)):\n",
    "        if i[j]==1:\n",
    "            print(count_vect2.get_feature_names()[j])"
   ]
  },
  {
   "cell_type": "markdown",
   "metadata": {},
   "source": [
    "### >>> Exercise 11"
   ]
  },
  {
   "cell_type": "code",
   "execution_count": 162,
   "metadata": {},
   "outputs": [
    {
     "data": {
      "image/png": "[encoded data removed]",
      "text/plain": [
       "<Figure size 648x504 with 2 Axes>"
      ]
     },
     "metadata": {
      "needs_background": "light"
     },
     "output_type": "display_data"
    }
   ],
   "source": [
    "# Answer here\n",
    "size_ = 100\n",
    "plot_x = [\"term_\"+str(i) for i in count_vect2.get_feature_names()[0:size_]]\n",
    "plot_y = [\"doc_\"+ str(i) for i in list(X_2.index)[0:size_]]\n",
    "plot_z = X2_counts[0:size_, 0:size_].toarray()\n",
    "\n",
    "import seaborn as sns\n",
    "\n",
    "df_todraw = pd.DataFrame(plot_z, columns = plot_x, index = plot_y)\n",
    "masked = np.ones((size_, size_), dtype=bool)\n",
    "for i in range(size_):\n",
    "    for j in range(size_):\n",
    "        if plot_z[i][j] == 1:\n",
    "            masked[i][j] = False\n",
    "plt.subplots(figsize=(9, 7))\n",
    "ax = sns.heatmap(df_todraw,\n",
    "                 cmap=\"PuRd\",\n",
    "                 vmin=0, vmax=1, annot=True, mask=masked)"
   ]
  },
  {
   "cell_type": "markdown",
   "metadata": {},
   "source": [
    "## Exercise 12"
   ]
  },
  {
   "cell_type": "code",
   "execution_count": 163,
   "metadata": {},
   "outputs": [],
   "source": [
    "from sklearn.decomposition import PCA\n",
    "X2_reduced = PCA(n_components = 3).fit_transform(X2_counts.toarray())\n",
    "\n",
    "col = ['coral', 'blue', 'black', 'm']"
   ]
  },
  {
   "cell_type": "code",
   "execution_count": 164,
   "metadata": {},
   "outputs": [
    {
     "data": {
      "image/png": "[encoded data removed]",
      "text/plain": [
       "<Figure size 576x432 with 1 Axes>"
      ]
     },
     "metadata": {
      "needs_background": "light"
     },
     "output_type": "display_data"
    }
   ],
   "source": [
    "from mpl_toolkits.mplot3d import Axes3D\n",
    "\n",
    "fig = plt.figure(figsize=(8,6))\n",
    "ax = Axes3D(fig)\n",
    "\n",
    "for c, category in zip(col, categories):\n",
    "    xs2 = X2_reduced[X_2['label'] == category].T[0]\n",
    "    ys2 = X2_reduced[X_2['label'] == category].T[1]\n",
    "    zs2 = X2_reduced[X_2['label'] == category].T[2]\n",
    "    \n",
    "    ax.scatter(xs2, ys2, zs2, c = c, marker='o')\n",
    "\n",
    "\n",
    "ax.grid(color='gray', linestyle=':', linewidth=2, alpha=0.2)\n",
    "ax.set_xlabel('\\nX Label')\n",
    "ax.set_ylabel('\\nY Label')\n",
    "ax.set_zlabel('\\nZ Label')\n",
    "ax.view_init(20, 30)\n",
    "plt.show()"
   ]
  },
  {
   "cell_type": "code",
   "execution_count": 165,
   "metadata": {},
   "outputs": [
    {
     "data": {
      "image/png": "[encoded data removed]",
      "text/plain": [
       "<Figure size 576x432 with 1 Axes>"
      ]
     },
     "metadata": {
      "needs_background": "light"
     },
     "output_type": "display_data"
    }
   ],
   "source": [
    "from mpl_toolkits.mplot3d import Axes3D\n",
    "\n",
    "fig = plt.figure(figsize=(8,6))\n",
    "ax = Axes3D(fig)\n",
    "\n",
    "for c, category in zip(col, categories):\n",
    "    xs2 = X2_reduced[X_2['label'] == category].T[0]\n",
    "    ys2 = X2_reduced[X_2['label'] == category].T[1]\n",
    "    zs2 = X2_reduced[X_2['label'] == category].T[2]\n",
    "    \n",
    "    ax.scatter(xs2, ys2, zs2, c = c, marker='o')\n",
    "\n",
    "\n",
    "ax.grid(color='gray', linestyle=':', linewidth=2, alpha=0.2)\n",
    "ax.set_xlabel('\\nX Label')\n",
    "ax.set_ylabel('\\nY Label')\n",
    "ax.set_zlabel('\\nZ Label')\n",
    "ax.view_init(10, 100)\n",
    "plt.show()"
   ]
  },
  {
   "cell_type": "code",
   "execution_count": 166,
   "metadata": {},
   "outputs": [
    {
     "data": {
      "image/png": "[encoded data removed]",
      "text/plain": [
       "<Figure size 576x432 with 1 Axes>"
      ]
     },
     "metadata": {
      "needs_background": "light"
     },
     "output_type": "display_data"
    }
   ],
   "source": [
    "from mpl_toolkits.mplot3d import Axes3D\n",
    "\n",
    "fig = plt.figure(figsize=(8,6))\n",
    "ax = Axes3D(fig)\n",
    "\n",
    "for c, category in zip(col, categories):\n",
    "    xs2 = X2_reduced[X_2['label'] == category].T[0]\n",
    "    ys2 = X2_reduced[X_2['label'] == category].T[1]\n",
    "    zs2 = X2_reduced[X_2['label'] == category].T[2]\n",
    "    \n",
    "    ax.scatter(xs2, ys2, zs2, c = c, marker='o')\n",
    "\n",
    "\n",
    "ax.grid(color='gray', linestyle=':', linewidth=2, alpha=0.2)\n",
    "ax.set_xlabel('\\nX Label')\n",
    "ax.set_ylabel('\\nY Label')\n",
    "ax.set_zlabel('\\nZ Label')\n",
    "ax.view_init(10, 260)\n",
    "plt.show()"
   ]
  },
  {
   "cell_type": "markdown",
   "metadata": {},
   "source": [
    "### >>> **Exercise 13 (take home):"
   ]
  },
  {
   "cell_type": "code",
   "execution_count": 167,
   "metadata": {},
   "outputs": [
    {
     "name": "stdout",
     "output_type": "stream",
     "text": [
      "   sentence  frequency\n",
      "0        00        134\n",
      "1        10         92\n",
      "2       100          1\n",
      "3        11          2\n",
      "4        12          1\n",
      "5        13          3\n",
      "6        15          1\n",
      "7       15g          1\n",
      "8      15pm          1\n",
      "9        17          1\n",
      "10       18          2\n",
      "11     18th          1\n",
      "12     1928          1\n",
      "13     1947          3\n",
      "14     1948          1\n",
      "15     1949          1\n",
      "16     1971          1\n",
      "17     1973          2\n",
      "18     1979          1\n",
      "19     1980          3\n",
      "20     1986          1\n",
      "21     1995          2\n",
      "22     1998          1\n",
      "23       20          1\n",
      "24     2000          1\n",
      "25     2005          2\n",
      "26     2006          1\n",
      "27     2007          1\n",
      "28     20th          1\n",
      "29     2160          1\n",
      "30       23          1\n",
      "31       24          1\n",
      "32       25          1\n",
      "33      2mp          1\n",
      "34       30          5\n",
      "35      30s          1\n",
      "36      325         13\n",
      "37       35         95\n",
      "38      350          4\n",
      "39      375          1\n"
     ]
    }
   ],
   "source": [
    "#Answer for Exercise 13\n",
    "#import plotly.express as px\n",
    "#import plotly.graph_objects as go\n",
    "pd_freq2 = pd.DataFrame({'sentence':count_vect2.get_feature_names()[:40], 'frequency':term_frequencies[:40]})\n",
    "#layout2 = go.Layout(xaxis=dict(type='label'))\n",
    "#fig = go.Figure([go.Bar(x=pd_freq2.sentence, y=pd_freq.frequency)],layout = layout2)\n",
    "#fig.show()\n",
    "print(pd_freq2)"
   ]
  },
  {
   "cell_type": "markdown",
   "metadata": {},
   "source": [
    "### >>> **Exercise 14 (take home):"
   ]
  },
  {
   "cell_type": "code",
   "execution_count": null,
   "metadata": {},
   "outputs": [],
   "source": []
  },
  {
   "cell_type": "markdown",
   "metadata": {},
   "source": [
    "### >>> **Exercise 15"
   ]
  },
  {
   "cell_type": "code",
   "execution_count": null,
   "metadata": {},
   "outputs": [],
   "source": []
  },
  {
   "cell_type": "markdown",
   "metadata": {},
   "source": [
    "### TFIDF"
   ]
  },
  {
   "cell_type": "code",
   "execution_count": 52,
   "metadata": {},
   "outputs": [],
   "source": [
    "from sklearn.feature_extraction.text import TfidfVectorizer"
   ]
  },
  {
   "cell_type": "code",
   "execution_count": 63,
   "metadata": {},
   "outputs": [
    {
     "name": "stdout",
     "output_type": "stream",
     "text": [
      "['00', '10', '100', '11', '12', '13', '15', '15g', '15pm', '17', '18', '18th', '1928', '1947', '1948', '1949', '1971', '1973', '1979', '1980', '1986', '1995', '1998', '20', '2000', '2005', '2006', '2007', '20th', '2160', '23', '24', '25', '2mp', '30', '30s', '325', '35', '350', '375', '3o', '40', '40min', '42', '44', '45', '4s', '4ths', '50', '5020', '510', '5320', '54', '5lb', '680', '70', '70000', '700w', '70s', '80', '80s', '8125', '85', '8525', '8530', '8pm', '90', '95', '99', 'aailiyah', 'abandoned', 'abhor', 'ability', 'able', 'abound', 'about', 'above', 'abroad', 'absolute', 'absolutel', 'absolutely', 'absolutley', 'abstruse', 'abysmal', 'ac', 'academy', 'accents', 'accept', 'acceptable', 'access', 'accessable', 'accessible', 'accessing', 'accessory', 'accessoryone', 'accident', 'accidentally', 'acclaimed', 'accolades', 'accommodations', 'accomodate', 'accompanied', 'according', 'accordingly', 'accountant', 'accurate', 'accurately', 'accused', 'ache', 'achievement', 'achille', 'ackerman', 'acknowledged', 'across', 'act', 'acted', 'acting', 'action', 'actions', 'activate', 'activated', 'activesync', 'actor', 'actors', 'actress', 'actresses', 'actual', 'actually', 'ad', 'adams', 'adaptation', 'adapter', 'adapters', 'add', 'added', 'addition', 'additional', 'address', 'adhesive', 'admins', 'admiration', 'admitted', 'adorable', 'adrift', 'adventure', 'advertised', 'advise', 'aerial', 'aesthetically', 'affected', 'affleck', 'affordable', 'afraid', 'africa', 'after', 'afternoon', 'again', 'against', 'age', 'aged', 'ages', 'aggravating', 'ago', 'agree', 'agreed', 'ahead', 'aimless', 'air', 'aired', 'airline', 'airport', 'akasha', 'akin', 'ala', 'alarm', 'albondigas', 'alert', 'alexander', 'alike', 'all', 'allergy', 'allison', 'allot', 'allow', 'allowing', 'allows', 'almonds', 'almost', 'alone', 'along', 'alongside', 'alot', 'already', 'also', 'although', 'aluminum', 'always', 'am', 'amateurish', 'amaze', 'amazed', 'amazing', 'amazingly', 'amazon', 'ambiance', 'ambience', 'america', 'american', 'americans', 'among', 'amount', 'amp', 'ample', 'amusing', 'an', 'anatomist', 'and', 'andddd', 'angel', 'angela', 'angeles', 'angelina', 'angle', 'angles', 'angry', 'anguish', 'angus', 'animals', 'animated', 'animation', 'anita', 'ann', 'anne', 'anniversary', 'annoying', 'another', 'answer', 'ant', 'antena', 'anthony', 'anti', 'anticipated', 'antithesis', 'any', 'anymore', 'anyone', 'anything', 'anytime', 'anyway', 'anyways', 'anywhere', 'apart', 'apartment', 'apologize', 'apology', 'app', 'appalling', 'apparently', 'appealing', 'appearance', 'appears', 'appetite', 'appetizer', 'appetizers', 'applauded', 'applause', 'apple', 'applifies', 'appointments', 'appreciate', 'appropriate', 'approval', 'apt', 'are', 'area', 'aren', 'arepas', 'argued', 'arguing', 'aria', 'armageddon', 'armand', 'armband', 'around', 'array', 'arrival', 'arrived', 'arrives', 'arriving', 'art', 'article', 'articulated', 'artiness', 'artist', 'artistic', 'artless', 'arts', 'as', 'asia', 'aside', 'ask', 'asked', 'asking', 'asleep', 'aspect', 'aspects', 'ass', 'assante', 'assaulted', 'assistant', 'assumed', 'assure', 'astonishingly', 'astronaut', 'at', 'ate', 'atleast', 'atmosphere', 'atrocious', 'atrocity', 'att', 'attached', 'attack', 'attacked', 'attempt', 'attempted', 'attempting', 'attempts', 'attention', 'attentive', 'attitudes', 'attractive', 'audience', 'audio', 'auju', 'aurvåg', 'austen', 'austere', 'authentic', 'author', 'auto', 'available', 'average', 'aversion', 'avocado', 'avoid', 'avoided', 'avoiding', 'award', 'awarded', 'awards', 'away', 'awesome', 'awful', 'awkward', 'awkwardly', 'awsome', 'ayce', 'aye', 'az', 'baaaaaad', 'baba', 'babbling', 'babie', 'baby', 'babysitting', 'bachi', 'back', 'backdrop', 'backed', 'background', 'backlight', 'bacon', 'bad', 'badly', 'bag', 'bagels', 'bailey', 'bakery', 'baklava', 'balance', 'balanced', 'ball', 'ballet', 'balls', 'bamboo', 'banana', 'band', 'bank', 'bar', 'barcelona', 'bare', 'barely', 'bargain', 'barking', 'barney', 'barren', 'bars', 'bartender', 'bartenders', 'baseball', 'based', 'basement', 'basic', 'basically', 'bat', 'batch', 'bates', 'bathroom', 'bathrooms', 'batter', 'batteries', 'battery', 'baxendale', 'bay', 'bbq', 'be', 'bean', 'beans', 'bear', 'beat', 'beateous', 'beats', 'beautiful', 'beautifully', 'beauty', 'became', 'because', 'bechard', 'become', 'becomes', 'bed', 'beef', 'been', 'beep', 'beeping', 'beer', 'beers', 'before', 'began', 'begin', 'beginning', 'behind', 'behing', 'behold', 'being', 'bela', 'believable', 'believe', 'believed', 'bell', 'bellagio', 'bellies', 'bells', 'bellucci', 'belly', 'belmondo', 'below', 'belt', 'ben', 'bend', 'bendingly', 'bennett', 'bergen', 'bertolucci', 'besides', 'best', 'better', 'betty', 'between', 'beware', 'beyond', 'bible', 'big', 'bigger', 'biggest', 'bill', 'bills', 'billy', 'binge', 'biographical', 'bipolarity', 'bird', 'biscuit', 'biscuits', 'bisque', 'bit', 'bitches', 'bitchy', 'bite', 'bites', 'bitpim', 'bits', 'black', 'blackberry', 'blacktop', 'blah', 'blake', 'blame', 'bland', 'blandest', 'blandly', 'blanket', 'blare', 'blatant', 'blew', 'block', 'bloddy', 'blood', 'bloodiest', 'bloody', 'blow', 'blown', 'blows', 'blue', 'blueant', 'bluetoooth', 'bluetooth', 'bluetooths', 'blush', 'bmw', 'boasts', 'bob', 'boba', 'bodes', 'body', 'bohemian', 'boiled', 'boiling', 'bold', 'bombardments', 'bond', 'bonding', 'bone', 'bonus', 'bonuses', 'boobs', 'boogeyman', 'book', 'booking', 'boost', 'boot', 'bop', 'bordered', 'borderlines', 'borders', 'bore', 'bored', 'boring', 'borrowed', 'bose', 'boss', 'both', 'bother', 'bothersome', 'bottom', 'bottowm', 'bouchon', 'bought', 'bougth', 'bowl', 'box', 'boxes', 'boy', 'boyfriend', 'boyle', 'boys', 'brain', 'brainsucking', 'brand', 'brat', 'bread', 'break', 'breakage', 'breakfast', 'breaking', 'breaks', 'breeders', 'breeze', 'brevity', 'brian', 'brick', 'brief', 'brigand', 'bright', 'brilliance', 'brilliant', 'brilliantly', 'bring', 'brings', 'brisket', 'broad', 'broke', 'broken', 'brooding', 'brother', 'brought', 'brownish', 'browser', 'browsing', 'brunch', 'bruschetta', 'brushfire', 'brutal', 'bt', 'bt250v', 'bt50', 'bubbling', 'bucks', 'buddy', 'budget', 'buds', 'buffalo', 'buffet', 'buffets', 'bug', 'build', 'builders', 'building', 'buildings', 'built', 'buldogis', 'bulky', 'bullock', 'bully', 'bumpers', 'bunch', 'burger', 'burgers', 'burned', 'burrittos', 'burton', 'bus', 'business', 'businesses', 'bussell', 'busy', 'but', 'butter', 'button', 'buttons', 'buy', 'buyer', 'buyers', 'buying', 'buyit', 'buzzing', 'by', 'bye', 'ca', 'caballero', 'cable', 'cables', 'caesar', 'cafe', 'café', 'cailles', 'cake', 'cakes', 'calamari', 'calendar', 'california', 'call', 'called', 'calligraphy', 'callings', 'calls', 'came', 'camelback', 'cameo', 'camera', 'camerawork', 'camp', 'campy', 'can', 'canada', 'canal', 'cancan', 'cancellation', 'cancelling', 'candace', 'candle', 'cannoli', 'cannot', 'cant', 'capability', 'capacity', 'cape', 'capers', 'captain', 'captured', 'captures', 'car', 'carbs', 'card', 'cardboard', 'cardellini', 'care', 'careful', 'caring', 'carly', 'carol', 'carpaccio', 'carrell', 'carried', 'carriers', 'carries', 'carry', 'cars', 'cart', 'cartel', 'cartoon', 'cartoons', 'case', 'cases', 'cash', 'cashew', 'cashier', 'casing', 'casino', 'cassette', 'cast', 'casted', 'casting', 'cat', 'catching', 'catchy', 'caterpillar', 'caught', 'cause', 'caused', 'causing', 'cavier', 'cbr', 'cds', 'ceases', 'celebration', 'celebrity', 'cell', 'cellphone', 'cellphones', 'cellular', 'celluloid', 'cent', 'center', 'centers', 'central', 'century', 'certain', 'certainly', 'cg', 'cgi', 'chai', 'chains', 'chalkboard', 'challenges', 'chance', 'change', 'changes', 'changing', 'channel', 'char', 'character', 'characterisation', 'characters', 'charcoal', 'charge', 'charged', 'charger', 'chargers', 'charges', 'charging', 'charisma', 'charismatic', 'charles', 'charlie', 'charm', 'charming', 'chase', 'chasing', 'cheap', 'cheaper', 'cheaply', 'cheapy', 'cheated', 'check', 'checked', 'checking', 'cheek', 'cheekbones', 'cheerfull', 'cheerless', 'cheese', 'cheeseburger', 'cheesecurds', 'cheesiness', 'cheesy', 'chef', 'chefs', 'chemistry', 'chewy', 'chick', 'chicken', 'chickens', 'child', 'childhood', 'children', 'childrens', 'chills', 'chilly', 'chimp', 'china', 'chinese', 'chip', 'chipolte', 'chipotle', 'chips', 'chocolate', 'chodorov', 'choice', 'choices', 'choked', 'choose', 'chosen', 'choux', 'chow', 'christmas', 'christopher', 'church', 'cibo', 'cinema', 'cinematic', 'cinematographers', 'cinematography', 'cingulair', 'cingular', 'circumstances', 'claimed', 'clarity', 'class', 'classic', 'classical', 'classics', 'classy', 'clean', 'clear', 'clearer', 'clearly', 'clever', 'cliche', 'clichés', 'clicks', 'clients', 'cliff', 'climax', 'climbing', 'clip', 'clipping', 'clips', 'clock', 'close', 'closed', 'clothes', 'club', 'clue', 'co', 'coach', 'coal', 'coastal', 'coaster', 'cocktail', 'cocktails', 'coconut', 'cod', 'coffee', 'coherent', 'cold', 'colder', 'cole', 'colleague', 'collect', 'collective', 'college', 'color', 'colored', 'colorful', 'colors', 'colours', 'columbo', 'combination', 'combo', 'combos', 'come', 'comedic', 'comedy', 'comes', 'comfort', 'comfortable', 'comfortably', 'comfortible', 'comforting', 'comical', 'coming', 'commands', 'comment', 'commentary', 'commented', 'comments', 'commercial', 'commercials', 'common', 'communicate', 'communication', 'communications', 'community', 'commuter', 'companions', 'company', 'comparably', 'compared', 'compelling', 'compete', 'competent', 'competitors', 'complain', 'complained', 'complaint', 'complaints', 'complete', 'completed', 'completely', 'complex', 'complexity', 'compliments', 'composed', 'composition', 'comprehensible', 'compromise', 'computer', 'con', 'concentrate', 'concept', 'conception', 'conceptually', 'concern', 'concerning', 'concerns', 'concert', 'conclusion', 'concrete', 'condescends', 'condiment', 'conditions', 'confidence', 'configuration', 'confirm', 'conflict', 'confortable', 'confuses', 'confusing', 'connect', 'connected', 'connecting', 'connection', 'connections', 'connery', 'connisseur', 'connoisseur', 'connor', 'conrad', 'consequences', 'consider', 'considerable', 'considered', 'considering', 'considers', 'consistent', 'consolations', 'constant', 'constantine', 'constantly', 'constructed', 'construction', 'consumer', 'contact', 'contacted', 'contacting', 'contacts', 'contain', 'contained', 'containers', 'containing', 'contains', 'content', 'continually', 'continuation', 'continue', 'continues', 'continuity', 'continuously', 'contract', 'contrast', 'contributing', 'contributory', 'contrived', 'control', 'controls', 'controversy', 'contstruct', 'convenient', 'convention', 'conversation', 'conversations', 'converter', 'convey', 'convince', 'convincing', 'convoluted', 'cook', 'cooked', 'cooking', 'cool', 'copier', 'coppola', 'copy', 'corded', 'cords', 'core', 'corn', 'corny', 'corporation', 'correct', 'correction', 'correctly', 'cost', 'costco', 'costs', 'costumes', 'cotta', 'cotton', 'could', 'couldn', 'couldnt', 'count', 'counter', 'counterfeit', 'couple', 'couples', 'coupon', 'coupons', 'course', 'court', 'courteous', 'courtroom', 'cover', 'coverage', 'covered', 'covers', 'cow', 'cowardice', 'cox', 'coziness', 'crab', 'crack', 'cracked', 'crackles', 'cradle', 'cradles', 'crafted', 'cramming', 'cranberry', 'crap', 'crappy', 'crash', 'crashed', 'craving', 'crawfish', 'crawl', 'crayon', 'crayons', 'crazy', 'creaks', 'cream', 'creamy', 'create', 'created', 'creates', 'creative', 'creativity', 'creature', 'credible', 'credit', 'credits', 'crema', 'crepe', 'crew', 'crime', 'crisp', 'crispy', 'critic', 'critical', 'crocdodile', 'crocs', 'cross', 'crostini', 'croutons', 'crowd', 'crowds', 'crowe', 'cruel', 'cruise', 'crumby', 'crust', 'crusty', 'cry', 'crystals', 'crêpe', 'cuisine', 'cult', 'culture', 'cumbersome', 'current', 'currently', 'curry', 'curtain', 'curve', 'custer', 'customer', 'customers', 'customize', 'cut', 'cute', 'cutest', 'cutie', 'cutouts', 'cuts', 'cutting', 'd807', 'dads', 'daily', 'damage', 'damian', 'damn', 'dance', 'dancing', 'dangerous', 'dark', 'darn', 'darren', 'data', 'date', 'dates', 'daughter', 'daughters', 'day', 'days', 'de', 'dead', 'deadly', 'deadpan', 'deaf', 'deal', 'dealing', 'dealt', 'death', 'debated', 'debbie', 'debits', 'debut', 'decade', 'decay', 'decent', 'decide', 'decided', 'decidely', 'decipher', 'decision', 'decisions', 'decor', 'decorated', 'dedicated', 'dedication', 'dee', 'deep', 'deeply', 'def', 'defeats', 'defect', 'defective', 'defensemen', 'deffinitely', 'definately', 'defined', 'definitely', 'definitly', 'degree', 'del', 'delay', 'delete', 'delicate', 'delicioso', 'delicious', 'deliciously', 'delight', 'delightful', 'delights', 'delish', 'deliver', 'delivered', 'delivering', 'delivers', 'delivery', 'denny', 'dependant', 'depending', 'depends', 'depicted', 'depicts', 'depressing', 'depth', 'derivative', 'describe', 'described', 'describes', 'describing', 'description', 'descriptions', 'desert', 'deserved', 'deserves', 'deserving', 'design', 'designed', 'designer', 'designs', 'desired', 'desperately', 'desperation', 'despicable', 'despised', 'despite', 'dessert', 'desserts', 'destination', 'destroy', 'destroying', 'detachable', 'detailed', 'detailing', 'details', 'deuchebaggery', 'develop', 'development', 'developments', 'device', 'devices', 'devine', 'di', 'diabetic', 'dialing', 'dialog', 'dialogs', 'dialogue', 'diaper', 'dickens', 'did', 'didn', 'die', 'died', 'dieing', 'difference', 'different', 'difficult', 'dignity', 'dime', 'dimensional', 'dine', 'dining', 'dinner', 'dinners', 'dipping', 'direct', 'directed', 'directing', 'direction', 'directions', 'directly', 'director', 'directorial', 'directors', 'dirt', 'dirty', 'disagree', 'disapoinment', 'disapointing', 'disappoint', 'disappointed', 'disappointing', 'disappointment', 'disapppointment', 'disaster', 'disbelief', 'discarded', 'discomfort', 'disconnected', 'discount', 'discovering', 'discovery', 'disgrace', 'disgraceful', 'disgust', 'disgusted', 'disgusting', 'dish', 'dishes', 'dislike', 'disliked', 'disney', 'disparate', 'dispenser', 'display', 'displeased', 'disposable', 'disrespected', 'dissapointed', 'dissapointing', 'distant', 'distinction', 'distorted', 'distract', 'distracting', 'distressed', 'disturbing', 'dit', 'diverse', 'diving', 'division', 'dna', 'do', 'docking', 'doctor', 'documentaries', 'documentary', 'dodge', 'does', 'doesn', 'dog', 'dogs', 'doing', 'dollar', 'dollars', 'dominated', 'don', 'done', 'donlevy', 'dont', 'donut', 'doomed', 'door', 'dos', 'dosen', 'double', 'doubt', 'douchey', 'dough', 'doughy', 'down', 'download', 'downloading', 'downright', 'downs', 'downside', 'downtown', 'dozen', 'dozens', 'dr', 'dracula', 'draft', 'drag', 'drago', 'drain', 'drained', 'drains', 'drama', 'dramatic', 'drastically', 'drawback', 'drawing', 'drawings', 'drawn', 'dream', 'dreamed', 'dreams', 'dreary', 'drenched', 'dressed', 'dressing', 'dribble', 'dried', 'driest', 'drift', 'drifting', 'drink', 'drinking', 'drinks', 'dripping', 'drive', 'driving', 'drivng', 'droid', 'drooling', 'drop', 'dropped', 'dropping', 'drops', 'drunk', 'dry', 'dual', 'duck', 'dude', 'due', 'duet', 'dull', 'dumb', 'dumbest', 'duo', 'duper', 'durable', 'during', 'duris', 'dusted', 'dustin', 'dustpan', 'dvd', 'dwight', 'dying', 'dylan', 'dysfunction', 'e2', 'e715', 'each', 'ear', 'earbud', 'earbuds', 'earbugs', 'eargels', 'earlier', 'early', 'earpad', 'earphone', 'earphones', 'earpiece', 'earpieces', 'ears', 'earset', 'earth', 'ease', 'easier', 'easily', 'easy', 'eat', 'eaten', 'eating', 'ebay', 'ebola', 'eccleston', 'echo', 'eclectic', 'ed', 'edge', 'edible', 'edinburgh', 'editing', 'edition', 'educational', 'edward', 'eel', 'eew', 'effect', 'effective', 'effects', 'efficient', 'effort', 'efforts', 'egg', 'eggplant', 'eggs', 'egotism', 'eighth', 'eiko', 'either', 'elaborately', 'elderly', 'electronics', 'elegant', 'elegantly', 'element', 'elias', 'elk', 'eloquently', 'else', 'elsewhere', 'email', 'embarassing', 'embarrassed', 'embarrassing', 'embassy', 'embedded', 'emerge', 'emilio', 'emily', 'emoting', 'emotion', 'emotionally', 'emotions', 'emperor', 'employee', 'employees', 'empowerment', 'emptiness', 'empty', 'en', 'enchanting', 'encourage', 'end', 'endearing', 'ended', 'ending', 'endlessly', 'ends', 'energetic', 'energy', 'engaging', 'engineered', 'english', 'enhanced', 'enjoy', 'enjoyable', 'enjoyed', 'enjoyment', 'enough', 'ensued', 'enter', 'enterprise', 'entertained', 'entertaining', 'entertainment', 'enthusiastic', 'entire', 'entirely', 'entrance', 'entrees', 'env', 'episode', 'episodes', 'equally', 'equipment', 'equivalent', 'era', 'ergonomic', 'ericson', 'ericsson', 'errol', 'errors', 'escalating', 'escapism', 'especially', 'essence', 'essentially', 'establish', 'established', 'establishment', 'estate', 'estevez', 'etc', 'ethic', 'europe', 'european', 'evaluate', 'eve', 'even', 'evening', 'event', 'events', 'eventually', 'ever', 'every', 'everybody', 'everyday', 'everyone', 'everything', 'everywhere', 'evidently', 'evil', 'evinced', 'evokes', 'exactly', 'exaggerating', 'example', 'excalibur', 'exceeding', 'exceeds', 'excelent', 'excellent', 'excellently', 'excels', 'except', 'exceptional', 'exceptionally', 'excerpts', 'excessive', 'excessively', 'exchange', 'exchanged', 'excited', 'exciting', 'exclaim', 'excruciatingly', 'excrutiatingly', 'excuse', 'excuses', 'executed', 'exemplars', 'exercise', 'existent', 'existential', 'existing', 'expanded', 'expansive', 'expect', 'expectations', 'expected', 'expecting', 'expensive', 'experience', 'experienced', 'experiences', 'experiencing', 'expert', 'explain', 'explains', 'explanation', 'exploit', 'explorations', 'explosion', 'expression', 'exquisite', 'extant', 'extended', 'extensive', 'exterior', 'exteriors', 'external', 'extra', 'extraneous', 'extraordinary', 'extremely', 'eye', 'eyed', 'eyes', 'fabulous', 'face', 'faceplates', 'faces', 'facial', 'facing', 'fact', 'factor', 'factory', 'fail', 'failed', 'fails', 'fair', 'fairly', 'faithful', 'falafels', 'fall', 'falling', 'falls', 'falsely', 'falwell', 'fame', 'famed', 'familiar', 'family', 'famous', 'fan', 'fanciful', 'fancy', 'fans', 'fantastic', 'fantasy', 'far', 'farce', 'fare', 'fascinated', 'fascinating', 'fascination', 'fashioned', 'fast', 'faster', 'fat', 'father', 'faultless', 'fausa', 'faux', 'fav', 'favor', 'favorite', 'favourite', 'fear', 'feature', 'features', 'fee', 'feel', 'feeling', 'feelings', 'feels', 'feet', 'feisty', 'fell', 'fella', 'fellow', 'fellowes', 'felt', 'female', 'females', 'ferry', 'fest', 'few', 'fi', 'fiancé', 'fields', 'fifteen', 'fifties', 'figure', 'figured', 'file', 'filet', 'fill', 'fillet', 'filling', 'film', 'filmed', 'filmiing', 'filmmaker', 'filmography', 'films', 'final', 'finale', 'finally', 'financial', 'find', 'finds', 'fine', 'finest', 'finger', 'fingernails', 'fingers', 'finish', 'finished', 'fire', 'fireball', 'firehouse', 'first', 'fish', 'fishnet', 'fisted', 'fit', 'fits', 'five', 'fixes', 'flag', 'flair', 'flakes', 'flaming', 'flash', 'flashbacks', 'flat', 'flavor', 'flavored', 'flavorful', 'flavorless', 'flavors', 'flavourful', 'flaw', 'flawed', 'flawless', 'flawlessly', 'flaws', 'fleshed', 'flick', 'flicks', 'flimsy', 'flip', 'flipphones', 'fliptop', 'flirting', 'floor', 'flop', 'floppy', 'flops', 'florida', 'flowed', 'flower', 'fluffy', 'flush', 'fly', 'flying', 'flynn', 'fm', 'fo', 'focus', 'focused', 'fodder', 'folks', 'follow', 'followed', 'following', 'follows', 'fond', 'fondue', 'food', 'foods', 'fooled', 'foolish', 'foot', 'footage', 'football', 'for', 'force', 'forced', 'forces', 'ford', 'foreign', 'foreigner', 'forever', 'forgeries', 'forget', 'forgettable', 'forgetting', 'forgot', 'forgotten', 'form', 'format', 'former', 'fort', 'forth', 'forty', 'forward', 'forwarded', 'found', 'four', 'fourth', 'fox', 'foxx', 'fraction', 'frances', 'francis', 'francisco', 'frankly', 'freaking', 'free', 'freedom', 'freeman', 'freeway', 'freezes', 'freezing', 'french', 'frenchman', 'frequently4', 'frequentyly', 'fresh', 'freshness', 'fridays', 'fried', 'friend', 'friendly', 'friends', 'friendship', 'fries', 'frightening', 'frog', 'from', 'front', 'frontier', 'frost', 'frozen', 'fruit', 'frustrated', 'frustration', 'fry', 'fs', 'ft', 'fucking', 'fulci', 'fulfilling', 'fulfills', 'full', 'fully', 'fumbling', 'fun', 'function', 'functional', 'functionality', 'functions', 'fundamental', 'funniest', 'funny', 'further', 'furthermore', 'future', 'fuzzy', 'fx', 'gabriel', 'gadget', 'gadgets', 'gain', 'gake', 'galley', 'gallon', 'game', 'games', 'ganoush', 'garage', 'garbage', 'garbled', 'garbo', 'garden', 'garfield', 'garlic', 'gas', 'gaudi', 'gave', 'gay', 'gc', 'geek', 'geeky', 'gels', 'gem', 'general', 'generally', 'generates', 'generic', 'generous', 'genius', 'genre', 'gentle', 'gently', 'genuine', 'genuinely', 'george', 'gerardo', 'gere', 'get', 'gets', 'getting', 'ghibili', 'giallo', 'giant', 'gibberish', 'gifted', 'gimmick', 'giovanni', 'girl', 'girlfriend', 'girls', 'girolamo', 'give', 'given', 'gives', 'giving', 'glad', 'glance', 'glare', 'glass', 'glasses', 'gloriously', 'glove', 'gloves', 'glued', 'gluten', 'go', 'goalies', 'goat', 'god', 'godfathers', 'goes', 'going', 'gold', 'golden', 'gone', 'gonna', 'good', 'good7', 'google', 'gooodd', 'gordon', 'gore', 'goremeister', 'gorman', 'gosh', 'got', 'goth', 'gotta', 'gotten', 'gourmet', 'government', 'grab', 'grace', 'grade', 'gradually', 'grain', 'grainy', 'grandmother', 'granted', 'graphics', 'grasp', 'grates', 'gratitude', 'gratuity', 'grease', 'greasy', 'great', 'greater', 'greatest', 'greatness', 'greedy', 'greek', 'green', 'greens', 'greenstreet', 'greeted', 'grew', 'grey', 'grill', 'grilled', 'grim', 'grimes', 'gringos', 'grip', 'gripping', 'gristle', 'grocery', 'groove', 'gross', 'grossed', 'ground', 'group', 'groups', 'grow', 'grtting', 'guacamole', 'guards', 'guess', 'guest', 'guests', 'guilt', 'gung', 'guy', 'guys', 'gx2', 'gyro', 'gyros', 'h500', 'ha', 'hackneyed', 'had', 'hadn', 'haggis', 'hair', 'hairsplitting', 'half', 'halfway', 'halibut', 'ham', 'hamburger', 'han', 'hand', 'handed', 'handheld', 'handle', 'handled', 'handles', 'handling', 'handmade', 'hands', 'handset', 'handsfree', 'handy', 'hang', 'hankering', 'hankies', 'hanks', 'happen', 'happened', 'happening', 'happens', 'happier', 'happiness', 'happy', 'hard', 'hardest', 'hardly', 'harris', 'has', 'hasn', 'hat', 'hate', 'hated', 'hatred', 'haul', 'haunt', 'have', 'haven', 'havilland', 'having', 'hawaiian', 'hay', 'hayao', 'hayworth', 'hbo', 'he', 'head', 'headbands', 'headphones', 'heads', 'headset', 'headsets', 'healthy', 'hear', 'heard', 'hearing', 'heart', 'hearts', 'heartwarming', 'heat', 'heaven', 'heavy', 'heche', 'heels', 'heimer', 'heist', 'held', 'helen', 'hell', 'hella', 'hellish', 'hello', 'helms', 'help', 'helped', 'helpful', 'helping', 'helps', 'hence', 'hendrikson', 'her', 'here', 'hereas', 'hernandez', 'hero', 'heroes', 'heroine', 'heroism', 'hes', 'hey', 'hi', 'hide', 'high', 'higher', 'highest', 'highlight', 'highlighted', 'highlights', 'highly', 'highy', 'hilarious', 'hill', 'hilt', 'him', 'himself', 'hinge', 'hip', 'hiro', 'his', 'history', 'hit', 'hitch', 'hitchcock', 'hits', 'ho', 'hockey', 'hoffman', 'hold', 'holder', 'holding', 'holds', 'hole', 'holes', 'holiday', 'hollander', 'hollow', 'hollywood', 'holster', 'home', 'homemade', 'homework', 'honeslty', 'honest', 'honestly', 'honor', 'hook', 'hooked', 'hoot', 'hope', 'hoped', 'hopefully', 'hopeless', 'hopes', 'hoping', 'horrendous', 'horrendously', 'horrible', 'horrid', 'horrified', 'horror', 'horse', 'hospitality', 'host', 'hostess', 'hosting', 'hot', 'hottest', 'hour', 'hours', 'hoursthe', 'house', 'houses', 'how', 'howdy', 'howe', 'howell', 'however', 'hs850', 'huevos', 'huge', 'hugo', 'human', 'humanity', 'humans', 'humiliated', 'hummh', 'humming', 'hummus', 'humor', 'humorous', 'humour', 'hunan', 'hundred', 'hungry', 'hurry', 'hurt', 'husband', 'huston', 'hut', 'hybrid', 'hype', 'hypocrisy', 'iam', 'ians', 'ice', 'iced', 'idea', 'ideal', 'idealogical', 'identified', 'identifies', 'identify', 'idiot', 'idiotic', 'idyllic', 'if', 'iffy', 'ignore', 'ignored', 'igo', 'ill', 'im', 'imac', 'images', 'imaginable', 'imagination', 'imaginative', 'imagine', 'imagined', 'imdb', 'imitation', 'immediately', 'impact', 'impeccable', 'imperial', 'implausible', 'important', 'impossible', 'impressed', 'impression', 'impressive', 'improper', 'improve', 'improved', 'improvement', 'improvisation', 'impulse', 'in', 'inappropriate', 'incendiary', 'inch', 'inches', 'included', 'includes', 'including', 'incoming', 'incomprehensible', 'inconsiderate', 'inconsistencies', 'inconspicuous', 'incorrectness', 'increase', 'incrediable', 'incredible', 'incredibly', 'indeed', 'indescribably', 'indian', 'indicate', 'indication', 'indictment', 'indie', 'individual', 'indoor', 'indoors', 'indulgent', 'industrial', 'industry', 'ineptly', 'inexcusable', 'inexpensive', 'inexperience', 'inexplicable', 'infatuated', 'inflate', 'inform', 'informative', 'infra', 'infuriating', 'ingredients', 'initially', 'innocence', 'insane', 'insanely', 'insert', 'inside', 'insincere', 'insipid', 'insomniacs', 'inspiration', 'inspired', 'inspiring', 'install', 'installed', 'instance', 'instant', 'instantly', 'instead', 'instruction', 'instructions', 'instruments', 'insulin', 'insult', 'insulted', 'insults', 'intangibles', 'integral', 'integrated', 'integration', 'intelligence', 'intelligent', 'intended', 'intense', 'intensity', 'intentions', 'interacting', 'interest', 'interested', 'interesting', 'interface', 'interim', 'interior', 'intermittently', 'internet', 'interplay', 'interpretations', 'interview', 'into', 'intoning', 'intrigued', 'invented', 'inventive', 'investment', 'inviting', 'involved', 'involves', 'involving', 'iphone', 'ipod', 'ipods', 'iq', 'ir', 'irda', 'ireland', 'iriver', 'ironically', 'ironman', 'irons', 'ironside', 'irritating', 'is', 'ishioka', 'isn', 'issue', 'issues', 'it', 'italian', 'item', 'items', 'its', 'itself', 'ive', 'jabra', 'jabra350', 'jack', 'jaclyn', 'jalapeno', 'jamaican', 'james', 'jamie', 'japanese', 'jason', 'jawbone', 'jay', 'jealousy', 'jean', 'jeff', 'jenni', 'jennifer', 'jerk', 'jerks', 'jerky', 'jerry', 'jessica', 'jessice', 'jet', 'jewel', 'jiggle', 'jim', 'jimmy', 'job', 'jobs', 'joe', 'joey', 'john', 'join', 'joins', 'joint', 'joke', 'jokes', 'jonah', 'jones', 'journey', 'joy', 'joyce', 'juano', 'judge', 'judging', 'judith', 'judo', 'juice', 'julian', 'june', 'junk', 'junkyard', 'juries', 'just', 'justice', 'jutland', 'jx', 'kabuki', 'kanaly', 'kathy', 'keen', 'keep', 'keeping', 'keeps', 'keira', 'keith', 'kept', 'kevin', 'key', 'keyboard', 'keypad', 'keypads', 'keys', 'khao', 'kid', 'kiddos', 'kidnapped', 'kids', 'kieslowski', 'kill', 'killer', 'killing', 'killings', 'kind', 'kinda', 'kindle', 'kirk', 'kitchen', 'kitchy', 'kits', 'knew', 'knightley', 'knock', 'knocked', 'know', 'known', 'knows', 'koteas', 'kris', 'kristoffersen', 'krussel', 'kudos', 'l7c', 'la', 'labute', 'lack', 'lacked', 'lacking', 'lacks', 'ladies', 'lady', 'lame', 'lance', 'land', 'landscapes', 'lane', 'lange', 'lap', 'laptop', 'large', 'largely', 'larger', 'las', 'laselva', 'lassie', 'last', 'lasted', 'lasting', 'lastly', 'lasts', 'latch', 'latched', 'late', 'lately', 'later', 'latest', 'latifa', 'latin', 'latte', 'latter', 'laugh', 'laughable', 'laughed', 'laughing', 'laughs', 'law', 'lawyers', 'layers', 'lazy', 'lead', 'leading', 'leaf', 'leaks', 'leap', 'learn', 'learned', 'least', 'leather', 'leave', 'leaves', 'leaving', 'lee', 'left', 'leftover', 'legal', 'legendary', 'legit', 'legs', 'lemon', 'length', 'leni', 'lense', 'leopard', 'less', 'lesser', 'lesson', 'lestat', 'let', 'letdown', 'lets', 'letting', 'lettuce', 'level', 'levels', 'lewis', 'lg', 'lid', 'lie', 'lies', 'lieutenant', 'life', 'lifetime', 'light', 'lighter', 'lighting', 'lightly', 'lights', 'lightweight', 'like', 'liked', 'likes', 'liking', 'lil', 'lilli', 'lilt', 'limitations', 'limited', 'linda', 'line', 'linear', 'lined', 'lines', 'linked', 'linking', 'linksys', 'lino', 'lion', 'list', 'listed', 'listener', 'listening', 'lit', 'literally', 'littered', 'little', 'live', 'lived', 'lives', 'living', 'll', 'loads', 'lobster', 'local', 'located', 'location', 'locations', 'lock', 'locked', 'locks', 'loewenhielm', 'logic', 'logitech', 'london', 'loneliness', 'long', 'longer', 'look', 'looked', 'looking', 'looks', 'loop', 'loops', 'loose', 'loosely', 'looses', 'lord', 'lordy', 'los', 'lose', 'losing', 'lost', 'lot', 'lots', 'loud', 'louder', 'loudest', 'loudly', 'loudspeaker', 'lousy', 'lovable', 'love', 'loved', 'lovely', 'lover', 'lovers', 'loves', 'loving', 'low', 'lower', 'lox', 'loyal', 'loyalty', 'lucio', 'luck', 'lucy', 'lugosi', 'luke', 'lukewarm', 'lunch', 'lust', 'luv', 'lyrics', 'mac', 'macarons', 'macbeth', 'machine', 'mad', 'made', 'madhouse', 'madison', 'magazine', 'magic', 'magical', 'magnetic', 'magnificent', 'mail', 'main', 'maine', 'mainly', 'mains', 'maintain', 'maintaining', 'maintains', 'major', 'majority', 'make', 'maker', 'makers', 'makes', 'making', 'male', 'males', 'mall', 'malta', 'man', 'managed', 'management', 'manager', 'manages', 'mandalay', 'mango', 'manna', 'mansonites', 'manual', 'manufacturer', 'many', 'marbles', 'march', 'margaritas', 'maria', 'marine', 'marion', 'mark', 'market', 'marred', 'marriage', 'marrow', 'martin', 'martini', 'mary', 'masculine', 'masculinity', 'massive', 'master', 'masterful', 'masterpiece', 'masterpieces', 'match', 'material', 'matrix', 'matter', 'matthews', 'mature', 'max', 'may', 'maybe', 'mayo', 'mchattie', 'mclaglen', 'me', 'meagre', 'meal', 'meals', 'mean', 'meanders', 'meaning', 'meanings', 'means', 'meant', 'meat', 'meatballs', 'meatloaf', 'meats', 'mechanism', 'media', 'medical', 'mediocre', 'mediterranean', 'medium', 'meet', 'mega', 'megapixels', 'meh', 'mein', 'meld', 'mellow', 'melodrama', 'melt', 'melted', 'melville', 'member', 'members', 'memorable', 'memories', 'memorized', 'memory', 'menace', 'menacing', 'mention', 'mentioned', 'menu', 'menus', 'mercy', 'mere', 'meredith', 'merit', 'mesmerising', 'mesquite', 'mess', 'message', 'messages', 'messaging', 'messes', 'metal', 'meteorite', 'metro', 'mexican', 'mgm', 'mic', 'michael', 'mickey', 'microphone', 'microsoft', 'mid', 'middle', 'might', 'mighty', 'mile', 'military', 'milk', 'milkshake', 'min', 'mind', 'mindblowing', 'mine', 'miner', 'mini', 'minor', 'mins', 'minute', 'minutes', 'mirage', 'mirrormask', 'miserable', 'miserably', 'mishima', 'misleading', 'misplace', 'miss', 'missed', 'missing', 'mistake', 'mistakes', 'mixed', 'miyazaki', 'mmmm', 'mobile', 'mode', 'model', 'modern', 'modest', 'moist', 'mojitos', 'mollusk', 'mom', 'moment', 'moments', 'momentum', 'money', 'monica', 'monkeys', 'monolog', 'monotonous', 'monster', 'monstrous', 'month', 'months', 'monumental', 'mood', 'moods', 'moral', 'more', 'morgan', 'morning', 'morons', 'mortified', 'most', 'mostly', 'mother', 'motion', 'motivations', 'moto', 'motor', 'motorola', 'motorolas', 'mountain', 'mouse', 'mouth', 'mouthful', 'mouths', 'move', 'moved', 'movements', 'moves', 'movie', 'movies', 'moving', 'moz', 'mozzarella', 'mp3', 'mp3s', 'ms', 'mst3k', 'much', 'muddled', 'muddy', 'muffin', 'muffled', 'multi', 'multiple', 'muppets', 'murder', 'murdered', 'murdering', 'murky', 'mushroom', 'mushrooms', 'music', 'musician', 'mussels', 'must', 'mute', 'my', 'myself', 'mystifying', 'naan', 'nachos', 'naked', 'name', 'nan', 'nano', 'nargile', 'narration', 'narrative', 'nasty', 'national', 'nationalities', 'native', 'natural', 'nature', 'naughty', 'navigate', 'nay', 'nc', 'near', 'nearly', 'neat', 'necklace', 'need', 'needed', 'needless', 'needlessly', 'needs', 'negative', 'negatively', 'negligent', 'negulesco', 'neighborhood', 'neighbour', 'neil', 'neither', 'nerves', 'nervous', 'net', 'netflix', 'network', 'never', 'nevertheless', 'nevsky', 'new', 'next', 'ngage', 'nice', 'nicely', 'nicer', 'nicest', 'nicola', 'night', 'nightmare', 'nigiri', 'nimoy', 'nine', 'ninja', 'no', 'noble', 'nobody', 'nobu', 'noca', 'noir', 'noise', 'noises', 'nokia', 'non', 'none', 'nonetheless', 'nonsense', 'noodles', 'nor', 'normal', 'normally', 'north', 'northern', 'nostalgia', 'not', 'notable', 'notch', 'note', 'noted', 'noteworthy', 'nothing', 'notice', 'noticed', 'novella', 'now', 'nude', 'number', 'numbers', 'numerous', 'nun', 'nuns', 'nurse', 'nut', 'nuts', 'nutshell', 'nyc', 'obliged', 'obsessed', 'obvious', 'obviously', 'occasional', 'occasionally', 'occasions', 'occupied', 'occur', 'occurs', 'odd', 'oem', 'of', 'off', 'offend', 'offensive', 'offer', 'offered', 'offering', 'offers', 'official', 'officially', 'often', 'oh', 'ohhh', 'oil', 'ok', 'okay', 'old', 'olde', 'older', 'ole', 'olives', 'olivia', 'omelets', 'omg', 'omit', 'on', 'once', 'one', 'ones', 'onion', 'online', 'only', 'oozes', 'open', 'opened', 'opening', 'opens', 'operas', 'operate', 'operates', 'operation', 'opinion', 'opportunity', 'opposed', 'optimal', 'option', 'options', 'or', 'ordeal', 'order', 'ordered', 'ordering', 'orders', 'organizational', 'oriented', 'original', 'originality', 'originally', 'origins', 'ortolani', 'os', 'oscar', 'other', 'others', 'otherwise', 'otto', 'ought', 'our', 'ourselves', 'out', 'outdoor', 'outgoing', 'outlandish', 'outlet', 'outlets', 'outperform', 'outrageously', 'outshining', 'outside', 'outstanding', 'outta', 'outward', 'oven', 'over', 'overacting', 'overall', 'overcome', 'overcooked', 'overdue', 'overhaul', 'overly', 'overnight', 'overnite', 'overpriced', 'override', 'overs', 'overt', 'overwhelmed', 'overwrought', 'owed', 'owls', 'own', 'owned', 'owner', 'owners', 'owning', 'owns', 'oy', 'oysters', 'pace', 'paced', 'pacing', 'pack', 'package', 'packaged', 'packed', 'pad', 'pads', 'paid', 'pain', 'painful', 'painfully', 'paint', 'painted', 'pair', 'paired', 'pairing', 'palance', 'palate', 'pale', 'palm', 'palms', 'palmtop', 'pan', 'pancake', 'pancakes', 'pandering', 'panna', 'pans', 'pants', 'paolo', 'pap', 'paper', 'papers', 'par', 'paradise', 'parents', 'park', 'parker', 'part', 'partaking', 'particular', 'particularly', 'parties', 'parts', 'party', 'passed', 'passion', 'past', 'pasta', 'pastas', 'pastry', 'patent', 'pathetic', 'patient', 'patio', 'patriotism', 'patron', 'pats', 'patty', 'paul', 'pause', 'pay', 'paying', 'pc', 'pcs', 'pda', 'peach', 'peachy', 'peaking', 'peanut', 'peanuts', 'pearls', 'pears', 'peas', 'pecan', 'peculiarity', 'pedestal', 'peeling', 'pencil', 'penne', 'penny', 'pens', 'people', 'pepper', 'perabo', 'perfect', 'perfected', 'perfection', 'perfectly', 'performance', 'performances', 'performed', 'performing', 'perhaps', 'period', 'periodically', 'periods', 'perpared', 'perplexing', 'person', 'personable', 'personalities', 'personally', 'peter', 'petrified', 'petroleum', 'petty', 'pg', 'phantasm', 'phenomenal', 'philadelphia', 'philippa', 'pho', 'phoenix', 'phone', 'phones', 'phony', 'photo', 'photograph', 'photography', 'phrase', 'physical', 'pi', 'piano', 'picked', 'pics', 'picture', 'pictures', 'piece', 'pieces', 'pile', 'pillow', 'pine', 'pineapple', 'pink', 'pissd', 'pita', 'pitch', 'pitiful', 'pixar', 'pixel', 'pizza', 'pizzas', 'place', 'placed', 'places', 'plain', 'plan', 'plane', 'planned', 'planning', 'plans', 'plantains', 'plantronics', 'plantronincs', 'plants', 'plastic', 'plate', 'plater', 'platter', 'play', 'played', 'player', 'players', 'playing', 'plays', 'pleasant', 'pleasantly', 'please', 'pleased', 'pleaser', 'pleasing', 'pleasure', 'pleather', 'pledge', 'plenty', 'plethora', 'plmer', 'plot', 'plug', 'plugged', 'plugs', 'plus', 'pm', 'pneumatic', 'pocket', 'pockets', 'poet', 'poetry', 'poignant', 'point', 'pointillistic', 'pointless', 'poised', 'poisoning', 'poler', 'polite', 'political', 'politically', 'politics', 'ponyo', 'poop', 'poor', 'poorly', 'pop', 'popcorn', 'popular', 'pork', 'port', 'portable', 'portion', 'portions', 'portraits', 'portrayal', 'portrayals', 'portrayed', 'portraying', 'positive', 'possesed', 'possibility', 'possible', 'possibly', 'post', 'posted', 'postinos', 'potato', 'potatoes', 'potentially', 'potted', 'poured', 'powdered', 'power', 'powerful', 'powerhouse', 'practical', 'practically', 'practice', 'pray', 'precisely', 'predict', 'predictable', 'predictably', 'prefer', 'preferably', 'prejudice', 'prelude', 'premise', 'premium', 'prepare', 'prepared', 'preparing', 'presence', 'presentation', 'presents', 'preservation', 'president', 'pretentious', 'pretext', 'prettier', 'pretty', 'prevents', 'previous', 'price', 'priced', 'prices', 'pricey', 'pricing', 'primal', 'primary', 'prime', 'print', 'privileged', 'probably', 'problem', 'problems', 'procedure', 'procedures', 'proceedings', 'process', 'proclaimed', 'produce', 'produced', 'producer', 'producers', 'product', 'production', 'products', 'professional', 'professionals', 'professor', 'profiterole', 'profound', 'program', 'progresses', 'promise', 'promised', 'promote', 'prompt', 'prompted', 'promptly', 'prone', 'propaganda', 'properly', 'pros', 'protected', 'protection', 'protective', 'protector', 'protects', 'proud', 'proudly', 'proven', 'provide', 'provided', 'provides', 'providing', 'provokes', 'provoking', 'ps', 'ps3', 'pseudo', 'psyched', 'psychological', 'psychotic', 'pub', 'public', 'publicly', 'pucks', 'puff', 'pull', 'pulled', 'pulling', 'pulls', 'pumpkin', 'punched', 'punches', 'punish', 'punishment', 'puppet', 'puppets', 'purcashed', 'purchase', 'purchased', 'purchases', 'purchasing', 'pure', 'puree', 'purity', 'purpose', 'puréed', 'push', 'pushed', 'put', 'putting', 'puzzle', 'pyromaniac', 'quaid', 'quaint', 'qualified', 'qualities', 'quality', 'quantity', 'question', 'questioning', 'quick', 'quicker', 'quickly', 'quiet', 'quinn', 'quit', 'quite', 'québec', 'qwerty', 'r450', 'race', 'racial', 'racism', 'radiant', 'raging', 'ramsey', 'ranch', 'rancheros', 'random', 'randomly', 'range', 'ranks', 'rapidly', 'rare', 'rarely', 'raspberry', 'rate', 'rated', 'rather', 'rating', 'ratings', 'ratio', 'rave', 'raver', 'raving', 'ravoli', 'raw', 'ray', 'razor', 'razr', 're', 'reach', 'reaching', 'reactions', 'read', 'readers', 'reading', 'ready', 'real', 'realised', 'realistic', 'reality', 'realize', 'realized', 'really', 'reason', 'reasonable', 'reasonably', 'reasons', 'reboots', 'recall', 'reccomendation', 'reccommend', 'receipt', 'receive', 'received', 'receives', 'receiving', 'recent', 'recently', 'reception', 'recessed', 'recharge', 'recieve', 'recognition', 'recognizes', 'recommend', 'recommendation', 'recommended', 'recommending', 'reconciliation', 'recover', 'recurring', 'red', 'redeemed', 'redeeming', 'reduction', 'reenactments', 'references', 'refill', 'reflected', 'refrained', 'refreshing', 'refried', 'refund', 'refurb', 'refuse', 'refused', 'regarding', 'regardless', 'register', 'regret', 'regrettable', 'regrettably', 'regretted', 'regular', 'regularly', 'reheated', 'rejection', 'relate', 'related', 'relation', 'relations', 'relationship', 'relationships', 'relative', 'relatively', 'relax', 'relaxed', 'relaxing', 'release', 'released', 'reliability', 'relief', 'relleno', 'relocated', 'relying', 'remaining', 'remake', 'remarkable', 'remember', 'reminded', 'reminds', 'remorse', 'remotely', 'removing', 'rendering', 'renders', 'rendition', 'renowned', 'rent', 'reoccure', 'repair', 'repeated', 'repeating', 'repeats', 'repertory', 'replace', 'replaced', 'replacement', 'replacementr', 'replenished', 'reporter', 'represents', 'requested', 'require', 'requirements', 'rescue', 'research', 'researched', 'reservation', 'resistant', 'resolution', 'resounding', 'respect', 'respecting', 'rest', 'restaraunt', 'restart', 'restaurant', 'restaurants', 'restocking', 'restored', 'restrained', 'rests', 'result', 'results', 'resume', 'retarded', 'retreat', 'return', 'returned', 'returning', 'revealing', 'revenge', 'revere', 'reverse', 'reversible', 'review', 'reviewer', 'reviewers', 'reviewing', 'reviews', 'revisiting', 'rge', 'ri', 'rib', 'ribeye', 'rice', 'rich', 'rick', 'rickman', 'ride', 'ridiculous', 'ridiculousness', 'right', 'riingtones', 'ring', 'ringer', 'ringing', 'rings', 'ringtones', 'rinse', 'riot', 'rip', 'ripped', 'rips', 'rise', 'risk', 'risotto', 'rita', 'rivalry', 'riveted', 'riz', 'road', 'roam', 'roast', 'roasted', 'robert', 'robotic', 'rochon', 'rock', 'rocked', 'rocketed', 'rocks', 'roeg', 'role', 'roles', 'roll', 'rolled', 'roller', 'rolls', 'romantic', 'room', 'roosevelt', 'rotating', 'roth', 'rough', 'round', 'routine', 'row', 'rowdy', 'rpg', 'rpger', 'rubber', 'rubbish', 'rubin', 'rude', 'rudely', 'rumbles', 'run', 'running', 'runs', 'rushed', 'ruthless', 'ryan', 'ryans', 's11', 's710a', 'sabotages', 'sack', 'sacrifice', 'sad', 'sadly', 'saffron', 'saganaki', 'saggy', 'said', 'sake', 'salad', 'salads', 'salesman', 'salmon', 'sals', 'salsa', 'salt', 'salty', 'sam', 'same', 'sample', 'samsung', 'san', 'sand', 'sandra', 'sandwich', 'sandwiches', 'sangria', 'sanyo', 'sappiest', 'sarcophage', 'sashimi', 'sat', 'satanic', 'satifying', 'satisfied', 'satisfying', 'satisifed', 'sauce', 'sauces', 'sause', 'savalas', 'savant', 'save', 'saved', 'saving', 'savor', 'saw', 'say', 'saying', 'says', 'scale', 'scallop', 'scamp', 'scare', 'scared', 'scares', 'scary', 'scene', 'scenery', 'scenes', 'sch', 'schilling', 'schizophrenic', 'school', 'schoolers', 'schrader', 'schultz', 'sci', 'science', 'scientist', 'score', 'scot', 'scottsdale', 'scratch', 'scratched', 'scream', 'screams', 'screamy', 'screen', 'screened', 'screenplay', 'screens', 'screenwriter', 'screwed', 'scrimm', 'script', 'scripted', 'scripting', 'scripts', 'sculpture', 'sea', 'seafood', 'seal', 'seamless', 'seamlessly', 'sean', 'searched', 'season', 'seasonal', 'seasoned', 'seasoning', 'seat', 'seated', 'seating', 'second', 'secondary', 'secondly', 'seconds', 'section', 'secure', 'securely', 'securly', 'see', 'seeen', 'seeing', 'seem', 'seemed', 'seems', 'seen', 'selection', 'selections', 'self', 'seller', 'sells', 'semi', 'send', 'sending', 'senior', 'sense', 'senses', 'sensibility', 'sensitive', 'sensitivities', 'sensor', 'sent', 'sentiment', 'seperate', 'seperated', 'sequel', 'sequels', 'sequence', 'sequences', 'sergeant', 'series', 'serious', 'seriously', 'serivce', 'serve', 'served', 'server', 'servers', 'serves', 'service', 'services', 'serving', 'set', 'sets', 'setting', 'settings', 'setup', 'seuss', 'sever', 'several', 'severe', 'sewer', 'sex', 'sexy', 'shakespear', 'shakespears', 'shall', 'shallow', 'shame', 'shameful', 'shape', 'share', 'sharing', 'sharp', 'sharply', 'shatner', 'shattered', 'shawarrrrrrma', 'she', 'shed', 'sheer', 'shelf', 'shell', 'shelves', 'shenanigans', 'shepard', 'shield', 'shifting', 'shine', 'shined', 'shiny', 'shipment', 'shipped', 'shipping', 'shirley', 'shirt', 'shocked', 'shocking', 'shoe', 'shooters', 'shooting', 'shoots', 'shop', 'shopping', 'shops', 'short', 'shortlist', 'shot', 'shots', 'should', 'shouldn', 'shouldve', 'shouting', 'show', 'showcasing', 'showed', 'shower', 'shows', 'shrimp', 'shut', 'sibling', 'sick', 'side', 'sidelined', 'sides', 'sight', 'sign', 'signal', 'signals', 'significant', 'significantly', 'signs', 'silent', 'silently', 'silly', 'sim', 'similar', 'similarly', 'simmering', 'simple', 'simpler', 'simplifying', 'simply', 'since', 'sincere', 'sing', 'singing', 'single', 'sinister', 'sink', 'sinking', 'sins', 'sister', 'sisters', 'sit', 'sitcoms', 'site', 'sites', 'sits', 'sitting', 'situation', 'situations', 'six', 'size', 'sizes', 'sketchy', 'skilled', 'skimp', 'skip', 'skype', 'slackers', 'slavic', 'slaw', 'sleek', 'sleep', 'sliced', 'slices', 'slid', 'slide', 'slider', 'slideshow', 'sliding', 'slightest', 'slightly', 'slim', 'slimy', 'slipping', 'sloppy', 'slow', 'slowly', 'slurs', 'smack', 'small', 'smaller', 'smallest', 'smart', 'smartphone', 'smashburger', 'smeared', 'smell', 'smelled', 'smells', 'smile', 'smiling', 'smith', 'smoke', 'smoking', 'smooth', 'smoother', 'smoothies', 'smoothly', 'smudged', 'snap', 'snider', 'snow', 'snug', 'so', 'soap', 'sobering', 'social', 'soft', 'software', 'soggy', 'soi', 'sold', 'soldiers', 'sole', 'solid', 'solidify', 'solidifying', 'solving', 'some', 'somehow', 'someone', 'somethat', 'something', 'sometimes', 'somewhat', 'somewhere', 'son', 'song', 'songs', 'sony', 'soon', 'sooner', 'soooo', 'sooooo', 'soooooo', 'sophisticated', 'sore', 'sorely', 'sorrentino', 'sorry', 'sort', 'sos', 'soul', 'sound', 'sounded', 'sounds', 'soundtrack', 'soup', 'soups', 'sour', 'source', 'sources', 'south', 'southern', 'southwest', 'soyo', 'space', 'spacek', 'spacey', 'spaghetti', 'span', 'speak', 'speaker', 'speakerphone', 'speaking', 'special', 'specially', 'specials', 'specs', 'speed', 'speedy', 'spend', 'spends', 'spent', 'spew', 'sphere', 'spice', 'spices', 'spicier', 'spicy', 'spiffy', 'spinach', 'spinn', 'splendid', 'spock', 'spoil', 'spoiled', 'spoiler', 'spoilers', 'sporting', 'spot', 'spots', 'spotty', 'spring', 'sprint', 'sprouts', 'spy', 'squibs', 'stable', 'staff', 'stage', 'stagey', 'stagy', 'stale', 'stand', 'standard', 'standout', 'stanwyck', 'star', 'starlet', 'starring', 'stars', 'start', 'startac', 'started', 'starter', 'starts', 'starving', 'state', 'stated', 'static', 'station', 'stay', 'stayed', 'staying', 'stays', 'steak', 'steakhouse', 'steaks', 'stealing', 'steamboat', 'steele', 'steep', 'steer', 'steiners', 'step', 'stephen', 'stepped', 'stereo', 'stereotypes', 'stereotypically', 'steve', 'stewart', 'stick', 'sticks', 'still', 'stinker', 'stinks', 'stir', 'stocking', 'stockings', 'stoic', 'stomach', 'stood', 'stop', 'stopped', 'stops', 'storage', 'store', 'stories', 'storm', 'story', 'storyline', 'storytelling', 'stowe', 'strange', 'stranger', 'strangers', 'strap', 'stratus', 'straw', 'strawberry', 'stream', 'street', 'strength', 'stress', 'stretch', 'strident', 'strike', 'string', 'strings', 'strip', 'strives', 'strokes', 'strong', 'struck', 'structure', 'struggle', 'stuart', 'stuck', 'student', 'students', 'studio', 'study', 'stuff', 'stuffed', 'stunning', 'stupid', 'stupidity', 'sturdiness', 'sturdy', 'style', 'styles', 'styling', 'stylish', 'stylized', 'styrofoam', 'sub', 'subject', 'subjects', 'sublime', 'sublimely', 'submerged', 'subpar', 'subplots', 'subtitles', 'subtle', 'subversive', 'subverting', 'subway', 'succeeded', 'succeeds', 'success', 'succulent', 'such', 'suck', 'sucked', 'sucker', 'sucks', 'sudden', 'suddenly', 'suffered', 'suffering', 'suffers', 'sugar', 'sugary', 'suggest', 'suggestions', 'suggests', 'suited', 'sum', 'summarize', 'summary', 'summer', 'sun', 'sunday', 'sundays', 'sunglasses', 'super', 'superb', 'superbad', 'superbly', 'superfast', 'superficial', 'superlative', 'supernatural', 'supertooth', 'support', 'supporting', 'supposed', 'supposedly', 'suprised', 'sure', 'surefire', 'surely', 'surf', 'surface', 'surprise', 'surprised', 'surprises', 'surprising', 'surprisingly', 'surrounding', 'surroundings', 'survived', 'survivors', 'sushi', 'suspense', 'suspension', 'sven', 'swamp', 'sweep', 'sweet', 'sweetest', 'switch', 'switched', 'swivel', 'swords', 'swung', 'sydney', 'sympathetic', 'sync', 'synchronization', 'syrupy', 'system', 'table', 'tables', 'tacky', 'taco', 'tacos', 'taelons', 'tailored', 'take', 'taken', 'takeout', 'takes', 'taking', 'tale', 'talent', 'talented', 'talents', 'talk', 'talking', 'tanks', 'tap', 'tapas', 'tape', 'taped', 'tardis', 'tartar', 'tartare', 'task', 'taste', 'tasted', 'tasteless', 'tastings', 'tasty', 'tater', 'taxidermists', 'taylor', 'tea', 'teacher', 'teaches', 'team', 'teamwork', 'tear', 'tears', 'tech', 'technically', 'technology', 'teddy', 'tedium', 'teen', 'teenagers', 'teeth', 'telephone', 'television', 'tell', 'telly', 'temp', 'temperaments', 'ten', 'tender', 'tenders', 'tension', 'tensions', 'tepid', 'terminology', 'terms', 'terrible', 'terribly', 'terrific', 'terror', 'texas', 'text', 'texture', 'th', 'thai', 'than', 'thank', 'thanks', 'that', 'thats', 'the', 'theater', 'theatre', 'theatres', 'theatrical', 'theft', 'their', 'them', 'theme', 'themes', 'themselves', 'then', 'theory', 'therapy', 'there', 'thereplacement', 'these', 'they', 'thick', 'thin', 'thing', 'things', 'think', 'thinking', 'thinly', 'third', 'thirty', 'this', 'thomerson', 'thorn', 'thoroughly', 'thorsen', 'those', 'though', 'thought', 'thoughts', 'thousand', 'thread', 'three', 'threshold', 'threw', 'thrilled', 'thriller', 'thrillers', 'through', 'throughout', 'throwback', 'thrown', 'thru', 'thug', 'thumbs', 'thumper', 'thunderbirds', 'thus', 'tick', 'ticker', 'tickets', 'ticking', 'tied', 'tigerlilly', 'tight', 'tightly', 'time', 'timeframe', 'timeless', 'timely', 'timers', 'times', 'timing', 'tinny', 'tiny', 'tip', 'tips', 'tiramisu', 'tired', 'title', 'titta', 'tmobile', 'to', 'toactivate', 'toast', 'toasted', 'today', 'together', 'toilet', 'told', 'tolerable', 'tolerance', 'tolerate', 'tom', 'tomato', 'tomorrow', 'tone', 'tones', 'tongue', 'tonight', 'tons', 'tony', 'too', 'took', 'tool', 'tools', 'toons', 'tooth', 'top', 'topic', 'tops', 'toro', 'torture', 'tortured', 'total', 'totally', 'tots', 'touch', 'touched', 'touches', 'touching', 'tough', 'towards', 'towers', 'town', 'townsend', 'tracfone', 'tracfonewebsite', 'track', 'tracked', 'tracking', 'tract', 'traditional', 'traffic', 'tragedy', 'trailer', 'train', 'tranquillity', 'transceiver', 'transcend', 'transcendant', 'transfer', 'transfers', 'transformed', 'translate', 'translating', 'transmission', 'transmit', 'transmitters', 'trap', 'trash', 'trashy', 'travled', 'treachery', 'treasure', 'treat', 'treated', 'treatments', 'trek', 'tremendous', 'tremendously', 'treo', 'tribute', 'tricky', 'tried', 'tries', 'trilogy', 'trimmed', 'trinity', 'trip', 'trippy', 'trips', 'triumphed', 'trond', 'trooper', 'trouble', 'truck', 'true', 'truffle', 'truly', 'trumbull', 'trumpeter', 'trunk', 'trust', 'truth', 'try', 'trying', 'trysts', 'tsunami', 'tucson', 'tummy', 'tuna', 'tuneful', 'tungsten', 'turkey', 'turn', 'turned', 'turns', 'tv', 'twice', 'twirling', 'twist', 'twists', 'two', 'tying', 'type', 'typical', 'ue', 'ugliest', 'ugly', 'uhura', 'ultra', 'um', 'unacceptable', 'unacceptible', 'unaccompanied', 'unbearable', 'unbearably', 'unbelievable', 'unbelievably', 'uncalled', 'uncomfortable', 'unconditional', 'unconvincing', 'under', 'underacting', 'underappreciated', 'underbite', 'undercooked', 'underlines', 'underlying', 'underneath', 'underrated', 'understand', 'understanding', 'understated', 'understatement', 'understood', 'undertone', 'underwater', 'underwhelming', 'undoubtedly', 'uneasy', 'unemployed', 'unethical', 'unexperienced', 'unfaithful', 'unfolds', 'unforgettable', 'unfortunate', 'unfortunately', 'unfunny', 'unhappy', 'unhealthy', 'uninspired', 'unintelligible', 'unintentionally', 'uninteresting', 'union', 'unique', 'uniqueness', 'unit', 'units', 'universal', 'universe', 'unknown', 'unless', 'unlike', 'unlockable', 'unmatched', 'unmitigated', 'unmoving', 'unnecessary', 'unneeded', 'unoriginal', 'unpleasant', 'unpredictability', 'unpredictable', 'unprofessional', 'unreal', 'unrealistic', 'unrecognizable', 'unrecommended', 'unreliable', 'unremarkable', 'unrestrained', 'unsatisfactory', 'unsatisfying', 'until', 'untoasted', 'unusable', 'unwatchable', 'unwelcome', 'unwrapped', 'up', 'upa', 'upbeat', 'update', 'upgrade', 'upgrading', 'uplifting', 'upload', 'uploaded', 'upper', 'ups', 'upstairs', 'uptight', 'ursula', 'us', 'usable', 'usage', 'usb', 'use', 'used', 'useful', 'usefulness', 'useless', 'user', 'uses', 'using', 'ussr', 'usual', 'usually', 'utter', 'utterly', 'v1', 'v265', 'v325i', 'v3c', 'v3i', 'vacant', 'vain', 'valentine', 'valley', 'value', 'values', 'vampire', 'vandiver', 'vanilla', 'variation', 've', 'veal', 'vegan', 'vegas', 'vegetables', 'vegetarian', 'veggie', 'veggitarian', 'vehicle', 'vehicles', 'velvet', 'ventilation', 'ventura', 'venture', 'venturing', 'venue', 'verbal', 'verbatim', 'verge', 'verizon', 'versatile', 'version', 'versus', 'very', 'vessel', 'veteran', 'vey', 'via', 'vibe', 'victor', 'video', 'videos', 'view', 'viewer', 'viewing', 'views', 'villain', 'villains', 'vinaigrette', 'vinegrette', 'violence', 'violin', 'violinists', 'virgin', 'virtue', 'virus', 'vision', 'visit', 'visited', 'visor', 'visual', 'visually', 'vitally', 'vivian', 'vivid', 'vocal', 'vodka', 'voice', 'volatile', 'volcano', 'voltage', 'volume', 'vomit', 'vomited', 'voodoo', 'voted', 'voyage', 'vulcan', 'vx', 'vx9900', 'w810i', 'waaaaaayyyyyyyyyy', 'waaay', 'wagyu', 'wait', 'waited', 'waiter', 'waiting', 'waitress', 'waitresses', 'wake', 'walk', 'walked', 'walkman', 'wall', 'wallet', 'walls', 'want', 'wanted', 'wanting', 'wants', 'war', 'warm', 'warmer', 'warmth', 'warn', 'warning', 'warnings', 'warranty', 'wartime', 'warts', 'was', 'wash', 'washed', 'washing', 'wasn', 'waste', 'wasted', 'waster', 'wasting', 'watch', 'watchable', 'watched', 'watching', 'water', 'watered', 'waterproof', 'watkins', 'watson', 'wave', 'way', 'waylaid', 'wayne', 'ways', 'wayyy', 'wb', 'we', 'weak', 'weaker', 'wear', 'weariness', 'wearing', 'weaving', 'web', 'website', 'websites', 'wedding', 'wedges', 'week', 'weekend', 'weekly', 'weeks', 'weight', 'weird', 'welcome', 'well', 'welsh', 'went', 'were', 'weren', 'what', 'whatever', 'whatsoever', 'whelm', 'when', 'whenever', 'where', 'whether', 'which', 'while', 'whine', 'whiny', 'whistles', 'white', 'whites', 'who', 'whoa', 'whoever', 'whole', 'wholesome', 'whom', 'whose', 'why', 'wi', 'wide', 'widmark', 'wienerschnitzel', 'wife', 'wih', 'wild', 'wildly', 'wilkinson', 'will', 'william', 'willie', 'wily', 'win', 'wind', 'window', 'windows', 'wine', 'wines', 'wings', 'winner', 'wiping', 'wire', 'wired', 'wirefly', 'wireless', 'wise', 'wish', 'wit', 'with', 'within', 'without', 'witnessed', 'witticisms', 'witty', 'woa', 'wobbly', 'women', 'won', 'wonder', 'wondered', 'wonderful', 'wonderfully', 'wong', 'wont', 'wontons', 'woo', 'wood', 'wooden', 'word', 'words', 'work', 'worked', 'worker', 'workers', 'working', 'works', 'world', 'worn', 'worries', 'worry', 'worse', 'worst', 'worth', 'worthless', 'worthwhile', 'worthy', 'would', 'wouldn', 'wouldnt', 'wound', 'woven', 'wow', 'wrap', 'wrapped', 'write', 'writer', 'writers', 'writing', 'written', 'wrong', 'wrongly', 'wrote', 'ya', 'yama', 'yardley', 'yawn', 'yay', 'yeah', 'year', 'years', 'yell', 'yellow', 'yellowtail', 'yelpers', 'yelps', 'yes', 'yet', 'you', 'young', 'younger', 'your', 'yourself', 'youthful', 'youtube', 'yucky', 'yukon', 'yum', 'yummy', 'yun', 'z500a', 'zero', 'zillion', 'zombie', 'zombiez']\n"
     ]
    },
    {
     "data": {
      "text/plain": [
       "<3000x5155 sparse matrix of type '<class 'numpy.float64'>'\n",
       "\twith 31578 stored elements in Compressed Sparse Row format>"
      ]
     },
     "execution_count": 63,
     "metadata": {},
     "output_type": "execute_result"
    }
   ],
   "source": [
    "vectorizer = TfidfVectorizer()\n",
    "v = vectorizer.fit_transform(X_2.sentence)\n",
    "print(vectorizer.get_feature_names())\n",
    "v"
   ]
  },
  {
   "cell_type": "code",
   "execution_count": 62,
   "metadata": {},
   "outputs": [
    {
     "name": "stdout",
     "output_type": "stream",
     "text": [
      "(3000, 5155)\n"
     ]
    }
   ],
   "source": [
    "print(v.shape)"
   ]
  },
  {
   "cell_type": "code",
   "execution_count": 81,
   "metadata": {},
   "outputs": [],
   "source": [
    "df_tfidf = pd.DataFrame(v.toarray(), columns=vectorizer.get_feature_names())"
   ]
  },
  {
   "cell_type": "code",
   "execution_count": 137,
   "metadata": {},
   "outputs": [
    {
     "data": {
      "text/html": [
       "<div>\n",
       "<style scoped>\n",
       "    .dataframe tbody tr th:only-of-type {\n",
       "        vertical-align: middle;\n",
       "    }\n",
       "\n",
       "    .dataframe tbody tr th {\n",
       "        vertical-align: top;\n",
       "    }\n",
       "\n",
       "    .dataframe thead th {\n",
       "        text-align: right;\n",
       "    }\n",
       "</style>\n",
       "<table border=\"1\" class=\"dataframe\">\n",
       "  <thead>\n",
       "    <tr style=\"text-align: right;\">\n",
       "      <th></th>\n",
       "      <th>00</th>\n",
       "      <th>10</th>\n",
       "      <th>100</th>\n",
       "      <th>11</th>\n",
       "      <th>12</th>\n",
       "      <th>13</th>\n",
       "      <th>15</th>\n",
       "      <th>15g</th>\n",
       "      <th>15pm</th>\n",
       "      <th>17</th>\n",
       "      <th>...</th>\n",
       "      <th>yucky</th>\n",
       "      <th>yukon</th>\n",
       "      <th>yum</th>\n",
       "      <th>yummy</th>\n",
       "      <th>yun</th>\n",
       "      <th>z500a</th>\n",
       "      <th>zero</th>\n",
       "      <th>zillion</th>\n",
       "      <th>zombie</th>\n",
       "      <th>zombiez</th>\n",
       "    </tr>\n",
       "  </thead>\n",
       "  <tbody>\n",
       "    <tr>\n",
       "      <td>0</td>\n",
       "      <td>0.0</td>\n",
       "      <td>0.0</td>\n",
       "      <td>0.0</td>\n",
       "      <td>0.0</td>\n",
       "      <td>0.0</td>\n",
       "      <td>0.0</td>\n",
       "      <td>0.0</td>\n",
       "      <td>0.0</td>\n",
       "      <td>0.0</td>\n",
       "      <td>0.0</td>\n",
       "      <td>...</td>\n",
       "      <td>0.0</td>\n",
       "      <td>0.0</td>\n",
       "      <td>0.0</td>\n",
       "      <td>0.0</td>\n",
       "      <td>0.0</td>\n",
       "      <td>0.0</td>\n",
       "      <td>0.0</td>\n",
       "      <td>0.0</td>\n",
       "      <td>0.0</td>\n",
       "      <td>0.0</td>\n",
       "    </tr>\n",
       "    <tr>\n",
       "      <td>1</td>\n",
       "      <td>0.0</td>\n",
       "      <td>0.0</td>\n",
       "      <td>0.0</td>\n",
       "      <td>0.0</td>\n",
       "      <td>0.0</td>\n",
       "      <td>0.0</td>\n",
       "      <td>0.0</td>\n",
       "      <td>0.0</td>\n",
       "      <td>0.0</td>\n",
       "      <td>0.0</td>\n",
       "      <td>...</td>\n",
       "      <td>0.0</td>\n",
       "      <td>0.0</td>\n",
       "      <td>0.0</td>\n",
       "      <td>0.0</td>\n",
       "      <td>0.0</td>\n",
       "      <td>0.0</td>\n",
       "      <td>0.0</td>\n",
       "      <td>0.0</td>\n",
       "      <td>0.0</td>\n",
       "      <td>0.0</td>\n",
       "    </tr>\n",
       "    <tr>\n",
       "      <td>2</td>\n",
       "      <td>0.0</td>\n",
       "      <td>0.0</td>\n",
       "      <td>0.0</td>\n",
       "      <td>0.0</td>\n",
       "      <td>0.0</td>\n",
       "      <td>0.0</td>\n",
       "      <td>0.0</td>\n",
       "      <td>0.0</td>\n",
       "      <td>0.0</td>\n",
       "      <td>0.0</td>\n",
       "      <td>...</td>\n",
       "      <td>0.0</td>\n",
       "      <td>0.0</td>\n",
       "      <td>0.0</td>\n",
       "      <td>0.0</td>\n",
       "      <td>0.0</td>\n",
       "      <td>0.0</td>\n",
       "      <td>0.0</td>\n",
       "      <td>0.0</td>\n",
       "      <td>0.0</td>\n",
       "      <td>0.0</td>\n",
       "    </tr>\n",
       "    <tr>\n",
       "      <td>3</td>\n",
       "      <td>0.0</td>\n",
       "      <td>0.0</td>\n",
       "      <td>0.0</td>\n",
       "      <td>0.0</td>\n",
       "      <td>0.0</td>\n",
       "      <td>0.0</td>\n",
       "      <td>0.0</td>\n",
       "      <td>0.0</td>\n",
       "      <td>0.0</td>\n",
       "      <td>0.0</td>\n",
       "      <td>...</td>\n",
       "      <td>0.0</td>\n",
       "      <td>0.0</td>\n",
       "      <td>0.0</td>\n",
       "      <td>0.0</td>\n",
       "      <td>0.0</td>\n",
       "      <td>0.0</td>\n",
       "      <td>0.0</td>\n",
       "      <td>0.0</td>\n",
       "      <td>0.0</td>\n",
       "      <td>0.0</td>\n",
       "    </tr>\n",
       "    <tr>\n",
       "      <td>4</td>\n",
       "      <td>0.0</td>\n",
       "      <td>0.0</td>\n",
       "      <td>0.0</td>\n",
       "      <td>0.0</td>\n",
       "      <td>0.0</td>\n",
       "      <td>0.0</td>\n",
       "      <td>0.0</td>\n",
       "      <td>0.0</td>\n",
       "      <td>0.0</td>\n",
       "      <td>0.0</td>\n",
       "      <td>...</td>\n",
       "      <td>0.0</td>\n",
       "      <td>0.0</td>\n",
       "      <td>0.0</td>\n",
       "      <td>0.0</td>\n",
       "      <td>0.0</td>\n",
       "      <td>0.0</td>\n",
       "      <td>0.0</td>\n",
       "      <td>0.0</td>\n",
       "      <td>0.0</td>\n",
       "      <td>0.0</td>\n",
       "    </tr>\n",
       "    <tr>\n",
       "      <td>...</td>\n",
       "      <td>...</td>\n",
       "      <td>...</td>\n",
       "      <td>...</td>\n",
       "      <td>...</td>\n",
       "      <td>...</td>\n",
       "      <td>...</td>\n",
       "      <td>...</td>\n",
       "      <td>...</td>\n",
       "      <td>...</td>\n",
       "      <td>...</td>\n",
       "      <td>...</td>\n",
       "      <td>...</td>\n",
       "      <td>...</td>\n",
       "      <td>...</td>\n",
       "      <td>...</td>\n",
       "      <td>...</td>\n",
       "      <td>...</td>\n",
       "      <td>...</td>\n",
       "      <td>...</td>\n",
       "      <td>...</td>\n",
       "      <td>...</td>\n",
       "    </tr>\n",
       "    <tr>\n",
       "      <td>2995</td>\n",
       "      <td>0.0</td>\n",
       "      <td>0.0</td>\n",
       "      <td>0.0</td>\n",
       "      <td>0.0</td>\n",
       "      <td>0.0</td>\n",
       "      <td>0.0</td>\n",
       "      <td>0.0</td>\n",
       "      <td>0.0</td>\n",
       "      <td>0.0</td>\n",
       "      <td>0.0</td>\n",
       "      <td>...</td>\n",
       "      <td>0.0</td>\n",
       "      <td>0.0</td>\n",
       "      <td>0.0</td>\n",
       "      <td>0.0</td>\n",
       "      <td>0.0</td>\n",
       "      <td>0.0</td>\n",
       "      <td>0.0</td>\n",
       "      <td>0.0</td>\n",
       "      <td>0.0</td>\n",
       "      <td>0.0</td>\n",
       "    </tr>\n",
       "    <tr>\n",
       "      <td>2996</td>\n",
       "      <td>0.0</td>\n",
       "      <td>0.0</td>\n",
       "      <td>0.0</td>\n",
       "      <td>0.0</td>\n",
       "      <td>0.0</td>\n",
       "      <td>0.0</td>\n",
       "      <td>0.0</td>\n",
       "      <td>0.0</td>\n",
       "      <td>0.0</td>\n",
       "      <td>0.0</td>\n",
       "      <td>...</td>\n",
       "      <td>0.0</td>\n",
       "      <td>0.0</td>\n",
       "      <td>0.0</td>\n",
       "      <td>0.0</td>\n",
       "      <td>0.0</td>\n",
       "      <td>0.0</td>\n",
       "      <td>0.0</td>\n",
       "      <td>0.0</td>\n",
       "      <td>0.0</td>\n",
       "      <td>0.0</td>\n",
       "    </tr>\n",
       "    <tr>\n",
       "      <td>2997</td>\n",
       "      <td>0.0</td>\n",
       "      <td>0.0</td>\n",
       "      <td>0.0</td>\n",
       "      <td>0.0</td>\n",
       "      <td>0.0</td>\n",
       "      <td>0.0</td>\n",
       "      <td>0.0</td>\n",
       "      <td>0.0</td>\n",
       "      <td>0.0</td>\n",
       "      <td>0.0</td>\n",
       "      <td>...</td>\n",
       "      <td>0.0</td>\n",
       "      <td>0.0</td>\n",
       "      <td>0.0</td>\n",
       "      <td>0.0</td>\n",
       "      <td>0.0</td>\n",
       "      <td>0.0</td>\n",
       "      <td>0.0</td>\n",
       "      <td>0.0</td>\n",
       "      <td>0.0</td>\n",
       "      <td>0.0</td>\n",
       "    </tr>\n",
       "    <tr>\n",
       "      <td>2998</td>\n",
       "      <td>0.0</td>\n",
       "      <td>0.0</td>\n",
       "      <td>0.0</td>\n",
       "      <td>0.0</td>\n",
       "      <td>0.0</td>\n",
       "      <td>0.0</td>\n",
       "      <td>0.0</td>\n",
       "      <td>0.0</td>\n",
       "      <td>0.0</td>\n",
       "      <td>0.0</td>\n",
       "      <td>...</td>\n",
       "      <td>0.0</td>\n",
       "      <td>0.0</td>\n",
       "      <td>0.0</td>\n",
       "      <td>0.0</td>\n",
       "      <td>0.0</td>\n",
       "      <td>0.0</td>\n",
       "      <td>0.0</td>\n",
       "      <td>0.0</td>\n",
       "      <td>0.0</td>\n",
       "      <td>0.0</td>\n",
       "    </tr>\n",
       "    <tr>\n",
       "      <td>2999</td>\n",
       "      <td>0.0</td>\n",
       "      <td>0.0</td>\n",
       "      <td>0.0</td>\n",
       "      <td>0.0</td>\n",
       "      <td>0.0</td>\n",
       "      <td>0.0</td>\n",
       "      <td>0.0</td>\n",
       "      <td>0.0</td>\n",
       "      <td>0.0</td>\n",
       "      <td>0.0</td>\n",
       "      <td>...</td>\n",
       "      <td>0.0</td>\n",
       "      <td>0.0</td>\n",
       "      <td>0.0</td>\n",
       "      <td>0.0</td>\n",
       "      <td>0.0</td>\n",
       "      <td>0.0</td>\n",
       "      <td>0.0</td>\n",
       "      <td>0.0</td>\n",
       "      <td>0.0</td>\n",
       "      <td>0.0</td>\n",
       "    </tr>\n",
       "  </tbody>\n",
       "</table>\n",
       "<p>3000 rows × 5155 columns</p>\n",
       "</div>"
      ],
      "text/plain": [
       "       00   10  100   11   12   13   15  15g  15pm   17  ...  yucky  yukon  \\\n",
       "0     0.0  0.0  0.0  0.0  0.0  0.0  0.0  0.0   0.0  0.0  ...    0.0    0.0   \n",
       "1     0.0  0.0  0.0  0.0  0.0  0.0  0.0  0.0   0.0  0.0  ...    0.0    0.0   \n",
       "2     0.0  0.0  0.0  0.0  0.0  0.0  0.0  0.0   0.0  0.0  ...    0.0    0.0   \n",
       "3     0.0  0.0  0.0  0.0  0.0  0.0  0.0  0.0   0.0  0.0  ...    0.0    0.0   \n",
       "4     0.0  0.0  0.0  0.0  0.0  0.0  0.0  0.0   0.0  0.0  ...    0.0    0.0   \n",
       "...   ...  ...  ...  ...  ...  ...  ...  ...   ...  ...  ...    ...    ...   \n",
       "2995  0.0  0.0  0.0  0.0  0.0  0.0  0.0  0.0   0.0  0.0  ...    0.0    0.0   \n",
       "2996  0.0  0.0  0.0  0.0  0.0  0.0  0.0  0.0   0.0  0.0  ...    0.0    0.0   \n",
       "2997  0.0  0.0  0.0  0.0  0.0  0.0  0.0  0.0   0.0  0.0  ...    0.0    0.0   \n",
       "2998  0.0  0.0  0.0  0.0  0.0  0.0  0.0  0.0   0.0  0.0  ...    0.0    0.0   \n",
       "2999  0.0  0.0  0.0  0.0  0.0  0.0  0.0  0.0   0.0  0.0  ...    0.0    0.0   \n",
       "\n",
       "      yum  yummy  yun  z500a  zero  zillion  zombie  zombiez  \n",
       "0     0.0    0.0  0.0    0.0   0.0      0.0     0.0      0.0  \n",
       "1     0.0    0.0  0.0    0.0   0.0      0.0     0.0      0.0  \n",
       "2     0.0    0.0  0.0    0.0   0.0      0.0     0.0      0.0  \n",
       "3     0.0    0.0  0.0    0.0   0.0      0.0     0.0      0.0  \n",
       "4     0.0    0.0  0.0    0.0   0.0      0.0     0.0      0.0  \n",
       "...   ...    ...  ...    ...   ...      ...     ...      ...  \n",
       "2995  0.0    0.0  0.0    0.0   0.0      0.0     0.0      0.0  \n",
       "2996  0.0    0.0  0.0    0.0   0.0      0.0     0.0      0.0  \n",
       "2997  0.0    0.0  0.0    0.0   0.0      0.0     0.0      0.0  \n",
       "2998  0.0    0.0  0.0    0.0   0.0      0.0     0.0      0.0  \n",
       "2999  0.0    0.0  0.0    0.0   0.0      0.0     0.0      0.0  \n",
       "\n",
       "[3000 rows x 5155 columns]"
      ]
     },
     "execution_count": 137,
     "metadata": {},
     "output_type": "execute_result"
    }
   ],
   "source": [
    "df_tfidf"
   ]
  },
  {
   "cell_type": "code",
   "execution_count": 82,
   "metadata": {
    "scrolled": true
   },
   "outputs": [
    {
     "data": {
      "text/plain": [
       "converter    0.398295\n",
       "unless       0.331879\n",
       "plug         0.308619\n",
       "in           0.295611\n",
       "us           0.275411\n",
       "way          0.249129\n",
       "go           0.231512\n",
       "me           0.228651\n",
       "no           0.223395\n",
       "by           0.223395\n",
       "here         0.222777\n",
       "there        0.207632\n",
       "so           0.187466\n",
       "for          0.156208\n",
       "to           0.127489\n",
       "is           0.120684\n",
       "it           0.119817\n",
       "the          0.086716\n",
       "features     0.000000\n",
       "feel         0.000000\n",
       "Name: 0, dtype: float64"
      ]
     },
     "execution_count": 82,
     "metadata": {},
     "output_type": "execute_result"
    }
   ],
   "source": [
    "df_tfidf.loc[0].sort_values(ascending=False)[:20]"
   ]
  },
  {
   "cell_type": "code",
   "execution_count": 83,
   "metadata": {},
   "outputs": [
    {
     "data": {
      "text/plain": [
       "0       0\n",
       "1       1\n",
       "2       1\n",
       "3       0\n",
       "4       1\n",
       "       ..\n",
       "2995    0\n",
       "2996    0\n",
       "2997    0\n",
       "2998    0\n",
       "2999    0\n",
       "Name: label, Length: 3000, dtype: object"
      ]
     },
     "execution_count": 83,
     "metadata": {},
     "output_type": "execute_result"
    }
   ],
   "source": [
    "X_2['label']"
   ]
  },
  {
   "cell_type": "code",
   "execution_count": 80,
   "metadata": {},
   "outputs": [],
   "source": [
    "from sklearn.model_selection import train_test_split\n",
    "\n",
    "X = df_tfidf\n",
    "y = X_2['label']\n",
    "\n",
    "# split train and test data\n",
    "X_train, X_test, y_train, y_test = train_test_split(X, y, test_size=0.33, random_state=42)"
   ]
  },
  {
   "cell_type": "markdown",
   "metadata": {},
   "source": [
    "## Naive Bayes classifier"
   ]
  },
  {
   "cell_type": "code",
   "execution_count": 89,
   "metadata": {},
   "outputs": [
    {
     "name": "stdout",
     "output_type": "stream",
     "text": [
      "Number of mislabeled points out of a total 2010 points : 80\n",
      "Number of mislabeled points out of a total 990 points : 0\n"
     ]
    }
   ],
   "source": [
    "from sklearn.datasets import make_classification\n",
    "\n",
    "nb_samples = 300\n",
    "X, Y = make_classification(n_samples=nb_samples, n_features=2, n_informative=2, n_redundant=0)\n",
    "from sklearn.naive_bayes import GaussianNB\n",
    "gnb = GaussianNB()\n",
    "gnb = gnb.fit(X_train, y_train)\n",
    "y_pred = gnb.predict(X_train)\n",
    "y_test_pred = gnb.predict(X_test)\n",
    "print(\"Number of mislabeled points out of a total %d points : %d\"\n",
    "      % (X_train.shape[0],(y_train != y_pred).sum()))\n",
    "print(\"Number of mislabeled points out of a total %d points : %d\"\n",
    "      % (X_test.shape[0],(y_test_pred != y_test).sum()))"
   ]
  },
  {
   "cell_type": "markdown",
   "metadata": {},
   "source": [
    "### Comment here"
   ]
  },
  {
   "cell_type": "code",
   "execution_count": null,
   "metadata": {},
   "outputs": [],
   "source": []
  },
  {
   "cell_type": "code",
   "execution_count": null,
   "metadata": {},
   "outputs": [],
   "source": []
  },
  {
   "cell_type": "code",
   "execution_count": 115,
   "metadata": {},
   "outputs": [
    {
     "data": {
      "text/plain": [
       "(2010, 5155)"
      ]
     },
     "execution_count": 115,
     "metadata": {},
     "output_type": "execute_result"
    }
   ],
   "source": [
    "count_vect.shape"
   ]
  },
  {
   "cell_type": "markdown",
   "metadata": {},
   "source": [
    "## Word frequency features\n"
   ]
  },
  {
   "cell_type": "code",
   "execution_count": 116,
   "metadata": {},
   "outputs": [
    {
     "data": {
      "text/plain": [
       "'So there is no way for me to plug it in here in the US unless I go by a converter.'"
      ]
     },
     "execution_count": 116,
     "metadata": {},
     "output_type": "execute_result"
    }
   ],
   "source": [
    "X_2.sentence[0]"
   ]
  },
  {
   "cell_type": "code",
   "execution_count": 118,
   "metadata": {},
   "outputs": [
    {
     "name": "stdout",
     "output_type": "stream",
     "text": [
      "[[0 0 0 ... 0 0 0]\n",
      " [0 0 0 ... 0 0 0]\n",
      " [0 0 0 ... 0 0 0]\n",
      " ...\n",
      " [0 0 0 ... 0 0 0]\n",
      " [0 0 0 ... 0 0 0]\n",
      " [0 0 0 ... 0 0 0]]\n"
     ]
    }
   ],
   "source": [
    "#count_vect = CountVectorizer()\n",
    "X_2_BoW = count_vect2.fit_transform(X_2.sentence).toarray()\n",
    "#analyze = count_vect2.build_analyzer()\n",
    "#count_vect2.get_feature_names()[0:38]\n",
    "#X2_array = X2_counts[0:5, 0:200].toarray()\n",
    "print(X_2_BoW)"
   ]
  },
  {
   "cell_type": "code",
   "execution_count": 119,
   "metadata": {},
   "outputs": [],
   "source": [
    "# split train and test data\n",
    "\n",
    "y = X_2['label']\n",
    "\n",
    "X_train_BoW, X_test_BoW, y_train_BoW, y_test_BoW = train_test_split(X_2_BoW, y)"
   ]
  },
  {
   "cell_type": "code",
   "execution_count": 120,
   "metadata": {},
   "outputs": [
    {
     "data": {
      "text/plain": [
       "(2250, 5155)"
      ]
     },
     "execution_count": 120,
     "metadata": {},
     "output_type": "execute_result"
    }
   ],
   "source": [
    "X_train_BoW.shape"
   ]
  },
  {
   "cell_type": "code",
   "execution_count": 121,
   "metadata": {},
   "outputs": [
    {
     "data": {
      "text/plain": [
       "(750, 5155)"
      ]
     },
     "execution_count": 121,
     "metadata": {},
     "output_type": "execute_result"
    }
   ],
   "source": [
    "X_test_BoW.shape"
   ]
  },
  {
   "cell_type": "code",
   "execution_count": 123,
   "metadata": {},
   "outputs": [
    {
     "name": "stdout",
     "output_type": "stream",
     "text": [
      "Number of mislabeled points out of a total 2010 points : 274\n",
      "Number of mislabeled points out of a total 990 points : 247\n"
     ]
    }
   ],
   "source": [
    "gnb = GaussianNB()\n",
    "gnb = gnb.fit(X_train_BoW, y_train_BoW)\n",
    "y_train_pred = gnb.predict(X_train_BoW)\n",
    "y_test_pred = gnb.predict(X_test_BoW)\n",
    "print(\"Number of mislabeled points out of a total %d points : %d\"\n",
    "      % (X_train.shape[0],(y_train_BoW != y_train_pred).sum()))\n",
    "print(\"Number of mislabeled points out of a total %d points : %d\"\n",
    "      % (X_test.shape[0],(y_test_pred != y_test_BoW).sum()))"
   ]
  },
  {
   "cell_type": "code",
   "execution_count": null,
   "metadata": {},
   "outputs": [],
   "source": []
  }
 ],
 "metadata": {
  "kernelspec": {
   "display_name": "Python 3",
   "language": "python",
   "name": "python3"
  },
  "language_info": {
   "codemirror_mode": {
    "name": "ipython",
    "version": 3
   },
   "file_extension": ".py",
   "mimetype": "text/x-python",
   "name": "python",
   "nbconvert_exporter": "python",
   "pygments_lexer": "ipython3",
   "version": "3.7.0"
  }
 },
 "nbformat": 4,
 "nbformat_minor": 2
}
